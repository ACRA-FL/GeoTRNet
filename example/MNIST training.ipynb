{
 "cells": [
  {
   "cell_type": "markdown",
   "metadata": {
    "pycharm": {
     "name": "#%% md\n"
    }
   },
   "source": [
    "\n",
    "\n",
    "## Experiment Details\n",
    "__Experiment Id__ : 006 \\\n",
    "__Target__ : Experiment model on MNIST dataset with random spaces \\\n",
    "__Solution__ : \n",
    "- create MNIST sticker set with random spaces\n",
    "- train and test model on new dataset\n",
    "\n",
    "__Empirical result__ : \n",
    "- "
   ]
  },
  {
   "cell_type": "markdown",
   "metadata": {
    "pycharm": {
     "name": "#%% md\n"
    }
   },
   "source": [
    "---\n",
    "Implementation"
   ]
  },
  {
   "cell_type": "code",
   "execution_count": 1,
   "metadata": {
    "pycharm": {
     "name": "#%%\n"
    }
   },
   "outputs": [],
   "source": [
    "import tensorflow as tf \n",
    "from tensorflow.keras import layers\n",
    "from tensorflow.keras import losses\n",
    "from tcn import TCN\n",
    "\n",
    "from tqdm import tqdm\n",
    "import time\n",
    "import math\n",
    "import random \n",
    "import pandas as pd \n",
    "import numpy as np\n",
    "from skimage import io, transform \n",
    "import matplotlib.pyplot as plt\n",
    "import seaborn as sns\n",
    "import cv2\n",
    "import json\n",
    "\n",
    "import tensorflow_datasets as tfds\n",
    "import neptune.new as neptune"
   ]
  },
  {
   "cell_type": "markdown",
   "metadata": {
    "pycharm": {
     "name": "#%% md\n"
    }
   },
   "source": [
    "---\n",
    "Set global variables"
   ]
  },
  {
   "cell_type": "code",
   "execution_count": 2,
   "metadata": {
    "pycharm": {
     "name": "#%%\n"
    }
   },
   "outputs": [
    {
     "data": {
      "text/plain": [
       "[PhysicalDevice(name='/physical_device:GPU:0', device_type='GPU')]"
      ]
     },
     "execution_count": 2,
     "metadata": {},
     "output_type": "execute_result"
    }
   ],
   "source": [
    "gpu_available = tf.config.list_physical_devices('GPU')\n",
    "gpu_available"
   ]
  },
  {
   "cell_type": "code",
   "execution_count": 3,
   "metadata": {
    "pycharm": {
     "name": "#%%\n"
    }
   },
   "outputs": [],
   "source": [
    "IMAGE_SIZE = (128,48)\n",
    "DATA_BS = 10\n",
    "DATA_N = 10\n",
    "LR = 0.01\n",
    "EPOCHS = 20\n",
    "BS = 32\n",
    "N_CLASSES = 11"
   ]
  },
  {
   "cell_type": "markdown",
   "metadata": {
    "pycharm": {
     "name": "#%% md\n"
    }
   },
   "source": [
    "---\n",
    "Dataset & Dataloader"
   ]
  },
  {
   "cell_type": "code",
   "execution_count": 4,
   "metadata": {
    "collapsed": false,
    "pycharm": {
     "name": "#%%\n"
    }
   },
   "outputs": [],
   "source": [
    "from PIL import Image\n",
    "import matplotlib.pyplot as plt\n",
    "from numpy import newaxis"
   ]
  },
  {
   "cell_type": "code",
   "execution_count": 5,
   "metadata": {
    "collapsed": false,
    "pycharm": {
     "name": "#%%\n"
    }
   },
   "outputs": [
    {
     "name": "stderr",
     "output_type": "stream",
     "text": [
      "Load dataset info from ~\\tensorflow_datasets\\mnist\\3.0.1\n",
      "Field info.citation from disk and from code do not match. Keeping the one from code.\n",
      "Field info.splits from disk and from code do not match. Keeping the one from code.\n",
      "Field info.supervised_keys from disk and from code do not match. Keeping the one from code.\n",
      "Field info.module_name from disk and from code do not match. Keeping the one from code.\n",
      "Reusing dataset mnist (~\\tensorflow_datasets\\mnist\\3.0.1)\n",
      "Constructing tf.data.Dataset mnist for split ['train', 'test'], from ~\\tensorflow_datasets\\mnist\\3.0.1\n"
     ]
    }
   ],
   "source": [
    "(ds_train, ds_test), info = tfds.load('mnist', split=['train', 'test'], with_info=True)\n",
    "train_gen = tfds.as_numpy(ds_train)\n",
    "test_gen = tfds.as_numpy(ds_test)"
   ]
  },
  {
   "cell_type": "code",
   "execution_count": 6,
   "metadata": {
    "pycharm": {
     "name": "#%%\n"
    }
   },
   "outputs": [],
   "source": [
    "class MNISTDataset(object):\n",
    "\n",
    "    def __init__(self, n_digits=8, image_size=(156, 32)):\n",
    "        self.n_digits = n_digits\n",
    "        self.image_size = image_size\n",
    "\n",
    "    def gen_data(self, gen):\n",
    "        images, labels = [], []\n",
    "        for x in gen:\n",
    "            images.append(x['image'])\n",
    "            labels.append(x['label'])\n",
    "        self.pt_size = x['image'].shape[0]\n",
    "        images, labels = np.squeeze(np.array(images)), np.squeeze(np.array(labels))#; print(images.shape,labels.shape,labels)\n",
    "        return images, labels\n",
    "\n",
    "    def gen_patch(self, img, ann, c=np.inf):\n",
    "        size = img.shape[0]\n",
    "        indexes = np.arange(size)\n",
    "        np.random.shuffle(indexes)\n",
    "        \n",
    "        c_prime = divmod(size, self.n_digits)[0]*self.n_digits\n",
    "        if c_prime < c:\n",
    "            size = c_prime\n",
    "        else:\n",
    "            size = divmod(c, self.n_digits)[0]*self.n_digits\n",
    "\n",
    "        sample_index = indexes[:size]\n",
    "        sticker_index = sample_index.reshape((-1, self.n_digits)).T\n",
    "        sticker_images = np.transpose(np.hstack([np.transpose(img[inds], (0, 2, 1)) for inds in sticker_index]), (0, 2, 1))\n",
    "        sfl_label =  ann[sample_index, ...]\n",
    "        sticker_labels = sfl_label.reshape((-1, self.n_digits))\n",
    "        return sticker_images, sticker_labels\n",
    "\n",
    "    def add_spaces(self, img, ann, n=1000):\n",
    "        # print(img.shape, ann.shape)\n",
    "        image_pt = np.zeros((n, self.pt_size, self.pt_size))\n",
    "        label_pt = np.ones((n,))*10\n",
    "        all_images = np.concatenate([img, image_pt], axis=0)\n",
    "        all_labels = np.concatenate([ann, label_pt], axis=0)\n",
    "        # print(all_images.shape, all_labels.shape)\n",
    "        return all_images, all_labels\n",
    "\n",
    "    def generate(self, data_generator, n_sample):\n",
    "        init_image, init_label = self.gen_data(data_generator)\n",
    "        imgWspace, labelWspace = self.add_spaces(init_image, init_label)\n",
    "        c = n_sample\n",
    "        dt_images, dt_labels = self.gen_patch(imgWspace, labelWspace, c)\n",
    "        while c > self.n_digits:\n",
    "            c = n_sample - dt_images.shape[0]\n",
    "            p_images, p_labels = self.gen_patch(imgWspace, labelWspace, c)\n",
    "            dt_images, dt_labels = np.vstack((dt_images, p_images)), np.vstack((dt_labels, p_labels))\n",
    "\n",
    "        ret_tensor = tf.convert_to_tensor(np.swapaxes(dt_images, 1, 2), dtype=tf.float32);print(dt_images.shape,dt_labels.shape)\n",
    "        ind_tensor = tf.convert_to_tensor(dt_labels, dtype=tf.int32)\n",
    "        dataset = tf.data.Dataset.from_tensor_slices((ret_tensor, ind_tensor))\n",
    "        return dataset"
   ]
  },
  {
   "cell_type": "code",
   "execution_count": 7,
   "metadata": {
    "pycharm": {
     "name": "#%%\n"
    }
   },
   "outputs": [],
   "source": [
    "mnist = MNISTDataset()"
   ]
  },
  {
   "cell_type": "code",
   "execution_count": 8,
   "metadata": {
    "pycharm": {
     "name": "#%%\n"
    }
   },
   "outputs": [
    {
     "name": "stdout",
     "output_type": "stream",
     "text": [
      "(11993, 28, 224) (11993, 8)\n",
      "(1993, 28, 224) (1993, 8)\n"
     ]
    }
   ],
   "source": [
    "train_dataset = mnist.generate(train_gen, n_sample=12_000)\n",
    "test_dataset = mnist.generate(test_gen, n_sample=2000)"
   ]
  },
  {
   "cell_type": "code",
   "execution_count": 9,
   "metadata": {
    "pycharm": {
     "name": "#%%\n"
    }
   },
   "outputs": [
    {
     "name": "stdout",
     "output_type": "stream",
     "text": [
      "(224, 28)\n",
      "[10  5  7  7  5  3  5 10]\n"
     ]
    },
    {
     "data": {
      "image/png": "[encoded data removed]",
      "text/plain": [
       "<Figure size 432x288 with 1 Axes>"
      ]
     },
     "metadata": {
      "needs_background": "light"
     },
     "output_type": "display_data"
    }
   ],
   "source": [
    "for i in test_dataset.take(1):\n",
    "    img, label = i\n",
    "print(img.shape)\n",
    "print(label.numpy())\n",
    "plt.imshow(img.numpy().T)\n",
    "IMAGE_SIZE = img.shape"
   ]
  },
  {
   "cell_type": "code",
   "execution_count": 10,
   "metadata": {
    "pycharm": {
     "name": "#%%\n"
    }
   },
   "outputs": [],
   "source": [
    "train_loader = train_dataset.shuffle(buffer_size=1000).batch(BS, drop_remainder=True).prefetch(buffer_size=tf.data.AUTOTUNE)\n",
    "valid_loader = test_dataset.batch(BS, drop_remainder=True).prefetch(buffer_size=tf.data.AUTOTUNE)"
   ]
  },
  {
   "cell_type": "markdown",
   "metadata": {
    "pycharm": {
     "name": "#%% md\n"
    }
   },
   "source": [
    "---\n",
    "Model Defining"
   ]
  },
  {
   "cell_type": "code",
   "execution_count": 11,
   "metadata": {},
   "outputs": [],
   "source": [
    "class mAP(tf.keras.metrics.Metric):\n",
    "    def __init__(self, name='mAP', alpha=0.9, **kwargs):\n",
    "        super(mAP, self).__init__(name=name, **kwargs)\n",
    "        self.map = self.add_weight(name='map', initializer='zeros')\n",
    "        self.alpha = alpha\n",
    "\n",
    "    def update_state(self, y_true, y_pred):\n",
    "        y_true = tf.cast(y_true, tf.int32)\n",
    "        y_pred = tf.cast(y_pred, tf.float32)\n",
    "        alpha = tf.constant(self.alpha, dtype=tf.float32)\n",
    "        alpha_prime = tf.constant(1-self.alpha, dtype=tf.float32)\n",
    "\n",
    "        res_arr = tf.map_fn(lambda i: tf.math.reduce_mean(tf.keras.metrics.sparse_categorical_accuracy(y_true[i, ...], y_pred[i, ...])), elems=tf.range(y_pred.shape[0]), dtype=tf.float32)\n",
    "        tensor_without_nans = tf.where(tf.math.is_nan(res_arr), tf.zeros_like(res_arr), res_arr)\n",
    "        cur_val = tf.math.reduce_mean(tensor_without_nans, axis=-1)\n",
    "        weighted_avg = tf.math.add(tf.multiply(alpha, self.map), tf.multiply(alpha_prime, cur_val))\n",
    "        self.map.assign(weighted_avg)\n",
    "\n",
    "    def result(self):\n",
    "        return self.map\n"
   ]
  },
  {
   "cell_type": "code",
   "execution_count": 12,
   "metadata": {},
   "outputs": [],
   "source": [
    "class mDP(tf.keras.metrics.Metric):\n",
    "    def __init__(self, name='mDP', n_classes=10, alpha=0.9, **kwargs):\n",
    "        super(mDP, self).__init__(name=name, **kwargs)\n",
    "        self.n = n_classes\n",
    "        self.alpha = alpha\n",
    "        self.mdp = self.add_weight(name='mdp', initializer='zeros')\n",
    "\n",
    "    def update_state(self, y_true, y_pred):\n",
    "        y_true = tf.cast(y_true, tf.int32)\n",
    "        y_pred = tf.cast(y_pred, tf.float32)\n",
    "        alpha = tf.constant(self.alpha, dtype=tf.float32)\n",
    "        alpha_prime = tf.constant(1-self.alpha, dtype=tf.float32)\n",
    "\n",
    "        def func(i):\n",
    "            mask = tf.equal(y_true, tf.constant(i))\n",
    "            ilabels = tf.reshape(tf.boolean_mask(y_true,mask), shape=(-1))\n",
    "            ipreds = tf.reshape(tf.boolean_mask(y_pred,mask), shape=(-1, self.n))\n",
    "            return tf.math.reduce_mean(tf.keras.metrics.sparse_categorical_accuracy(ilabels, ipreds))\n",
    "\n",
    "        res_arr = tf.map_fn(lambda i: func(i), elems=tf.range(self.n), dtype=tf.float32)\n",
    "        tensor_without_nans = tf.where(tf.math.is_nan(res_arr), tf.zeros_like(res_arr), res_arr)\n",
    "        cur_val = tf.math.reduce_mean(tensor_without_nans, axis=-1)\n",
    "        weighted_avg = tf.math.add(tf.multiply(alpha, self.mdp), tf.multiply(alpha_prime, cur_val))\n",
    "        self.mdp.assign(weighted_avg)\n",
    "\n",
    "    def result(self):\n",
    "        return self.mdp"
   ]
  },
  {
   "cell_type": "code",
   "execution_count": 13,
   "metadata": {
    "pycharm": {
     "name": "#%%\n"
    }
   },
   "outputs": [],
   "source": [
    "class RecNet(tf.keras.Model):\n",
    "\tdef __init__(self, bs=16, input_size=(128, 48), n_classes=10, h_cell=64, latent_size=32, max_obj=15, linear_k=3, rho=0.05):\n",
    "\t\tsuper().__init__()\n",
    "\t\tself.rho = rho\n",
    "\t\tself.bs = bs\n",
    "\t\tself.input_size = input_size\n",
    "\t\tself.n_classes = n_classes  # LSTM module projection size\n",
    "\t\tself.h_cell = h_cell  # LSTM hidden size\n",
    "\t\tself.latent_size = latent_size\n",
    "\t\tself.max_obj = max_obj\n",
    "\t\tself.linear_k = linear_k\n",
    "\t\tself.model = self.build_model(\n",
    "\t\t\tself.input_size, self.h_cell, self.latent_size, self.n_classes, self.max_obj, self.linear_k)\n",
    "\n",
    "\t\tself.scce = losses.SparseCategoricalCrossentropy(from_logits=False,)\n",
    "\n",
    "\t\tself.loss_metric = tf.keras.metrics.Mean(name=\"loss\")\n",
    "\t\tself.acc_metric = tf.keras.metrics.Mean(name=\"accuracy\")\n",
    "\t\tself.acc_mat = tf.keras.metrics.Accuracy()\n",
    "\t\tself.mAP = mAP()\n",
    "\t\tself.mDP = mDP(n_classes=self.n_classes)\n",
    "\n",
    "\n",
    "\tdef build_model(self, input_shape=(128, 48), h_cell=32, latent_size=32, n_classes=10, n_obj=10, linear_k=3):\n",
    "\t\tx_input = layers.Input(shape=input_shape)\n",
    "\t\tforward_layer = layers.LSTM(h_cell//2, return_sequences=True)\n",
    "\t\tx = layers.Bidirectional(forward_layer, input_shape=self.input_size)(x_input)\n",
    "\t\tx = layers.LSTM(latent_size, activation='tanh',\n",
    "\t\t\t\t\t\treturn_sequences=True, go_backwards=True)(x)\n",
    "\t\tx = layers.Conv1D(n_classes, linear_k, activation='tanh')(x)\n",
    "\t\tx = layers.Permute((2, 1))(x)\n",
    "\t\tx = layers.Conv1D(n_obj, 1, activation='tanh')(x)\n",
    "\t\tx = layers.Permute((2, 1))(x)\n",
    "\t\tx_output = layers.Activation('softmax')(x)\n",
    "\n",
    "\t\tmodel = tf.keras.Model(inputs=x_input, outputs=x_output)\n",
    "\t\treturn model\n",
    "\n",
    "\t@property\n",
    "\tdef metrics(self):\n",
    "\t\treturn [self.loss_metric, self.acc_mat]\n",
    "\n",
    "\tdef calculate_loss(self, target, pred):\n",
    "\t\ttarget = tf.reshape(target, shape=(-1))\n",
    "\t\tpred = tf.reshape(pred, shape=(-1, self.n_classes))\n",
    "\t\tloss = self.scce(target, pred)\n",
    "\n",
    "\t\ty_hat = tf.argmax(pred, axis=-1)\n",
    "\t\tacc = self.acc_mat(y_hat, target)\n",
    "\t\treturn loss, acc\n",
    "\n",
    "\tdef call(self, x):\n",
    "\t\tfull_out = self.model(x)\n",
    "\t\treturn full_out\n",
    "\n",
    "\tdef train_step(self, batch_data):\n",
    "\t\tx, target = batch_data\n",
    "\t\te_ws = []\n",
    "\t\twith tf.GradientTape() as tape:\n",
    "\t\t\tpred = self(x, training=True)\n",
    "\t\t\t# print(pred.shape, pred)\n",
    "\t\t\tloss, acc = self.calculate_loss(target, pred)\n",
    "\n",
    "\t\ttrainable_params = self.trainable_variables\n",
    "\t\tgradients = tape.gradient(loss, trainable_params)\n",
    "\t\tgrad_norm = self._grad_norm(gradients)\n",
    "\t\tscale = self.rho / (grad_norm + 1e-12)\n",
    "\n",
    "\t\tfor (grad, param) in zip(gradients, trainable_params):\n",
    "\t\t\te_w = grad*scale \n",
    "\t\t\tparam.assign_add(e_w)\n",
    "\t\t\te_ws.append(e_w)\n",
    "\n",
    "\t\twith tf.GradientTape() as tape:\n",
    "\t\t\tpred = self(x, training=True)\n",
    "\t\t\tloss, acc = self.calculate_loss(target, pred)\n",
    "\n",
    "\t\tsam_gradient = tape.gradient(loss, trainable_params)\n",
    "\t\tfor (param, e_w) in zip(trainable_params, e_ws):\n",
    "\t\t\tparam.assign_sub(e_w)\n",
    "\n",
    "\t\tself.optimizer.apply_gradients(zip(sam_gradient, trainable_params))\n",
    "\t\tself.loss_metric.update_state(loss)\n",
    "\t\tself.acc_metric.update_state(acc)\n",
    "\t\tself.mAP.update_state(target, pred)\n",
    "\t\tself.mDP.update_state(target, pred)\n",
    "\t\treturn {\n",
    "\t\t\t\"loss\": self.loss_metric.result(),\n",
    "\t\t\t\"accuracy\": self.acc_mat.result(),\n",
    "\t\t\t\"mAP\": self.mAP.result(),\n",
    "\t\t\t\"mDP\": self.mDP.result()\n",
    "\t\t}\n",
    "\n",
    "\tdef test_step(self, batch_data):\n",
    "\t\tx, target = batch_data\n",
    "\n",
    "\t\tpred = self(x, training=False)\n",
    "\t\tloss, acc = self.calculate_loss(target, pred)\n",
    "\n",
    "\t\tself.loss_metric.update_state(loss)\n",
    "\t\tself.acc_metric.update_state(acc)\n",
    "\t\tself.mAP.update_state(target, pred)\n",
    "\t\tself.mDP.update_state(target, pred)\n",
    "\t\treturn {\n",
    "\t\t\t\"loss\": self.loss_metric.result(),\n",
    "\t\t\t\"accuracy\": self.acc_mat.result(),\n",
    "\t\t\t\"mAP\": self.mAP.result(),\n",
    "\t\t\t\"mDP\": self.mDP.result()\n",
    "\t\t}\n",
    "\t\n",
    "\tdef _grad_norm(self, gradients):\n",
    "\t\tnorm = tf.norm(\n",
    "\t\t\ttf.stack([\n",
    "\t\t\t\ttf.norm(grad) for grad in gradients if grad is not None\n",
    "\t\t\t])\n",
    "\t\t)\n",
    "\t\treturn norm\n"
   ]
  },
  {
   "cell_type": "markdown",
   "metadata": {
    "pycharm": {
     "name": "#%% md\n"
    }
   },
   "source": [
    "---\n",
    "Set up model training details"
   ]
  },
  {
   "cell_type": "code",
   "execution_count": 14,
   "metadata": {
    "pycharm": {
     "name": "#%%\n"
    }
   },
   "outputs": [],
   "source": [
    "def lr_time_based_decay(epoch, lr):\n",
    "    decay = 0.001\n",
    "    return lr * 1 / (1 + decay * epoch)\n",
    "\n",
    "def lr_step_decay(epoch, lr):\n",
    "    drop_rate = 0.5\n",
    "    epochs_drop = 10.0\n",
    "    return LR * math.pow(drop_rate, math.floor(epoch/epochs_drop))\n",
    "\n",
    "def lr_exp_decay(epoch, lr):\n",
    "    k = 0.1\n",
    "    return LR * math.exp(-k*epoch)\n",
    "\n",
    "decay_steps = 1000\n",
    "# lr_decayed_fn = tf.keras.optimizers.schedules.CosineDecay(\n",
    "#     LR, decay_steps)\n",
    "\n",
    "lr_decaying_callback = tf.keras.callbacks.LearningRateScheduler(lr_exp_decay, verbose=1)"
   ]
  },
  {
   "cell_type": "code",
   "execution_count": 15,
   "metadata": {
    "pycharm": {
     "name": "#%%\n"
    }
   },
   "outputs": [],
   "source": [
    "earlystopping_callback = tf.keras.callbacks.EarlyStopping(\n",
    "                            monitor='val_accuracy',\n",
    "                            min_delta=0,\n",
    "                            patience=5,\n",
    "                            restore_best_weights=True\n",
    "                        )"
   ]
  },
  {
   "cell_type": "code",
   "execution_count": 16,
   "metadata": {
    "pycharm": {
     "name": "#%%\n"
    }
   },
   "outputs": [],
   "source": [
    "optimizer = tf.keras.optimizers.Adam(\n",
    "    learning_rate=LR,\n",
    ")"
   ]
  },
  {
   "cell_type": "code",
   "execution_count": 17,
   "metadata": {
    "pycharm": {
     "name": "#%%\n"
    }
   },
   "outputs": [],
   "source": [
    "# model = RecNet(bs=BS)\n",
    "model = RecNet(input_size=IMAGE_SIZE,\n",
    "                bs=BS,\n",
    "                n_classes=11,\n",
    "                h_cell=32,\n",
    "                latent_size=32,\n",
    "                max_obj=8,\n",
    "                linear_k=3)\n",
    "model.compile(optimizer, loss='categorical_crossentropy', run_eagerly=True)"
   ]
  },
  {
   "cell_type": "code",
   "execution_count": 18,
   "metadata": {},
   "outputs": [
    {
     "name": "stdout",
     "output_type": "stream",
     "text": [
      "Model: \"model\"\n",
      "_________________________________________________________________\n",
      " Layer (type)                Output Shape              Param #   \n",
      "=================================================================\n",
      " input_1 (InputLayer)        [(None, 224, 28)]         0         \n",
      "                                                                 \n",
      " bidirectional (Bidirectiona  (None, 224, 32)          5760      \n",
      " l)                                                              \n",
      "                                                                 \n",
      " lstm_1 (LSTM)               (None, 224, 32)           8320      \n",
      "                                                                 \n",
      " conv1d (Conv1D)             (None, 222, 11)           1067      \n",
      "                                                                 \n",
      " permute (Permute)           (None, 11, 222)           0         \n",
      "                                                                 \n",
      " conv1d_1 (Conv1D)           (None, 11, 8)             1784      \n",
      "                                                                 \n",
      " permute_1 (Permute)         (None, 8, 11)             0         \n",
      "                                                                 \n",
      " activation (Activation)     (None, 8, 11)             0         \n",
      "                                                                 \n",
      "=================================================================\n",
      "Total params: 16,931\n",
      "Trainable params: 16,931\n",
      "Non-trainable params: 0\n",
      "_________________________________________________________________\n"
     ]
    }
   ],
   "source": [
    "model.model.summary()"
   ]
  },
  {
   "cell_type": "code",
   "execution_count": 19,
   "metadata": {
    "pycharm": {
     "name": "#%%\n"
    }
   },
   "outputs": [
    {
     "name": "stdout",
     "output_type": "stream",
     "text": [
      "\n",
      "Epoch 00001: LearningRateScheduler setting learning rate to 0.01.\n",
      "Epoch 1/20\n",
      "374/374 [==============================] - 157s 408ms/step - loss: 1.1487 - accuracy: 0.8305 - mAP: 0.8040 - mDP: 0.7553 - val_loss: 1.0016 - val_accuracy: 0.8906 - val_mAP: 0.8881 - val_mDP: 0.8843 - lr: 0.0100\n",
      "\n",
      "Epoch 00002: LearningRateScheduler setting learning rate to 0.009048374180359595.\n",
      "Epoch 2/20\n",
      "374/374 [==============================] - 126s 336ms/step - loss: 0.9851 - accuracy: 0.9204 - mAP: 0.9171 - mDP: 0.8634 - val_loss: 0.9765 - val_accuracy: 0.8546 - val_mAP: 0.8591 - val_mDP: 0.8550 - lr: 0.0090\n",
      "\n",
      "Epoch 00003: LearningRateScheduler setting learning rate to 0.008187307530779819.\n",
      "Epoch 3/20\n",
      "374/374 [==============================] - 132s 352ms/step - loss: 0.9534 - accuracy: 0.9361 - mAP: 0.9325 - mDP: 0.8738 - val_loss: 0.9620 - val_accuracy: 0.8957 - val_mAP: 0.8908 - val_mDP: 0.8874 - lr: 0.0082\n",
      "\n",
      "Epoch 00004: LearningRateScheduler setting learning rate to 0.007408182206817179.\n",
      "Epoch 4/20\n",
      "374/374 [==============================] - 130s 346ms/step - loss: 0.9468 - accuracy: 0.9393 - mAP: 0.9367 - mDP: 0.8836 - val_loss: 0.9491 - val_accuracy: 0.9076 - val_mAP: 0.9047 - val_mDP: 0.9027 - lr: 0.0074\n",
      "\n",
      "Epoch 00005: LearningRateScheduler setting learning rate to 0.006703200460356393.\n",
      "Epoch 5/20\n",
      "374/374 [==============================] - 135s 360ms/step - loss: 0.9421 - accuracy: 0.9416 - mAP: 0.9396 - mDP: 0.8813 - val_loss: 0.9513 - val_accuracy: 0.8757 - val_mAP: 0.8754 - val_mDP: 0.8719 - lr: 0.0067\n",
      "\n",
      "Epoch 00006: LearningRateScheduler setting learning rate to 0.006065306597126334.\n",
      "Epoch 6/20\n",
      "374/374 [==============================] - 133s 354ms/step - loss: 0.9391 - accuracy: 0.9413 - mAP: 0.9383 - mDP: 0.8714 - val_loss: 0.9446 - val_accuracy: 0.8737 - val_mAP: 0.8741 - val_mDP: 0.8701 - lr: 0.0061\n",
      "\n",
      "Epoch 00007: LearningRateScheduler setting learning rate to 0.005488116360940264.\n",
      "Epoch 7/20\n",
      "374/374 [==============================] - 132s 353ms/step - loss: 0.9322 - accuracy: 0.9448 - mAP: 0.9420 - mDP: 0.8762 - val_loss: 0.9468 - val_accuracy: 0.8720 - val_mAP: 0.8700 - val_mDP: 0.8654 - lr: 0.0055\n",
      "\n",
      "Epoch 00008: LearningRateScheduler setting learning rate to 0.004965853037914095.\n",
      "Epoch 8/20\n",
      "374/374 [==============================] - 131s 350ms/step - loss: 0.9285 - accuracy: 0.9474 - mAP: 0.9447 - mDP: 0.8777 - val_loss: 0.9523 - val_accuracy: 0.8698 - val_mAP: 0.8702 - val_mDP: 0.8665 - lr: 0.0050\n",
      "\n",
      "Epoch 00009: LearningRateScheduler setting learning rate to 0.004493289641172216.\n",
      "Epoch 9/20\n",
      "374/374 [==============================] - 131s 350ms/step - loss: 0.9260 - accuracy: 0.9476 - mAP: 0.9447 - mDP: 0.8774 - val_loss: 0.9409 - val_accuracy: 0.8767 - val_mAP: 0.8790 - val_mDP: 0.8749 - lr: 0.0045\n"
     ]
    },
    {
     "data": {
      "text/plain": [
       "<keras.callbacks.History at 0x23b3c51b610>"
      ]
     },
     "execution_count": 19,
     "metadata": {},
     "output_type": "execute_result"
    }
   ],
   "source": [
    "model.fit(\n",
    "    train_loader,\n",
    "    epochs=20,\n",
    "    validation_data=valid_loader,\n",
    "    callbacks=[earlystopping_callback,\n",
    "               lr_decaying_callback]\n",
    ")\n"
   ]
  },
  {
   "cell_type": "markdown",
   "metadata": {},
   "source": [
    "---\n",
    "Model Evaluation"
   ]
  },
  {
   "cell_type": "code",
   "execution_count": 30,
   "metadata": {},
   "outputs": [
    {
     "name": "stdout",
     "output_type": "stream",
     "text": [
      "(1993, 28, 224) (1993, 8)\n"
     ]
    }
   ],
   "source": [
    "test_dataset = mnist.generate(test_gen, n_sample=2000)\n",
    "test_loader = test_dataset.batch(BS, drop_remainder=True).prefetch(buffer_size=tf.data.AUTOTUNE)"
   ]
  },
  {
   "cell_type": "code",
   "execution_count": 31,
   "metadata": {},
   "outputs": [],
   "source": [
    "def model_evaluator(model, dt_loader, n_classes):\n",
    "    map_mat = mAP()\n",
    "    mdp_mat = mDP(n_classes=n_classes)\n",
    "    acc_mat = tf.keras.metrics.Accuracy()\n",
    "    time_mat = []\n",
    "    for bt in dt_loader:\n",
    "        x, target = bt\n",
    "        start_time = time.time()\n",
    "        pred = model(x)\n",
    "        end_time = time.time()\n",
    "        time_mat.append((end_time-start_time)/BS)\n",
    "\n",
    "        map_mat.update_state(target, pred)\n",
    "        mdp_mat.update_state(target, pred)\n",
    "        pred = tf.reshape(pred, shape=(-1, n_classes))\n",
    "        y_hat = tf.argmax(pred, axis=-1)\n",
    "        target = tf.reshape(target, shape=(-1))\n",
    "        # print(y_hat.shape, pred.shape, target.shape)\n",
    "        acc_mat.update_state(y_hat, target)\n",
    "    mean_time = sum(time_mat)/ len(time_mat)\n",
    "    print({\n",
    "        'Accuracy': acc_mat.result().numpy(),\n",
    "        'mAP': map_mat.result().numpy(),\n",
    "        'mDP': mdp_mat.result().numpy(),\n",
    "        'mean_average_execution_time': mean_time\n",
    "    })"
   ]
  },
  {
   "cell_type": "code",
   "execution_count": 32,
   "metadata": {},
   "outputs": [
    {
     "name": "stdout",
     "output_type": "stream",
     "text": [
      "{'Accuracy': 0.9051159, 'mAP': 0.9023631, 'mDP': 0.90104717, 'mean_average_execution_time': 0.0010396321454355793}\n"
     ]
    }
   ],
   "source": [
    "model_evaluator(model, test_loader, N_CLASSES)"
   ]
  },
  {
   "cell_type": "markdown",
   "metadata": {
    "pycharm": {
     "name": "#%% md\n"
    }
   },
   "source": [
    "---\n",
    "Model Prediction & Evaluation"
   ]
  },
  {
   "cell_type": "markdown",
   "metadata": {
    "pycharm": {
     "name": "#%% md\n"
    }
   },
   "source": [
    "* Individual prediction & labeling "
   ]
  },
  {
   "cell_type": "code",
   "execution_count": 23,
   "metadata": {
    "pycharm": {
     "name": "#%%\n"
    }
   },
   "outputs": [],
   "source": [
    "for s in test_dataset.take(10):\n",
    "    test_image, test_label = s\n",
    "     \n",
    "\n",
    "test_class = test_label.numpy()\n"
   ]
  },
  {
   "cell_type": "code",
   "execution_count": 24,
   "metadata": {
    "pycharm": {
     "name": "#%%\n"
    }
   },
   "outputs": [
    {
     "data": {
      "text/plain": [
       "array([0, 7, 3, 2, 4, 9, 4, 5])"
      ]
     },
     "execution_count": 24,
     "metadata": {},
     "output_type": "execute_result"
    }
   ],
   "source": [
    "test_class"
   ]
  },
  {
   "cell_type": "code",
   "execution_count": 25,
   "metadata": {
    "pycharm": {
     "name": "#%%\n"
    }
   },
   "outputs": [],
   "source": [
    "sample = tf.expand_dims(test_image, axis=0)\n",
    "sample_output = model(sample)"
   ]
  },
  {
   "cell_type": "code",
   "execution_count": 26,
   "metadata": {
    "pycharm": {
     "name": "#%%\n"
    }
   },
   "outputs": [
    {
     "data": {
      "text/plain": [
       "TensorShape([1, 8, 11])"
      ]
     },
     "execution_count": 26,
     "metadata": {},
     "output_type": "execute_result"
    }
   ],
   "source": [
    "sample_output.shape"
   ]
  },
  {
   "cell_type": "code",
   "execution_count": 27,
   "metadata": {
    "pycharm": {
     "name": "#%%\n"
    }
   },
   "outputs": [
    {
     "data": {
      "text/plain": [
       "<tf.Tensor: shape=(8,), dtype=int64, numpy=array([0, 7, 3, 2, 4, 9, 4, 5], dtype=int64)>"
      ]
     },
     "execution_count": 27,
     "metadata": {},
     "output_type": "execute_result"
    }
   ],
   "source": [
    "tf.argmax(sample_output[0], axis=1)"
   ]
  },
  {
   "cell_type": "code",
   "execution_count": 28,
   "metadata": {
    "pycharm": {
     "name": "#%%\n"
    }
   },
   "outputs": [],
   "source": [
    "def pred_eval_plot(pred_heatmap, image, figsize=(10, 8)):\n",
    "    fig, axes = plt.subplots(2, 1, figsize=figsize,)\n",
    "    sns.heatmap(ax=axes[0], data=pred_heatmap, linewidths=1, cbar=False, cmap='Blues')\n",
    "    axes[1].imshow(image, cmap='gray', aspect='equal')\n",
    "    plt.show()"
   ]
  },
  {
   "cell_type": "code",
   "execution_count": 29,
   "metadata": {
    "pycharm": {
     "name": "#%%\n"
    }
   },
   "outputs": [
    {
     "data": {
      "image/png": "[encoded data removed]",
      "text/plain": [
       "<Figure size 720x576 with 2 Axes>"
      ]
     },
     "metadata": {
      "needs_background": "light"
     },
     "output_type": "display_data"
    }
   ],
   "source": [
    "pred_eval_plot(sample_output[0, ...].numpy().T, test_image.numpy().T)"
   ]
  },
  {
   "cell_type": "markdown",
   "metadata": {
    "pycharm": {
     "name": "#%% md\n"
    }
   },
   "source": [
    "---"
   ]
  },
  {
   "cell_type": "code",
   "execution_count": null,
   "metadata": {
    "pycharm": {
     "name": "#%%\n"
    }
   },
   "outputs": [],
   "source": []
  }
 ],
 "metadata": {
  "kernelspec": {
   "display_name": "Python 3.9.7 ('base')",
   "language": "python",
   "name": "python3"
  },
  "language_info": {
   "codemirror_mode": {
    "name": "ipython",
    "version": 3
   },
   "file_extension": ".py",
   "mimetype": "text/x-python",
   "name": "python",
   "nbconvert_exporter": "python",
   "pygments_lexer": "ipython3",
   "version": "3.9.7"
  },
  "orig_nbformat": 4,
  "vscode": {
   "interpreter": {
    "hash": "08aea5f70877f29c16b88dd2c4446bb1b0b98820cbf110aea5656aecf55fbfb0"
   }
  }
 },
 "nbformat": 4,
 "nbformat_minor": 2
}
