{
 "cells": [
  {
   "cell_type": "markdown",
   "metadata": {},
   "source": [
    "\n",
    "\n",
    "## Experiment Details\n",
    "__Experiment Id__ : 009 \\\n",
    "__Target__ : test model performance on Standard-OCR dataset with spaces \\\n",
    "__Solution__ : \n",
    "- build a dataset from [Standard-OCR](https://www.kaggle.com/datasets/preatcher/standard-ocr-dataset?resource=download) dataset with spaces\n",
    "- test the model performance on the new dataset\n",
    "\n",
    "__Empirical result__ : \n",
    "- "
   ]
  },
  {
   "cell_type": "markdown",
   "metadata": {},
   "source": [
    "---\n",
    "Implementation"
   ]
  },
  {
   "cell_type": "code",
   "execution_count": 1,
   "metadata": {},
   "outputs": [],
   "source": [
    "import tensorflow as tf \n",
    "from tensorflow.keras import layers\n",
    "from tensorflow.keras import losses\n",
    "\n",
    "from tqdm import tqdm\n",
    "import math\n",
    "import os\n",
    "import time\n",
    "import random \n",
    "import pandas as pd \n",
    "import numpy as np\n",
    "from skimage import io, transform \n",
    "import matplotlib.pyplot as plt\n",
    "import seaborn as sns\n",
    "import cv2\n",
    "import json\n",
    "from bidict import bidict\n",
    "from glob import glob \n",
    "\n",
    "import neptune.new as neptune"
   ]
  },
  {
   "cell_type": "markdown",
   "metadata": {},
   "source": [
    "---\n",
    "Set global variables"
   ]
  },
  {
   "cell_type": "code",
   "execution_count": 2,
   "metadata": {},
   "outputs": [
    {
     "data": {
      "text/plain": [
       "[PhysicalDevice(name='/physical_device:GPU:0', device_type='GPU')]"
      ]
     },
     "execution_count": 2,
     "metadata": {},
     "output_type": "execute_result"
    }
   ],
   "source": [
    "gpu_available = tf.config.list_physical_devices('GPU')\n",
    "gpu_available"
   ]
  },
  {
   "cell_type": "code",
   "execution_count": 3,
   "metadata": {},
   "outputs": [],
   "source": [
    "IMAGE_SIZE = (128,48)\n",
    "DATA_BS = 10\n",
    "DATA_N = 10\n",
    "LR = 0.005\n",
    "EPOCHS = 10\n",
    "BS = 32\n"
   ]
  },
  {
   "cell_type": "markdown",
   "metadata": {},
   "source": [
    "---\n",
    "Dataset & Dataloader "
   ]
  },
  {
   "cell_type": "code",
   "execution_count": 11,
   "metadata": {},
   "outputs": [],
   "source": [
    "class StandardOCRDataset(object):\n",
    "\n",
    "    def __init__(self, data_path, n_digits=8, image_size=(156, 32)):\n",
    "        self._path = data_path\n",
    "        self.n_digits = n_digits\n",
    "        self.image_size = image_size\n",
    "\n",
    "    def load_img(self, path):\n",
    "        im_gray = cv2.imread(path, cv2.IMREAD_GRAYSCALE)\n",
    "        rz_path = cv2.resize(im_gray, (28, 28), interpolation=cv2.INTER_AREA)\n",
    "        return rz_path\n",
    "\n",
    "    def load_data(self, data_path, training=True):\n",
    "        if training:\n",
    "            data_path = data_path+'/training_data'\n",
    "        else:\n",
    "            data_path = data_path+'/testing_data'\n",
    "\n",
    "        data = []\n",
    "        label = []\n",
    "        for d in glob(f'{data_path}/*/'):\n",
    "            d = d.replace(os.sep, '/')\n",
    "            c = d.split('/')[-2]\n",
    "            for f in glob(f'{d}/*.png'):\n",
    "                f = f.replace(os.sep, '/')\n",
    "                img = self.load_img(f)\n",
    "                data.append(img)\n",
    "                label.append(c)\n",
    "            \n",
    "        return np.array(data), np.array(label)\n",
    "\n",
    "    def gen_patch(self, img, ann, c=np.inf):\n",
    "        size = img.shape[0]\n",
    "        indexes = np.arange(size)\n",
    "        np.random.shuffle(indexes)\n",
    "        \n",
    "        c_prime = divmod(size, self.n_digits)[0]*self.n_digits\n",
    "        if c_prime < c:\n",
    "            size = c_prime\n",
    "        else:\n",
    "            size = divmod(c, self.n_digits)[0]*self.n_digits\n",
    "\n",
    "        sample_index = indexes[:size]\n",
    "        sticker_index = sample_index.reshape((-1, self.n_digits)).T\n",
    "        sticker_images = np.transpose(np.hstack([np.transpose(img[inds], (0, 2, 1)) for inds in sticker_index]), (0, 2, 1))\n",
    "        sfl_label =  ann[sample_index, ...]\n",
    "        sticker_labels = sfl_label.reshape((-1, self.n_digits))\n",
    "        return sticker_images, sticker_labels\n",
    "\n",
    "    def add_spaces(self, img, ann, n=2000):\n",
    "        # print(img.shape, ann.shape)\n",
    "        image_pt = np.random.normal(200.0, 5.0,(n, 28, 28))\n",
    "        label_pt = np.array([' ',]*n)\n",
    "        all_images = np.concatenate([img, image_pt], axis=0)\n",
    "        all_labels = np.concatenate([ann, label_pt], axis=0)\n",
    "        # print(all_images.shape, all_labels.shape)\n",
    "        return all_images, all_labels\n",
    "\n",
    "    def generate(self, training=True, n_sample=1000):\n",
    "        init_image, init_label = self.load_data(self._path, training)\n",
    "        init_image, init_label = self.add_spaces(init_image, init_label, n=n_sample//10)\n",
    "        classes = list(np.unique(init_label))\n",
    "        cl_dict = dict(zip(classes, range(len(classes))))\n",
    "        cl_bidict = bidict(cl_dict)\n",
    "        \n",
    "        def func(x):\n",
    "            return cl_bidict[x]\n",
    "\n",
    "        vfunc = np.vectorize(func)\n",
    "        init_label = vfunc(init_label)\n",
    "\n",
    "        c = n_sample\n",
    "        dt_images, dt_labels = self.gen_patch(init_image, init_label, c)\n",
    "        while c > self.n_digits:\n",
    "            c = n_sample - dt_images.shape[0]\n",
    "            p_images, p_labels = self.gen_patch(init_image, init_label, c)\n",
    "            dt_images, dt_labels = np.vstack((dt_images, p_images)), np.vstack((dt_labels, p_labels))\n",
    "\n",
    "        ret_tensor = tf.convert_to_tensor(np.swapaxes(dt_images, 1, 2), dtype=tf.float32)\n",
    "        ind_tensor = tf.convert_to_tensor(dt_labels, dtype=tf.int32)\n",
    "        dataset = tf.data.Dataset.from_tensor_slices((ret_tensor, ind_tensor))\n",
    "        return dataset, cl_bidict"
   ]
  },
  {
   "cell_type": "code",
   "execution_count": 12,
   "metadata": {},
   "outputs": [],
   "source": [
    "datasetGen = StandardOCRDataset('../../datasets/SOCRN')"
   ]
  },
  {
   "cell_type": "code",
   "execution_count": 13,
   "metadata": {},
   "outputs": [],
   "source": [
    "train_dataset, label_mapper = datasetGen.generate(training=True, n_sample=12000)\n",
    "test_dataset, _ = datasetGen.generate(training=False, n_sample=2000)"
   ]
  },
  {
   "cell_type": "code",
   "execution_count": 14,
   "metadata": {},
   "outputs": [
    {
     "name": "stdout",
     "output_type": "stream",
     "text": [
      "(224, 28)\n",
      "[25 10 29 28 15  4  0 29]\n"
     ]
    },
    {
     "data": {
      "image/png": "[encoded data removed]",
      "text/plain": [
       "<Figure size 432x288 with 1 Axes>"
      ]
     },
     "metadata": {
      "needs_background": "light"
     },
     "output_type": "display_data"
    }
   ],
   "source": [
    "for i in test_dataset.take(1):\n",
    "    img, label = i\n",
    "    print(img.shape)\n",
    "    print(label.numpy())\n",
    "    plt.imshow(img.numpy().T)\n",
    "\n",
    "\n",
    "IMAGE_SIZE = img.shape\n",
    "MAX_OBJ = len(label)\n",
    "N_CLASSES = len(label_mapper)\n"
   ]
  },
  {
   "cell_type": "code",
   "execution_count": 16,
   "metadata": {},
   "outputs": [],
   "source": [
    "train_loader = train_dataset.shuffle(buffer_size=1000).batch(BS, drop_remainder=True).prefetch(buffer_size=tf.data.AUTOTUNE)\n",
    "valid_loader = test_dataset.batch(BS, drop_remainder=True).prefetch(buffer_size=tf.data.AUTOTUNE)"
   ]
  },
  {
   "cell_type": "markdown",
   "metadata": {},
   "source": [
    "---\n",
    "Model Defining"
   ]
  },
  {
   "cell_type": "code",
   "execution_count": 17,
   "metadata": {},
   "outputs": [],
   "source": [
    "class mAP(tf.keras.metrics.Metric):\n",
    "    def __init__(self, name='mAP', alpha=0.9, **kwargs):\n",
    "        super(mAP, self).__init__(name=name, **kwargs)\n",
    "        self.map = self.add_weight(name='map', initializer='zeros')\n",
    "        self.alpha = alpha\n",
    "\n",
    "    def update_state(self, y_true, y_pred):\n",
    "        y_true = tf.cast(y_true, tf.int32)\n",
    "        y_pred = tf.cast(y_pred, tf.float32)\n",
    "        alpha = tf.constant(self.alpha, dtype=tf.float32)\n",
    "        alpha_prime = tf.constant(1-self.alpha, dtype=tf.float32)\n",
    "\n",
    "        res_arr = tf.map_fn(lambda i: tf.math.reduce_mean(tf.keras.metrics.sparse_categorical_accuracy(y_true[i, ...], y_pred[i, ...])), elems=tf.range(y_pred.shape[0]), dtype=tf.float32)\n",
    "        tensor_without_nans = tf.where(tf.math.is_nan(res_arr), tf.zeros_like(res_arr), res_arr)\n",
    "        cur_val = tf.math.reduce_mean(tensor_without_nans, axis=-1)\n",
    "        weighted_avg = tf.math.add(tf.multiply(alpha, self.map), tf.multiply(alpha_prime, cur_val))\n",
    "        self.map.assign(weighted_avg)\n",
    "\n",
    "    def result(self):\n",
    "        return self.map\n"
   ]
  },
  {
   "cell_type": "code",
   "execution_count": 18,
   "metadata": {},
   "outputs": [],
   "source": [
    "class mDP(tf.keras.metrics.Metric):\n",
    "    def __init__(self, name='mDP', n_classes=10, alpha=0.9, **kwargs):\n",
    "        super(mDP, self).__init__(name=name, **kwargs)\n",
    "        self.n = n_classes\n",
    "        self.alpha = alpha\n",
    "        self.mdp = self.add_weight(name='mdp', initializer='zeros')\n",
    "\n",
    "    def update_state(self, y_true, y_pred):\n",
    "        y_true = tf.cast(y_true, tf.int32)\n",
    "        y_pred = tf.cast(y_pred, tf.float32)\n",
    "        alpha = tf.constant(self.alpha, dtype=tf.float32)\n",
    "        alpha_prime = tf.constant(1-self.alpha, dtype=tf.float32)\n",
    "\n",
    "        def func(i):\n",
    "            mask = tf.equal(y_true, tf.constant(i))\n",
    "            ilabels = tf.reshape(tf.boolean_mask(y_true,mask), shape=(-1))\n",
    "            ipreds = tf.reshape(tf.boolean_mask(y_pred,mask), shape=(-1, self.n))\n",
    "            return tf.math.reduce_mean(tf.keras.metrics.sparse_categorical_accuracy(ilabels, ipreds))\n",
    "\n",
    "        res_arr = tf.map_fn(lambda i: func(i), elems=tf.range(self.n), dtype=tf.float32)\n",
    "        tensor_without_nans = tf.where(tf.math.is_nan(res_arr), tf.zeros_like(res_arr), res_arr)\n",
    "        cur_val = tf.math.reduce_mean(tensor_without_nans, axis=-1)\n",
    "        weighted_avg = tf.math.add(tf.multiply(alpha, self.mdp), tf.multiply(alpha_prime, cur_val))\n",
    "        self.mdp.assign(weighted_avg)\n",
    "\n",
    "    def result(self):\n",
    "        return self.mdp"
   ]
  },
  {
   "cell_type": "code",
   "execution_count": 19,
   "metadata": {},
   "outputs": [],
   "source": [
    "class RecNet(tf.keras.Model):\n",
    "\tdef __init__(self, bs=16, input_size=(128, 48), n_classes=10, h_cell=64, latent_size=32, max_obj=15, linear_k=3, rho=0.05):\n",
    "\t\tsuper().__init__()\n",
    "\t\tself.rho = rho\n",
    "\t\tself.bs = bs\n",
    "\t\tself.input_size = input_size\n",
    "\t\tself.n_classes = n_classes  # LSTM module projection size\n",
    "\t\tself.h_cell = h_cell  # LSTM hidden size\n",
    "\t\tself.latent_size = latent_size\n",
    "\t\tself.max_obj = max_obj\n",
    "\t\tself.linear_k = linear_k\n",
    "\t\tself.model = self.build_model(\n",
    "\t\t\tself.input_size, self.h_cell, self.latent_size, self.n_classes, self.max_obj, self.linear_k)\n",
    "\n",
    "\t\tself.scce = losses.SparseCategoricalCrossentropy(from_logits=False,)\n",
    "\n",
    "\t\tself.loss_metric = tf.keras.metrics.Mean(name=\"loss\")\n",
    "\t\tself.acc_metric = tf.keras.metrics.Mean(name=\"accuracy\")\n",
    "\t\tself.mAP = mAP()\n",
    "\t\tself.mDP = mDP(n_classes=self.n_classes)\n",
    "\t\tself.acc_mat = tf.keras.metrics.Accuracy()\n",
    "\n",
    "\tdef build_model(self, input_shape=(128, 48), h_cell=32, latent_size=32, n_classes=10, n_obj=10, linear_k=3):\n",
    "\t\tx_input = layers.Input(shape=input_shape)\n",
    "\t\tforward_layer = layers.LSTM(h_cell//2, return_sequences=True)\n",
    "\t\tx = layers.Bidirectional(forward_layer, input_shape=self.input_size)(x_input)\n",
    "\t\tx = layers.LSTM(latent_size, activation='tanh',\n",
    "\t\t\t\t\t\treturn_sequences=True, go_backwards=True)(x)\n",
    "\t\tx = layers.Conv1D(n_classes, linear_k, activation='tanh')(x)\n",
    "\t\tx = layers.Permute((2, 1))(x)\n",
    "\t\tx = layers.Conv1D(n_obj, 1, activation='tanh')(x)\n",
    "\t\tx = layers.Permute((2, 1))(x)\n",
    "\t\tx_output = layers.Activation('softmax')(x)\n",
    "\n",
    "\t\tmodel = tf.keras.Model(inputs=x_input, outputs=x_output)\n",
    "\t\treturn model\n",
    "\n",
    "\t@property\n",
    "\tdef metrics(self):\n",
    "\t\treturn [self.loss_metric, self.acc_mat]\n",
    "\n",
    "\tdef calculate_loss(self, target, pred):\n",
    "\t\ttarget = tf.reshape(target, shape=(-1))\n",
    "\t\tpred = tf.reshape(pred, shape=(-1, self.n_classes))\n",
    "\t\tloss = self.scce(target, pred)\n",
    "\n",
    "\t\ty_hat = tf.argmax(pred, axis=-1)\n",
    "\t\tacc = self.acc_mat(y_hat, target)\n",
    "\t\treturn loss, acc\n",
    "\n",
    "\tdef call(self, x):\n",
    "\t\tfull_out = self.model(x)\n",
    "\t\treturn full_out\n",
    "\n",
    "\tdef train_step(self, batch_data):\n",
    "\t\tx, target = batch_data\n",
    "\t\te_ws = []\n",
    "\t\twith tf.GradientTape() as tape:\n",
    "\t\t\tpred = self(x, training=True)\n",
    "\t\t\t# print(pred.shape, pred)\n",
    "\t\t\tloss, acc = self.calculate_loss(target, pred)\n",
    "\n",
    "\t\ttrainable_params = self.trainable_variables\n",
    "\t\tgradients = tape.gradient(loss, trainable_params)\n",
    "\t\tgrad_norm = self._grad_norm(gradients)\n",
    "\t\tscale = self.rho / (grad_norm + 1e-12)\n",
    "\n",
    "\t\tfor (grad, param) in zip(gradients, trainable_params):\n",
    "\t\t\te_w = grad*scale \n",
    "\t\t\tparam.assign_add(e_w)\n",
    "\t\t\te_ws.append(e_w)\n",
    "\n",
    "\t\twith tf.GradientTape() as tape:\n",
    "\t\t\tpred = self(x, training=True)\n",
    "\t\t\tloss, acc = self.calculate_loss(target, pred)\n",
    "\n",
    "\t\tsam_gradient = tape.gradient(loss, trainable_params)\n",
    "\t\tfor (param, e_w) in zip(trainable_params, e_ws):\n",
    "\t\t\tparam.assign_sub(e_w)\n",
    "\n",
    "\t\tself.optimizer.apply_gradients(zip(sam_gradient, trainable_params))\n",
    "\t\tself.loss_metric.update_state(loss)\n",
    "\t\tself.acc_metric.update_state(acc)\n",
    "\t\tself.mAP.update_state(target, pred)\n",
    "\t\tself.mDP.update_state(target, pred)\n",
    "\t\treturn {\n",
    "\t\t\t\"loss\": self.loss_metric.result(),\n",
    "\t\t\t\"accuracy\": self.acc_mat.result(),\n",
    "\t\t\t\"mAP\": self.mAP.result(),\n",
    "\t\t\t\"mDP\": self.mDP.result()\n",
    "\t\t}\n",
    "\n",
    "\tdef test_step(self, batch_data):\n",
    "\t\tx, target = batch_data\n",
    "\n",
    "\t\tpred = self(x, training=False)\n",
    "\t\tloss, acc = self.calculate_loss(target, pred)\n",
    "\n",
    "\t\tself.loss_metric.update_state(loss)\n",
    "\t\tself.acc_metric.update_state(acc)\n",
    "\t\tself.mAP.update_state(target, pred)\n",
    "\t\tself.mDP.update_state(target, pred)\n",
    "\t\treturn {\n",
    "\t\t\t\"loss\": self.loss_metric.result(),\n",
    "\t\t\t\"accuracy\": self.acc_mat.result(),\n",
    "\t\t\t\"mAP\": self.mAP.result(),\n",
    "\t\t\t\"mDP\": self.mDP.result()\n",
    "\t\t}\n",
    "\n",
    "\tdef _grad_norm(self, gradients):\n",
    "\t\tnorm = tf.norm(\n",
    "\t\t\ttf.stack([\n",
    "\t\t\t\ttf.norm(grad) for grad in gradients if grad is not None\n",
    "\t\t\t])\n",
    "\t\t)\n",
    "\t\treturn norm\n"
   ]
  },
  {
   "cell_type": "markdown",
   "metadata": {},
   "source": [
    "---\n",
    "Set up model training details"
   ]
  },
  {
   "cell_type": "code",
   "execution_count": 20,
   "metadata": {},
   "outputs": [],
   "source": [
    "def lr_time_based_decay(epoch, lr):\n",
    "    decay = 0.001\n",
    "    return lr * 1 / (1 + decay * epoch)\n",
    "\n",
    "def lr_step_decay(epoch, lr):\n",
    "    drop_rate = 0.5\n",
    "    epochs_drop = 10.0\n",
    "    return LR * math.pow(drop_rate, math.floor(epoch/epochs_drop))\n",
    "\n",
    "def lr_exp_decay(epoch, lr):\n",
    "    k = 0.1\n",
    "    return LR * math.exp(-k*epoch)\n",
    "\n",
    "decay_steps = 500\n",
    "# lr_decayed_fn = tf.keras.optimizers.schedules.CosineDecay(\n",
    "#     LR, decay_steps)\n",
    "\n",
    "lr_decaying_callback = tf.keras.callbacks.LearningRateScheduler(lr_step_decay, verbose=1)"
   ]
  },
  {
   "cell_type": "code",
   "execution_count": 21,
   "metadata": {},
   "outputs": [],
   "source": [
    "earlystopping_callback = tf.keras.callbacks.EarlyStopping(\n",
    "                            monitor='val_accuracy',\n",
    "                            min_delta=0,\n",
    "                            patience=5,\n",
    "                            restore_best_weights=True\n",
    "                        )"
   ]
  },
  {
   "cell_type": "code",
   "execution_count": 22,
   "metadata": {},
   "outputs": [],
   "source": [
    "optimizer = tf.keras.optimizers.Adam(\n",
    "    learning_rate=LR,\n",
    ")"
   ]
  },
  {
   "cell_type": "code",
   "execution_count": 23,
   "metadata": {},
   "outputs": [],
   "source": [
    "# model = RecNet(bs=BS)\n",
    "model = RecNet(input_size=IMAGE_SIZE,\n",
    "                bs=BS,\n",
    "                n_classes=N_CLASSES,\n",
    "                h_cell=32,\n",
    "                max_obj=MAX_OBJ,\n",
    "                linear_k=3)\n",
    "model.compile(optimizer, loss='categorical_crossentropy', run_eagerly=True)"
   ]
  },
  {
   "cell_type": "code",
   "execution_count": 24,
   "metadata": {},
   "outputs": [
    {
     "name": "stdout",
     "output_type": "stream",
     "text": [
      "Model: \"model\"\n",
      "_________________________________________________________________\n",
      " Layer (type)                Output Shape              Param #   \n",
      "=================================================================\n",
      " input_1 (InputLayer)        [(None, 224, 28)]         0         \n",
      "                                                                 \n",
      " bidirectional (Bidirectiona  (None, 224, 32)          5760      \n",
      " l)                                                              \n",
      "                                                                 \n",
      " lstm_1 (LSTM)               (None, 224, 32)           8320      \n",
      "                                                                 \n",
      " conv1d (Conv1D)             (None, 222, 37)           3589      \n",
      "                                                                 \n",
      " permute (Permute)           (None, 37, 222)           0         \n",
      "                                                                 \n",
      " conv1d_1 (Conv1D)           (None, 37, 8)             1784      \n",
      "                                                                 \n",
      " permute_1 (Permute)         (None, 8, 37)             0         \n",
      "                                                                 \n",
      " activation (Activation)     (None, 8, 37)             0         \n",
      "                                                                 \n",
      "=================================================================\n",
      "Total params: 19,453\n",
      "Trainable params: 19,453\n",
      "Non-trainable params: 0\n",
      "_________________________________________________________________\n"
     ]
    }
   ],
   "source": [
    "model.model.summary()"
   ]
  },
  {
   "cell_type": "code",
   "execution_count": 25,
   "metadata": {},
   "outputs": [
    {
     "name": "stdout",
     "output_type": "stream",
     "text": [
      "\n",
      "Epoch 00001: LearningRateScheduler setting learning rate to 0.005.\n",
      "Epoch 1/20\n",
      "374/374 [==============================] - 191s 499ms/step - loss: 2.4624 - accuracy: 0.5522 - mAP: 0.5191 - mDP: 0.5131 - val_loss: 1.9558 - val_accuracy: 0.7987 - val_mAP: 0.7935 - val_mDP: 0.7596 - lr: 0.0050\n",
      "\n",
      "Epoch 00002: LearningRateScheduler setting learning rate to 0.005.\n",
      "Epoch 2/20\n",
      "374/374 [==============================] - 185s 494ms/step - loss: 2.0637 - accuracy: 0.7434 - mAP: 0.7338 - mDP: 0.7261 - val_loss: 1.9390 - val_accuracy: 0.8175 - val_mAP: 0.8151 - val_mDP: 0.7837 - lr: 0.0050\n",
      "\n",
      "Epoch 00003: LearningRateScheduler setting learning rate to 0.005.\n",
      "Epoch 3/20\n",
      "374/374 [==============================] - 187s 499ms/step - loss: 2.0155 - accuracy: 0.7651 - mAP: 0.7584 - mDP: 0.7516 - val_loss: 1.8718 - val_accuracy: 0.8441 - val_mAP: 0.8381 - val_mDP: 0.8088 - lr: 0.0050\n",
      "\n",
      "Epoch 00004: LearningRateScheduler setting learning rate to 0.005.\n",
      "Epoch 4/20\n",
      "374/374 [==============================] - 189s 504ms/step - loss: 2.0200 - accuracy: 0.7551 - mAP: 0.7494 - mDP: 0.7436 - val_loss: 1.9016 - val_accuracy: 0.8097 - val_mAP: 0.8091 - val_mDP: 0.7746 - lr: 0.0050\n",
      "\n",
      "Epoch 00005: LearningRateScheduler setting learning rate to 0.005.\n",
      "Epoch 5/20\n",
      "374/374 [==============================] - 183s 488ms/step - loss: 1.9971 - accuracy: 0.7679 - mAP: 0.7635 - mDP: 0.7564 - val_loss: 1.9063 - val_accuracy: 0.8275 - val_mAP: 0.8232 - val_mDP: 0.7956 - lr: 0.0050\n",
      "\n",
      "Epoch 00006: LearningRateScheduler setting learning rate to 0.005.\n",
      "Epoch 6/20\n",
      "374/374 [==============================] - 184s 491ms/step - loss: 1.9918 - accuracy: 0.7744 - mAP: 0.7690 - mDP: 0.7624 - val_loss: 1.8813 - val_accuracy: 0.8279 - val_mAP: 0.8284 - val_mDP: 0.7962 - lr: 0.0050\n",
      "\n",
      "Epoch 00007: LearningRateScheduler setting learning rate to 0.005.\n",
      "Epoch 7/20\n",
      "374/374 [==============================] - 182s 488ms/step - loss: 1.9739 - accuracy: 0.7913 - mAP: 0.7865 - mDP: 0.7789 - val_loss: 1.8349 - val_accuracy: 0.8823 - val_mAP: 0.8859 - val_mDP: 0.8590 - lr: 0.0050\n",
      "\n",
      "Epoch 00008: LearningRateScheduler setting learning rate to 0.005.\n",
      "Epoch 8/20\n",
      "374/374 [==============================] - 184s 491ms/step - loss: 1.9634 - accuracy: 0.7974 - mAP: 0.7948 - mDP: 0.7882 - val_loss: 1.8652 - val_accuracy: 0.8492 - val_mAP: 0.8489 - val_mDP: 0.8206 - lr: 0.0050\n",
      "\n",
      "Epoch 00009: LearningRateScheduler setting learning rate to 0.005.\n",
      "Epoch 9/20\n",
      "374/374 [==============================] - 184s 492ms/step - loss: 1.9359 - accuracy: 0.8067 - mAP: 0.8042 - mDP: 0.7970 - val_loss: 1.8487 - val_accuracy: 0.8439 - val_mAP: 0.8396 - val_mDP: 0.8088 - lr: 0.0050\n",
      "\n",
      "Epoch 00010: LearningRateScheduler setting learning rate to 0.005.\n",
      "Epoch 10/20\n",
      "374/374 [==============================] - 183s 489ms/step - loss: 1.9288 - accuracy: 0.8162 - mAP: 0.8142 - mDP: 0.8056 - val_loss: 1.9106 - val_accuracy: 0.8374 - val_mAP: 0.8358 - val_mDP: 0.8125 - lr: 0.0050\n",
      "\n",
      "Epoch 00011: LearningRateScheduler setting learning rate to 0.0025.\n",
      "Epoch 11/20\n",
      "374/374 [==============================] - 181s 484ms/step - loss: 1.9083 - accuracy: 0.8407 - mAP: 0.8372 - mDP: 0.8316 - val_loss: 1.8659 - val_accuracy: 0.8880 - val_mAP: 0.8861 - val_mDP: 0.8608 - lr: 0.0025\n",
      "\n",
      "Epoch 00012: LearningRateScheduler setting learning rate to 0.0025.\n",
      "Epoch 12/20\n",
      "374/374 [==============================] - 180s 482ms/step - loss: 1.8874 - accuracy: 0.8657 - mAP: 0.8640 - mDP: 0.8582 - val_loss: 1.8099 - val_accuracy: 0.9151 - val_mAP: 0.9163 - val_mDP: 0.8960 - lr: 0.0025\n",
      "\n",
      "Epoch 00013: LearningRateScheduler setting learning rate to 0.0025.\n",
      "Epoch 13/20\n",
      "374/374 [==============================] - 180s 482ms/step - loss: 1.8863 - accuracy: 0.8745 - mAP: 0.8726 - mDP: 0.8673 - val_loss: 1.8048 - val_accuracy: 0.9322 - val_mAP: 0.9347 - val_mDP: 0.9173 - lr: 0.0025\n",
      "\n",
      "Epoch 00014: LearningRateScheduler setting learning rate to 0.0025.\n",
      "Epoch 14/20\n",
      "374/374 [==============================] - 181s 483ms/step - loss: 1.8678 - accuracy: 0.8979 - mAP: 0.8970 - mDP: 0.8931 - val_loss: 1.7986 - val_accuracy: 0.9414 - val_mAP: 0.9398 - val_mDP: 0.9263 - lr: 0.0025\n",
      "\n",
      "Epoch 00015: LearningRateScheduler setting learning rate to 0.0025.\n",
      "Epoch 15/20\n",
      "374/374 [==============================] - 180s 482ms/step - loss: 1.8658 - accuracy: 0.9046 - mAP: 0.9030 - mDP: 0.8990 - val_loss: 1.8001 - val_accuracy: 0.9547 - val_mAP: 0.9547 - val_mDP: 0.9435 - lr: 0.0025\n",
      "\n",
      "Epoch 00016: LearningRateScheduler setting learning rate to 0.0025.\n",
      "Epoch 16/20\n",
      "374/374 [==============================] - 181s 483ms/step - loss: 1.8734 - accuracy: 0.9024 - mAP: 0.9004 - mDP: 0.8966 - val_loss: 1.8072 - val_accuracy: 0.9538 - val_mAP: 0.9526 - val_mDP: 0.9413 - lr: 0.0025\n",
      "\n",
      "Epoch 00017: LearningRateScheduler setting learning rate to 0.0025.\n",
      "Epoch 17/20\n",
      "374/374 [==============================] - 183s 488ms/step - loss: 1.8603 - accuracy: 0.9115 - mAP: 0.9100 - mDP: 0.9062 - val_loss: 1.7916 - val_accuracy: 0.9534 - val_mAP: 0.9518 - val_mDP: 0.9396 - lr: 0.0025\n",
      "\n",
      "Epoch 00018: LearningRateScheduler setting learning rate to 0.0025.\n",
      "Epoch 18/20\n",
      "374/374 [==============================] - 180s 481ms/step - loss: 1.8566 - accuracy: 0.9122 - mAP: 0.9112 - mDP: 0.9073 - val_loss: 1.7912 - val_accuracy: 0.9500 - val_mAP: 0.9489 - val_mDP: 0.9359 - lr: 0.0025\n",
      "\n",
      "Epoch 00019: LearningRateScheduler setting learning rate to 0.0025.\n",
      "Epoch 19/20\n",
      "374/374 [==============================] - 183s 488ms/step - loss: 1.8573 - accuracy: 0.9149 - mAP: 0.9133 - mDP: 0.9094 - val_loss: 1.7903 - val_accuracy: 0.9588 - val_mAP: 0.9577 - val_mDP: 0.9470 - lr: 0.0025\n",
      "\n",
      "Epoch 00020: LearningRateScheduler setting learning rate to 0.0025.\n",
      "Epoch 20/20\n",
      "374/374 [==============================] - 181s 482ms/step - loss: 1.8563 - accuracy: 0.9176 - mAP: 0.9165 - mDP: 0.9125 - val_loss: 1.8088 - val_accuracy: 0.9524 - val_mAP: 0.9514 - val_mDP: 0.9399 - lr: 0.0025\n"
     ]
    },
    {
     "data": {
      "text/plain": [
       "<keras.callbacks.History at 0x1fd81795cd0>"
      ]
     },
     "execution_count": 25,
     "metadata": {},
     "output_type": "execute_result"
    }
   ],
   "source": [
    "model.fit(\n",
    "    train_loader,\n",
    "    epochs=20,\n",
    "    validation_data=valid_loader,\n",
    "    callbacks=[earlystopping_callback,\n",
    "               lr_decaying_callback]\n",
    ")"
   ]
  },
  {
   "cell_type": "markdown",
   "metadata": {},
   "source": [
    "---\n",
    "Model Prediction & Evaluation"
   ]
  },
  {
   "cell_type": "code",
   "execution_count": 26,
   "metadata": {},
   "outputs": [],
   "source": [
    "# Generate test dataset \n",
    "test_dataset, _ = datasetGen.generate(training=False, n_sample=2000)\n",
    "test_loader = test_dataset.batch(BS, drop_remainder=True).prefetch(buffer_size=tf.data.AUTOTUNE)"
   ]
  },
  {
   "cell_type": "code",
   "execution_count": 37,
   "metadata": {},
   "outputs": [],
   "source": [
    "def model_evaluator(model, dt_loader, n_classes):\n",
    "    map_mat = mAP()\n",
    "    mdp_mat = mDP(n_classes=n_classes)\n",
    "    acc_mat = tf.keras.metrics.Accuracy()\n",
    "    time_mat = []\n",
    "    for bt in dt_loader:\n",
    "        x, target = bt\n",
    "        start_time = time.time()\n",
    "        pred = model(x)\n",
    "        end_time = time.time()\n",
    "        time_mat.append((end_time-start_time)/BS)\n",
    "\n",
    "        map_mat.update_state(target, pred)\n",
    "        mdp_mat.update_state(target, pred)\n",
    "        pred = tf.reshape(pred, shape=(-1, n_classes))\n",
    "        y_hat = tf.argmax(pred, axis=-1)\n",
    "        target = tf.reshape(target, shape=(-1))\n",
    "        # print(y_hat.shape, pred.shape, target.shape)\n",
    "        acc_mat.update_state(y_hat, target)\n",
    "        \n",
    "    mean_time = sum(time_mat)/ len(time_mat)\n",
    "    print({\n",
    "        'Accuracy': acc_mat.result().numpy(),\n",
    "        'mAP': map_mat.result().numpy(),\n",
    "        'mDP': mdp_mat.result().numpy(),\n",
    "        'mean_average_execution_time': mean_time\n",
    "    })"
   ]
  },
  {
   "cell_type": "code",
   "execution_count": 38,
   "metadata": {},
   "outputs": [
    {
     "name": "stdout",
     "output_type": "stream",
     "text": [
      "{'Accuracy': 0.953755, 'mAP': 0.9529657, 'mDP': 0.94280577, 'mean_average_execution_time': 0.0007699103124680057}\n"
     ]
    }
   ],
   "source": [
    "model_evaluator(model, test_loader, N_CLASSES)"
   ]
  },
  {
   "cell_type": "markdown",
   "metadata": {},
   "source": [
    "---\n",
    "* Individual prediction & labeling "
   ]
  },
  {
   "cell_type": "code",
   "execution_count": 29,
   "metadata": {},
   "outputs": [],
   "source": [
    "for s in test_dataset.take(10):\n",
    "    test_image, test_label = s\n",
    "     \n",
    "\n",
    "test_class = test_label.numpy()\n"
   ]
  },
  {
   "cell_type": "code",
   "execution_count": 30,
   "metadata": {},
   "outputs": [
    {
     "data": {
      "text/plain": [
       "array([ 0,  9,  8, 29, 24,  0,  1,  6])"
      ]
     },
     "execution_count": 30,
     "metadata": {},
     "output_type": "execute_result"
    }
   ],
   "source": [
    "test_class"
   ]
  },
  {
   "cell_type": "code",
   "execution_count": 31,
   "metadata": {},
   "outputs": [],
   "source": [
    "sample = tf.expand_dims(test_image, axis=0)\n",
    "sample_output = model(sample)"
   ]
  },
  {
   "cell_type": "code",
   "execution_count": 32,
   "metadata": {},
   "outputs": [
    {
     "data": {
      "text/plain": [
       "TensorShape([1, 8, 37])"
      ]
     },
     "execution_count": 32,
     "metadata": {},
     "output_type": "execute_result"
    }
   ],
   "source": [
    "sample_output.shape"
   ]
  },
  {
   "cell_type": "code",
   "execution_count": 33,
   "metadata": {},
   "outputs": [
    {
     "name": "stdout",
     "output_type": "stream",
     "text": [
      "[ 0  9  8 29 24  0  1  6]\n",
      "[' ', '8', '7', 'S', 'N', ' ', '0', '5']\n"
     ]
    }
   ],
   "source": [
    "pred_classes = tf.argmax(sample_output[0], axis=1).numpy()\n",
    "pred_labels = [label_mapper.inverse[i] for i in pred_classes]\n",
    "print(pred_classes)\n",
    "print(pred_labels)"
   ]
  },
  {
   "cell_type": "code",
   "execution_count": 34,
   "metadata": {},
   "outputs": [
    {
     "data": {
      "text/plain": [
       "dict_keys([' ', '0', '1', '2', '3', '4', '5', '6', '7', '8', '9', 'A', 'B', 'C', 'D', 'E', 'F', 'G', 'H', 'I', 'J', 'K', 'L', 'M', 'N', 'O', 'P', 'Q', 'R', 'S', 'T', 'U', 'V', 'W', 'X', 'Y', 'Z'])"
      ]
     },
     "execution_count": 34,
     "metadata": {},
     "output_type": "execute_result"
    }
   ],
   "source": [
    "label_mapper.keys()"
   ]
  },
  {
   "cell_type": "code",
   "execution_count": 35,
   "metadata": {},
   "outputs": [],
   "source": [
    "def pred_eval_plot(pred_heatmap, image, ylabels, figsize=(10, 15)):\n",
    "    fig, axes = plt.subplots(2, 1, figsize=figsize,)\n",
    "    sns.heatmap(ax=axes[0], data=pred_heatmap, linewidths=1, cbar=False, cmap='Blues', yticklabels=ylabels)\n",
    "    axes[1].imshow(image, cmap='gray', aspect='equal')\n",
    "    plt.show()"
   ]
  },
  {
   "cell_type": "code",
   "execution_count": 36,
   "metadata": {},
   "outputs": [
    {
     "data": {
      "image/png": "[encoded data removed]",
      "text/plain": [
       "<Figure size 720x1080 with 2 Axes>"
      ]
     },
     "metadata": {
      "needs_background": "light"
     },
     "output_type": "display_data"
    }
   ],
   "source": [
    "pred_eval_plot(sample_output[0, ...].numpy().T, test_image.numpy().T, list(label_mapper.keys()))"
   ]
  },
  {
   "cell_type": "markdown",
   "metadata": {},
   "source": [
    "---"
   ]
  }
 ],
 "metadata": {
  "interpreter": {
   "hash": "08aea5f70877f29c16b88dd2c4446bb1b0b98820cbf110aea5656aecf55fbfb0"
  },
  "kernelspec": {
   "display_name": "Python 3.9.7 ('base')",
   "language": "python",
   "name": "python3"
  },
  "language_info": {
   "codemirror_mode": {
    "name": "ipython",
    "version": 3
   },
   "file_extension": ".py",
   "mimetype": "text/x-python",
   "name": "python",
   "nbconvert_exporter": "python",
   "pygments_lexer": "ipython3",
   "version": "3.9.7"
  },
  "orig_nbformat": 4
 },
 "nbformat": 4,
 "nbformat_minor": 2
}
