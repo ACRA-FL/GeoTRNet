{
 "cells": [
  {
   "cell_type": "markdown",
   "metadata": {},
   "source": [
    "### Test the model security by Adversarial Attack using FGD method"
   ]
  },
  {
   "cell_type": "code",
   "execution_count": 1,
   "metadata": {},
   "outputs": [],
   "source": [
    "# ! pip install https://ms-release.obs.cn-north-4.myhuaweicloud.com/1.7.0/MindSpore/cpu/x86_64/mindspore-1.7.0-cp39-cp39-win_amd64.whl --trusted-host ms-release.obs.cn-north-4.myhuaweicloud.com -i https://pypi.tuna.tsinghua.edu.cn/simple"
   ]
  },
  {
   "cell_type": "code",
   "execution_count": 2,
   "metadata": {},
   "outputs": [],
   "source": [
    "import os \n",
    "import math\n",
    "import pandas as pd \n",
    "import numpy as np\n",
    "from skimage import io, transform \n",
    "import matplotlib.pyplot as plt\n",
    "import seaborn as sns\n",
    "\n",
    "import tensorflow_datasets as tfds\n",
    "import tensorflow as tf \n",
    "from tensorflow.keras import layers\n",
    "from tensorflow.keras import losses\n",
    "import tensorflow_model_optimization as tfmot\n",
    "\n",
    "from tcn import TCN"
   ]
  },
  {
   "cell_type": "code",
   "execution_count": 3,
   "metadata": {},
   "outputs": [],
   "source": [
    "IMAGE_SIZE = (128,48)\n",
    "DATA_BS = 10\n",
    "DATA_N = 10\n",
    "LR = 0.005\n",
    "EPOCHS = 20\n",
    "BS = 48"
   ]
  },
  {
   "cell_type": "code",
   "execution_count": 4,
   "metadata": {},
   "outputs": [
    {
     "name": "stderr",
     "output_type": "stream",
     "text": [
      "Load dataset info from ~\\tensorflow_datasets\\mnist\\3.0.1\n",
      "Field info.citation from disk and from code do not match. Keeping the one from code.\n",
      "Field info.splits from disk and from code do not match. Keeping the one from code.\n",
      "Field info.supervised_keys from disk and from code do not match. Keeping the one from code.\n",
      "Field info.module_name from disk and from code do not match. Keeping the one from code.\n",
      "Reusing dataset mnist (~\\tensorflow_datasets\\mnist\\3.0.1)\n",
      "Constructing tf.data.Dataset mnist for split ['train', 'test'], from ~\\tensorflow_datasets\\mnist\\3.0.1\n"
     ]
    }
   ],
   "source": [
    "(ds_train, ds_test), info = tfds.load('mnist', split=['train', 'test'], with_info=True)\n",
    "train_gen = tfds.as_numpy(ds_train)\n",
    "test_gen = tfds.as_numpy(ds_test)"
   ]
  },
  {
   "cell_type": "code",
   "execution_count": 5,
   "metadata": {},
   "outputs": [],
   "source": [
    "class MNISTDataset(object):\n",
    "\n",
    "    def __init__(self, n_digits=8, image_size=(156, 32)):\n",
    "        self.n_digits = n_digits\n",
    "        self.image_size = image_size\n",
    "\n",
    "    def gen_data(self, gen):\n",
    "        images, labels = [], []\n",
    "        for x in gen:\n",
    "            images.append(x['image'])\n",
    "            labels.append(x['label'])\n",
    "        images, labels = np.squeeze(np.array(images)), np.squeeze(np.array(labels)); print(images.shape,labels.shape,labels)\n",
    "        return images, labels\n",
    "\n",
    "    def gen_patch(self, img, ann, c=np.inf):\n",
    "        size = img.shape[0]\n",
    "        indexes = np.arange(size)\n",
    "        np.random.shuffle(indexes)\n",
    "        \n",
    "        c_prime = divmod(size, self.n_digits)[0]*self.n_digits\n",
    "        if c_prime < c:\n",
    "            size = c_prime\n",
    "        else:\n",
    "            size = divmod(c, self.n_digits)[0]*self.n_digits\n",
    "\n",
    "        sample_index = indexes[:size]\n",
    "        sticker_index = sample_index.reshape((-1, self.n_digits)).T\n",
    "        sticker_images = np.transpose(np.hstack([np.transpose(img[inds], (0, 2, 1)) for inds in sticker_index]), (0, 2, 1))\n",
    "        sfl_label =  ann[sample_index, ...]\n",
    "        sticker_labels = sfl_label.reshape((-1, self.n_digits))\n",
    "        return sticker_images, sticker_labels\n",
    "\n",
    "    def generate(self, data_generator, n_sample):\n",
    "        init_image, init_label = self.gen_data(data_generator)\n",
    "        c = n_sample\n",
    "        dt_images, dt_labels = self.gen_patch(init_image, init_label, c)\n",
    "        while c > self.n_digits:\n",
    "            c = n_sample - dt_images.shape[0]\n",
    "            p_images, p_labels = self.gen_patch(init_image, init_label, c)\n",
    "            dt_images, dt_labels = np.vstack((dt_images, p_images)), np.vstack((dt_labels, p_labels))\n",
    "\n",
    "        ret_tensor = tf.convert_to_tensor(np.swapaxes(dt_images, 1, 2), dtype=tf.float32);print(dt_images.shape,dt_labels.shape)\n",
    "        ind_tensor = tf.convert_to_tensor(dt_labels, dtype=tf.int32)\n",
    "        dataset = tf.data.Dataset.from_tensor_slices((ret_tensor, ind_tensor))\n",
    "        return dataset\n",
    "    "
   ]
  },
  {
   "cell_type": "code",
   "execution_count": 6,
   "metadata": {},
   "outputs": [],
   "source": [
    "mnist = MNISTDataset()\n"
   ]
  },
  {
   "cell_type": "code",
   "execution_count": 7,
   "metadata": {},
   "outputs": [
    {
     "name": "stdout",
     "output_type": "stream",
     "text": [
      "(60000, 28, 28) (60000,) [4 1 0 ... 6 1 5]\n",
      "(9993, 28, 224) (9993, 8)\n",
      "(10000, 28, 28) (10000,) [2 0 4 ... 8 0 5]\n",
      "(1993, 28, 224) (1993, 8)\n"
     ]
    }
   ],
   "source": [
    "train_dataset = mnist.generate(train_gen, n_sample=10000)\n",
    "test_dataset = mnist.generate(test_gen, n_sample=2000)"
   ]
  },
  {
   "cell_type": "code",
   "execution_count": 8,
   "metadata": {},
   "outputs": [
    {
     "name": "stdout",
     "output_type": "stream",
     "text": [
      "(224, 28)\n",
      "[2 6 1 7 6 0 9 1]\n"
     ]
    },
    {
     "data": {
      "image/png": "[encoded data removed]",
      "text/plain": [
       "<Figure size 432x288 with 1 Axes>"
      ]
     },
     "metadata": {
      "needs_background": "light"
     },
     "output_type": "display_data"
    }
   ],
   "source": [
    "for i in test_dataset.take(1):\n",
    "    img, label = i\n",
    "print(img.shape)\n",
    "print(label.numpy())\n",
    "plt.imshow(img.numpy().T)\n",
    "IMAGE_SIZE = img.shape"
   ]
  },
  {
   "cell_type": "code",
   "execution_count": 9,
   "metadata": {},
   "outputs": [],
   "source": [
    "train_loader = train_dataset.shuffle(buffer_size=1000).batch(BS, drop_remainder=True).prefetch(buffer_size=tf.data.AUTOTUNE)\n",
    "valid_loader = test_dataset.batch(BS, drop_remainder=True).prefetch(buffer_size=tf.data.AUTOTUNE)"
   ]
  },
  {
   "cell_type": "code",
   "execution_count": 10,
   "metadata": {},
   "outputs": [],
   "source": [
    "class mAP(tf.keras.metrics.Metric):\n",
    "    def __init__(self, name='mAP', alpha=0.9, **kwargs):\n",
    "        super(mAP, self).__init__(name=name, **kwargs)\n",
    "        self.map = self.add_weight(name='map', initializer='zeros')\n",
    "        self.alpha = alpha\n",
    "\n",
    "    def update_state(self, y_true, y_pred):\n",
    "        y_true = tf.cast(y_true, tf.int32)\n",
    "        y_pred = tf.cast(y_pred, tf.float32)\n",
    "        alpha = tf.constant(self.alpha, dtype=tf.float32)\n",
    "        alpha_prime = tf.constant(1-self.alpha, dtype=tf.float32)\n",
    "\n",
    "        res_arr = tf.map_fn(lambda i: tf.math.reduce_mean(tf.keras.metrics.sparse_categorical_accuracy(y_true[i, ...], y_pred[i, ...])), elems=tf.range(y_pred.shape[0]), dtype=tf.float32)\n",
    "        tensor_without_nans = tf.where(tf.math.is_nan(res_arr), tf.zeros_like(res_arr), res_arr)\n",
    "        cur_val = tf.math.reduce_mean(tensor_without_nans, axis=-1)\n",
    "        weighted_avg = tf.math.add(tf.multiply(alpha, self.map), tf.multiply(alpha_prime, cur_val))\n",
    "        self.map.assign(weighted_avg)\n",
    "\n",
    "    def result(self):\n",
    "        return self.map\n"
   ]
  },
  {
   "cell_type": "code",
   "execution_count": 11,
   "metadata": {},
   "outputs": [],
   "source": [
    "class mDP(tf.keras.metrics.Metric):\n",
    "    def __init__(self, name='mDP', n_classes=10, alpha=0.9, **kwargs):\n",
    "        super(mDP, self).__init__(name=name, **kwargs)\n",
    "        self.n = n_classes\n",
    "        self.alpha = alpha\n",
    "        self.mdp = self.add_weight(name='mdp', initializer='zeros')\n",
    "\n",
    "    def update_state(self, y_true, y_pred):\n",
    "        y_true = tf.cast(y_true, tf.int32)\n",
    "        y_pred = tf.cast(y_pred, tf.float32)\n",
    "        alpha = tf.constant(self.alpha, dtype=tf.float32)\n",
    "        alpha_prime = tf.constant(1-self.alpha, dtype=tf.float32)\n",
    "\n",
    "        def func(i):\n",
    "            mask = tf.equal(y_true, tf.constant(i))\n",
    "            ilabels = tf.reshape(tf.boolean_mask(y_true,mask), shape=(-1))\n",
    "            ipreds = tf.reshape(tf.boolean_mask(y_pred,mask), shape=(-1, self.n))\n",
    "            return tf.math.reduce_mean(tf.keras.metrics.sparse_categorical_accuracy(ilabels, ipreds))\n",
    "\n",
    "        res_arr = tf.map_fn(lambda i: func(i), elems=tf.range(self.n), dtype=tf.float32)\n",
    "        tensor_without_nans = tf.where(tf.math.is_nan(res_arr), tf.zeros_like(res_arr), res_arr)\n",
    "        cur_val = tf.math.reduce_mean(tensor_without_nans, axis=-1)\n",
    "        weighted_avg = tf.math.add(tf.multiply(alpha, self.mdp), tf.multiply(alpha_prime, cur_val))\n",
    "        self.mdp.assign(weighted_avg)\n",
    "\n",
    "    def result(self):\n",
    "        return self.mdp"
   ]
  },
  {
   "cell_type": "code",
   "execution_count": 12,
   "metadata": {},
   "outputs": [],
   "source": [
    "class RecNet(tf.keras.Model):\n",
    "\tdef __init__(self, bs=16, input_size=(128, 48), n_classes=10, h_cell=64, latent_size=32, max_obj=15, linear_k=3, rho=0.05):\n",
    "\t\tsuper().__init__()\n",
    "\t\tself.rho = rho\n",
    "\t\tself.bs = bs\n",
    "\t\tself.input_size = input_size\n",
    "\t\tself.n_classes = n_classes  # LSTM module projection size\n",
    "\t\tself.h_cell = h_cell  # LSTM hidden size\n",
    "\t\tself.latent_size = latent_size\n",
    "\t\tself.max_obj = max_obj\n",
    "\t\tself.linear_k = linear_k\n",
    "\t\tself.model = self.build_model(\n",
    "\t\t\tself.input_size, self.h_cell, self.latent_size, self.n_classes, self.max_obj, self.linear_k)\n",
    "\n",
    "\t\tself.scce = losses.SparseCategoricalCrossentropy(from_logits=False,)\n",
    "\n",
    "\t\tself.loss_metric = tf.keras.metrics.Mean(name=\"loss\")\n",
    "\t\tself.acc_metric = tf.keras.metrics.Mean(name=\"accuracy\")\n",
    "\t\tself.mAP = mAP()\n",
    "\t\tself.mDP = mDP(n_classes=self.n_classes)\n",
    "\t\tself.acc_mat = tf.keras.metrics.Accuracy()\n",
    "\n",
    "\tdef build_model(self, input_shape=(128, 48), h_cell=32, latent_size=32, n_classes=10, n_obj=10, linear_k=3):\n",
    "\t\tx_input = layers.Input(shape=input_shape)\n",
    "\t\tforward_layer = layers.LSTM(h_cell//2, return_sequences=True)\n",
    "\t\tx = layers.Bidirectional(forward_layer, input_shape=self.input_size)(x_input)\n",
    "\t\tx = layers.LSTM(latent_size, activation='tanh',\n",
    "\t\t\t\t\t\treturn_sequences=True, go_backwards=True)(x)\n",
    "\t\tx = layers.Conv1D(n_classes, linear_k, activation='tanh')(x)\n",
    "\t\tx = layers.Permute((2, 1))(x)\n",
    "\t\tx = layers.Conv1D(n_obj, 1, activation='tanh')(x)\n",
    "\t\tx = layers.Permute((2, 1))(x)\n",
    "\t\tx_output = layers.Activation('softmax')(x)\n",
    "\n",
    "\t\tmodel = tf.keras.Model(inputs=x_input, outputs=x_output)\n",
    "\t\treturn model\n",
    "\n",
    "\t@property\n",
    "\tdef metrics(self):\n",
    "\t\treturn [self.loss_metric, self.acc_mat]\n",
    "\n",
    "\tdef calculate_loss(self, target, pred):\n",
    "\t\ttarget = tf.reshape(target, shape=(-1))\n",
    "\t\tpred = tf.reshape(pred, shape=(-1, self.n_classes))\n",
    "\t\tloss = self.scce(target, pred)\n",
    "\n",
    "\t\ty_hat = tf.argmax(pred, axis=-1)\n",
    "\t\tacc = self.acc_mat(y_hat, target)\n",
    "\t\treturn loss, acc\n",
    "\n",
    "\tdef call(self, x):\n",
    "\t\tfull_out = self.model(x)\n",
    "\t\treturn full_out\n",
    "\n",
    "\tdef train_step(self, batch_data):\n",
    "\t\tx, target = batch_data\n",
    "\t\te_ws = []\n",
    "\t\twith tf.GradientTape() as tape:\n",
    "\t\t\tpred = self(x, training=True)\n",
    "\t\t\t# print(pred.shape, pred)\n",
    "\t\t\tloss, acc = self.calculate_loss(target, pred)\n",
    "\n",
    "\t\ttrainable_params = self.trainable_variables\n",
    "\t\tgradients = tape.gradient(loss, trainable_params)\n",
    "\t\tgrad_norm = self._grad_norm(gradients)\n",
    "\t\tscale = self.rho / (grad_norm + 1e-12)\n",
    "\n",
    "\t\tfor (grad, param) in zip(gradients, trainable_params):\n",
    "\t\t\te_w = grad*scale \n",
    "\t\t\tparam.assign_add(e_w)\n",
    "\t\t\te_ws.append(e_w)\n",
    "\n",
    "\t\twith tf.GradientTape() as tape:\n",
    "\t\t\tpred = self(x, training=True)\n",
    "\t\t\tloss, acc = self.calculate_loss(target, pred)\n",
    "\n",
    "\t\tsam_gradient = tape.gradient(loss, trainable_params)\n",
    "\t\tfor (param, e_w) in zip(trainable_params, e_ws):\n",
    "\t\t\tparam.assign_sub(e_w)\n",
    "\n",
    "\t\tself.optimizer.apply_gradients(zip(sam_gradient, trainable_params))\n",
    "\t\tself.loss_metric.update_state(loss)\n",
    "\t\tself.acc_metric.update_state(acc)\n",
    "\t\tself.mAP.update_state(target, pred)\n",
    "\t\tself.mDP.update_state(target, pred)\n",
    "\t\treturn {\n",
    "\t\t\t\"loss\": self.loss_metric.result(),\n",
    "\t\t\t\"accuracy\": self.acc_mat.result(),\n",
    "\t\t\t\"mAP\": self.mAP.result(),\n",
    "\t\t\t\"mDP\": self.mDP.result()\n",
    "\t\t}\n",
    "\n",
    "\tdef test_step(self, batch_data):\n",
    "\t\tx, target = batch_data\n",
    "\n",
    "\t\tpred = self(x, training=False)\n",
    "\t\tloss, acc = self.calculate_loss(target, pred)\n",
    "\n",
    "\t\tself.loss_metric.update_state(loss)\n",
    "\t\tself.acc_metric.update_state(acc)\n",
    "\t\tself.mAP.update_state(target, pred)\n",
    "\t\tself.mDP.update_state(target, pred)\n",
    "\t\treturn {\n",
    "\t\t\t\"loss\": self.loss_metric.result(),\n",
    "\t\t\t\"accuracy\": self.acc_mat.result(),\n",
    "\t\t\t\"mAP\": self.mAP.result(),\n",
    "\t\t\t\"mDP\": self.mDP.result()\n",
    "\t\t}\n",
    "\n",
    "\tdef _grad_norm(self, gradients):\n",
    "\t\tnorm = tf.norm(\n",
    "\t\t\ttf.stack([\n",
    "\t\t\t\ttf.norm(grad) for grad in gradients if grad is not None\n",
    "\t\t\t])\n",
    "\t\t)\n",
    "\t\treturn norm\n"
   ]
  },
  {
   "cell_type": "code",
   "execution_count": 13,
   "metadata": {},
   "outputs": [],
   "source": [
    "recNet = RecNet(input_size=IMAGE_SIZE,\n",
    "                bs=BS,\n",
    "                n_classes=10,\n",
    "                h_cell=32,\n",
    "                max_obj=10,\n",
    "                linear_k=3)"
   ]
  },
  {
   "cell_type": "code",
   "execution_count": 14,
   "metadata": {},
   "outputs": [
    {
     "name": "stdout",
     "output_type": "stream",
     "text": [
      "Model: \"model\"\n",
      "_________________________________________________________________\n",
      " Layer (type)                Output Shape              Param #   \n",
      "=================================================================\n",
      " input_1 (InputLayer)        [(None, 224, 28)]         0         \n",
      "                                                                 \n",
      " bidirectional (Bidirectiona  (None, 224, 32)          5760      \n",
      " l)                                                              \n",
      "                                                                 \n",
      " lstm_1 (LSTM)               (None, 224, 32)           8320      \n",
      "                                                                 \n",
      " conv1d (Conv1D)             (None, 222, 10)           970       \n",
      "                                                                 \n",
      " permute (Permute)           (None, 10, 222)           0         \n",
      "                                                                 \n",
      " conv1d_1 (Conv1D)           (None, 10, 10)            2230      \n",
      "                                                                 \n",
      " permute_1 (Permute)         (None, 10, 10)            0         \n",
      "                                                                 \n",
      " activation (Activation)     (None, 10, 10)            0         \n",
      "                                                                 \n",
      "=================================================================\n",
      "Total params: 17,280\n",
      "Trainable params: 17,280\n",
      "Non-trainable params: 0\n",
      "_________________________________________________________________\n"
     ]
    }
   ],
   "source": [
    "recNet.model.summary()"
   ]
  },
  {
   "cell_type": "code",
   "execution_count": 15,
   "metadata": {},
   "outputs": [],
   "source": [
    "def lr_time_based_decay(epoch, lr):\n",
    "    decay = 0.001\n",
    "    return lr * 1 / (1 + decay * epoch)\n",
    "\n",
    "def lr_step_decay(epoch, lr):\n",
    "    drop_rate = 0.5\n",
    "    epochs_drop = 10.0\n",
    "    return LR * math.pow(drop_rate, math.floor(epoch/epochs_drop))\n",
    "\n",
    "def lr_exp_decay(epoch, lr):\n",
    "    k = 0.1\n",
    "    return LR * math.exp(-k*epoch)\n",
    "\n",
    "decay_steps = 1000\n",
    "# lr_decayed_fn = tf.keras.optimizers.schedules.CosineDecay(\n",
    "#     LR, decay_steps)\n",
    "\n",
    "lr_decaying_callback = tf.keras.callbacks.LearningRateScheduler(lr_step_decay, verbose=1)"
   ]
  },
  {
   "cell_type": "code",
   "execution_count": 16,
   "metadata": {},
   "outputs": [],
   "source": [
    "earlystopping_callback = tf.keras.callbacks.EarlyStopping(\n",
    "                            monitor='val_accuracy',\n",
    "                            min_delta=0,\n",
    "                            patience=5,\n",
    "                            restore_best_weights=True\n",
    "                        )\n",
    "\n",
    "optimizer = tf.keras.optimizers.Adam(\n",
    "    learning_rate=LR,\n",
    ")"
   ]
  },
  {
   "cell_type": "code",
   "execution_count": 19,
   "metadata": {},
   "outputs": [],
   "source": [
    "# model = RecNet(bs=BS)\n",
    "model = RecNet(input_size=IMAGE_SIZE,\n",
    "                bs=BS,\n",
    "                n_classes=10,\n",
    "                h_cell=32,\n",
    "                max_obj=8,\n",
    "                linear_k=3)\n",
    "model.compile(optimizer, loss='categorical_crossentropy', run_eagerly=True)"
   ]
  },
  {
   "cell_type": "code",
   "execution_count": 20,
   "metadata": {},
   "outputs": [
    {
     "name": "stdout",
     "output_type": "stream",
     "text": [
      "\n",
      "Epoch 00001: LearningRateScheduler setting learning rate to 0.005.\n",
      "Epoch 1/10\n",
      "208/208 [==============================] - 67s 313ms/step - loss: 1.1870 - accuracy: 0.7912 - mAP: 0.7456 - mDP: 0.7429 - val_loss: 0.9285 - val_accuracy: 0.9273 - val_mAP: 0.9269 - val_mDP: 0.9268 - lr: 0.0050\n",
      "\n",
      "Epoch 00002: LearningRateScheduler setting learning rate to 0.005.\n",
      "Epoch 2/10\n",
      "208/208 [==============================] - 65s 314ms/step - loss: 0.9175 - accuracy: 0.9366 - mAP: 0.9326 - mDP: 0.9320 - val_loss: 0.8857 - val_accuracy: 0.9470 - val_mAP: 0.9444 - val_mDP: 0.9441 - lr: 0.0050\n",
      "\n",
      "Epoch 00003: LearningRateScheduler setting learning rate to 0.005.\n",
      "Epoch 3/10\n",
      "208/208 [==============================] - 65s 313ms/step - loss: 0.8938 - accuracy: 0.9480 - mAP: 0.9452 - mDP: 0.9447 - val_loss: 0.8757 - val_accuracy: 0.9524 - val_mAP: 0.9536 - val_mDP: 0.9539 - lr: 0.0050\n",
      "\n",
      "Epoch 00004: LearningRateScheduler setting learning rate to 0.005.\n",
      "Epoch 4/10\n",
      "208/208 [==============================] - 66s 317ms/step - loss: 0.8798 - accuracy: 0.9552 - mAP: 0.9532 - mDP: 0.9528 - val_loss: 0.8735 - val_accuracy: 0.9567 - val_mAP: 0.9574 - val_mDP: 0.9569 - lr: 0.0050\n",
      "\n",
      "Epoch 00005: LearningRateScheduler setting learning rate to 0.005.\n",
      "Epoch 5/10\n",
      "208/208 [==============================] - 66s 316ms/step - loss: 0.8732 - accuracy: 0.9592 - mAP: 0.9571 - mDP: 0.9567 - val_loss: 0.8562 - val_accuracy: 0.9637 - val_mAP: 0.9638 - val_mDP: 0.9643 - lr: 0.0050\n",
      "\n",
      "Epoch 00006: LearningRateScheduler setting learning rate to 0.005.\n",
      "Epoch 6/10\n",
      "208/208 [==============================] - 68s 326ms/step - loss: 0.8632 - accuracy: 0.9649 - mAP: 0.9631 - mDP: 0.9629 - val_loss: 0.8583 - val_accuracy: 0.9627 - val_mAP: 0.9620 - val_mDP: 0.9622 - lr: 0.0050\n",
      "\n",
      "Epoch 00007: LearningRateScheduler setting learning rate to 0.005.\n",
      "Epoch 7/10\n",
      "208/208 [==============================] - 67s 324ms/step - loss: 0.8620 - accuracy: 0.9638 - mAP: 0.9622 - mDP: 0.9616 - val_loss: 0.8595 - val_accuracy: 0.9620 - val_mAP: 0.9625 - val_mDP: 0.9627 - lr: 0.0050\n",
      "\n",
      "Epoch 00008: LearningRateScheduler setting learning rate to 0.005.\n",
      "Epoch 8/10\n",
      "208/208 [==============================] - 66s 315ms/step - loss: 0.8668 - accuracy: 0.9618 - mAP: 0.9603 - mDP: 0.9601 - val_loss: 0.8536 - val_accuracy: 0.9658 - val_mAP: 0.9660 - val_mDP: 0.9663 - lr: 0.0050\n",
      "\n",
      "Epoch 00009: LearningRateScheduler setting learning rate to 0.005.\n",
      "Epoch 9/10\n",
      "208/208 [==============================] - 66s 318ms/step - loss: 0.8593 - accuracy: 0.9659 - mAP: 0.9645 - mDP: 0.9643 - val_loss: 0.8605 - val_accuracy: 0.9630 - val_mAP: 0.9623 - val_mDP: 0.9624 - lr: 0.0050\n",
      "\n",
      "Epoch 00010: LearningRateScheduler setting learning rate to 0.005.\n",
      "Epoch 10/10\n",
      "208/208 [==============================] - 68s 324ms/step - loss: 0.8569 - accuracy: 0.9675 - mAP: 0.9659 - mDP: 0.9656 - val_loss: 0.8574 - val_accuracy: 0.9649 - val_mAP: 0.9641 - val_mDP: 0.9648 - lr: 0.0050\n"
     ]
    },
    {
     "data": {
      "text/plain": [
       "<keras.callbacks.History at 0x21e37acb280>"
      ]
     },
     "execution_count": 20,
     "metadata": {},
     "output_type": "execute_result"
    }
   ],
   "source": [
    "model.fit(\n",
    "    train_loader,\n",
    "    epochs=10,\n",
    "    validation_data=valid_loader,\n",
    "    callbacks=[earlystopping_callback,\n",
    "               lr_decaying_callback]\n",
    ")\n"
   ]
  },
  {
   "cell_type": "code",
   "execution_count": 21,
   "metadata": {},
   "outputs": [],
   "source": [
    "from copy import deepcopy\n",
    "\n",
    "pretrained_model = model #deepcopy(model)\n",
    "\n",
    "def create_adversarial_pattern(input_image, input_label, eps=0.3):\n",
    "  with tf.GradientTape() as tape:\n",
    "    tape.watch(input_image)\n",
    "    prediction = pretrained_model(input_image)\n",
    "    loss, _ = pretrained_model.calculate_loss(input_label, prediction)\n",
    "\n",
    "  # Get the gradients of the loss w.r.t to the input image.\n",
    "  gradient = tape.gradient(loss, input_image)\n",
    "  # Get the sign of the gradients to create the perturbation\n",
    "  signed_grad = tf.sign(gradient)\n",
    "  adversarial_sample = input_image + eps*signed_grad\n",
    "  return adversarial_sample"
   ]
  },
  {
   "cell_type": "code",
   "execution_count": 22,
   "metadata": {},
   "outputs": [
    {
     "name": "stdout",
     "output_type": "stream",
     "text": [
      "(10000, 28, 28) (10000,) [2 0 4 ... 8 0 5]\n",
      "(993, 28, 224) (993, 8)\n"
     ]
    }
   ],
   "source": [
    "adv_dataset = mnist.generate(test_gen, n_sample=1000)\n",
    "adv_images, adv_labels = [], []\n",
    "for i in adv_dataset.take(100):\n",
    "    image, labels = i\n",
    "    adv_images.append(create_adversarial_pattern(tf.expand_dims(image, axis=0), labels).numpy())\n",
    "    adv_labels.append(labels.numpy())\n",
    "    # print(image.shape, labels.shape)\n",
    "\n",
    "adv_images, adv_labels = np.squeeze(np.array(adv_images)), np.array(adv_labels)"
   ]
  },
  {
   "cell_type": "code",
   "execution_count": 23,
   "metadata": {},
   "outputs": [
    {
     "data": {
      "text/plain": [
       "(100, 224, 28)"
      ]
     },
     "execution_count": 23,
     "metadata": {},
     "output_type": "execute_result"
    }
   ],
   "source": [
    "adv_images.shape"
   ]
  },
  {
   "cell_type": "code",
   "execution_count": 24,
   "metadata": {},
   "outputs": [
    {
     "data": {
      "text/plain": [
       "<matplotlib.image.AxesImage at 0x21f6d4088b0>"
      ]
     },
     "execution_count": 24,
     "metadata": {},
     "output_type": "execute_result"
    },
    {
     "data": {
      "image/png": "[encoded data removed]",
      "text/plain": [
       "<Figure size 432x288 with 1 Axes>"
      ]
     },
     "metadata": {
      "needs_background": "light"
     },
     "output_type": "display_data"
    }
   ],
   "source": [
    "plt.imshow(adv_images[0, ...].T, cmap='gray')"
   ]
  },
  {
   "cell_type": "code",
   "execution_count": 25,
   "metadata": {},
   "outputs": [],
   "source": [
    "tf_adv_samples = tf.convert_to_tensor(adv_images)\n",
    "pred_labels = model(tf_adv_samples)"
   ]
  },
  {
   "cell_type": "code",
   "execution_count": 26,
   "metadata": {},
   "outputs": [
    {
     "data": {
      "text/plain": [
       "TensorShape([100, 8])"
      ]
     },
     "execution_count": 26,
     "metadata": {},
     "output_type": "execute_result"
    }
   ],
   "source": [
    "pred_classes = tf.argmax(pred_labels, axis=-1)\n",
    "pred_classes.shape"
   ]
  },
  {
   "cell_type": "code",
   "execution_count": 27,
   "metadata": {},
   "outputs": [
    {
     "data": {
      "text/plain": [
       "0.88625"
      ]
     },
     "execution_count": 27,
     "metadata": {},
     "output_type": "execute_result"
    }
   ],
   "source": [
    "from sklearn.metrics import accuracy_score\n",
    "accuracy_score(np.reshape(adv_labels, (-1)), np.reshape(pred_classes.numpy(), (-1)))"
   ]
  },
  {
   "cell_type": "markdown",
   "metadata": {},
   "source": [
    "with epsilone = 0.1"
   ]
  },
  {
   "cell_type": "code",
   "execution_count": 30,
   "metadata": {},
   "outputs": [
    {
     "name": "stdout",
     "output_type": "stream",
     "text": [
      "(10000, 28, 28) (10000,) [2 0 4 ... 8 0 5]\n",
      "(993, 28, 224) (993, 8)\n"
     ]
    }
   ],
   "source": [
    "adv_dataset = mnist.generate(test_gen, n_sample=1000)\n",
    "adv_images, adv_labels = [], []\n",
    "for i in adv_dataset.take(100):\n",
    "    image, labels = i\n",
    "    adv_images.append(create_adversarial_pattern(tf.expand_dims(image, axis=0), labels, eps=0.1).numpy())\n",
    "    adv_labels.append(labels.numpy())\n",
    "    # print(image.shape, labels.shape)\n",
    "\n",
    "adv_images, adv_labels = np.squeeze(np.array(adv_images)), np.array(adv_labels)"
   ]
  },
  {
   "cell_type": "code",
   "execution_count": 31,
   "metadata": {},
   "outputs": [
    {
     "data": {
      "text/plain": [
       "0.9575"
      ]
     },
     "execution_count": 31,
     "metadata": {},
     "output_type": "execute_result"
    }
   ],
   "source": [
    "tf_adv_samples = tf.convert_to_tensor(adv_images)\n",
    "pred_labels = model(tf_adv_samples)\n",
    "pred_classes = tf.argmax(pred_labels, axis=-1)\n",
    "accuracy_score(np.reshape(adv_labels, (-1)), np.reshape(pred_classes.numpy(), (-1)))"
   ]
  },
  {
   "cell_type": "code",
   "execution_count": 34,
   "metadata": {},
   "outputs": [
    {
     "name": "stdout",
     "output_type": "stream",
     "text": [
      "20/20 [==============================] - 5s 235ms/step - loss: 0.8551 - accuracy: 0.9655 - mAP: 0.9655 - mDP: 0.9653\n"
     ]
    }
   ],
   "source": [
    "adv_loader = adv_dataset.batch(BS, drop_remainder=True).prefetch(buffer_size=tf.data.AUTOTUNE)\n",
    "pred_labels = model.evaluate(adv_loader)\n",
    "pred_classes = tf.argmax(pred_labels, axis=-1)\n",
    "accuracy_score(np.reshape(adv_labels, (-1)), np.reshape(pred_classes.numpy(), (-1)))"
   ]
  },
  {
   "cell_type": "code",
   "execution_count": 1,
   "metadata": {},
   "outputs": [
    {
     "data": {
      "text/plain": [
       "0.07898000000000005"
      ]
     },
     "execution_count": 1,
     "metadata": {},
     "output_type": "execute_result"
    }
   ],
   "source": [
    "0.9655 - 0.88652"
   ]
  },
  {
   "cell_type": "code",
   "execution_count": null,
   "metadata": {},
   "outputs": [],
   "source": []
  }
 ],
 "metadata": {
  "kernelspec": {
   "display_name": "Python 3.9.7 ('base')",
   "language": "python",
   "name": "python3"
  },
  "language_info": {
   "codemirror_mode": {
    "name": "ipython",
    "version": 3
   },
   "file_extension": ".py",
   "mimetype": "text/x-python",
   "name": "python",
   "nbconvert_exporter": "python",
   "pygments_lexer": "ipython3",
   "version": "3.9.7"
  },
  "orig_nbformat": 4,
  "vscode": {
   "interpreter": {
    "hash": "08aea5f70877f29c16b88dd2c4446bb1b0b98820cbf110aea5656aecf55fbfb0"
   }
  }
 },
 "nbformat": 4,
 "nbformat_minor": 2
}
