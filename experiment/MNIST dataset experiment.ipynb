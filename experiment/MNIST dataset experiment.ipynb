{
 "cells": [
  {
   "cell_type": "markdown",
   "metadata": {
    "pycharm": {
     "name": "#%% md\n"
    }
   },
   "source": [
    "\n",
    "\n",
    "## Experiment Details\n",
    "__Experiment Id__ : 006 \\\n",
    "__Target__ : Test the model performance on the hand-written razor images \\\n",
    "__Solution__ : \n",
    "- create MNIST sticker set\n",
    "- train and test model on mnist dataset\n",
    "\n",
    "__Empirical result__ : \n",
    "- model size be even smaller [9574]\n",
    "- get to very high accuracy\n",
    "- shows clean outputs in the inference time"
   ]
  },
  {
   "cell_type": "markdown",
   "metadata": {
    "pycharm": {
     "name": "#%% md\n"
    }
   },
   "source": [
    "---\n",
    "Implementation"
   ]
  },
  {
   "cell_type": "code",
   "execution_count": 1,
   "metadata": {
    "pycharm": {
     "name": "#%%\n"
    }
   },
   "outputs": [],
   "source": [
    "import tensorflow as tf \n",
    "from tensorflow.keras import layers\n",
    "from tensorflow.keras import losses\n",
    "from tcn import TCN\n",
    "\n",
    "from tqdm import tqdm\n",
    "import time\n",
    "import math\n",
    "import random \n",
    "import pandas as pd \n",
    "import numpy as np\n",
    "from skimage import io, transform \n",
    "import matplotlib.pyplot as plt\n",
    "import seaborn as sns\n",
    "import cv2\n",
    "import json\n",
    "\n",
    "import tensorflow_datasets as tfds\n",
    "import neptune.new as neptune"
   ]
  },
  {
   "cell_type": "markdown",
   "metadata": {
    "pycharm": {
     "name": "#%% md\n"
    }
   },
   "source": [
    "---\n",
    "Set global variables"
   ]
  },
  {
   "cell_type": "code",
   "execution_count": 2,
   "metadata": {
    "pycharm": {
     "name": "#%%\n"
    }
   },
   "outputs": [
    {
     "data": {
      "text/plain": [
       "[PhysicalDevice(name='/physical_device:GPU:0', device_type='GPU')]"
      ]
     },
     "execution_count": 2,
     "metadata": {},
     "output_type": "execute_result"
    }
   ],
   "source": [
    "gpu_available = tf.config.list_physical_devices('GPU')\n",
    "gpu_available"
   ]
  },
  {
   "cell_type": "code",
   "execution_count": 3,
   "metadata": {
    "pycharm": {
     "name": "#%%\n"
    }
   },
   "outputs": [],
   "source": [
    "IMAGE_SIZE = (128,48)\n",
    "DATA_BS = 10\n",
    "DATA_N = 10\n",
    "LR = 0.01\n",
    "EPOCHS = 20\n",
    "BS = 32\n",
    "N_CLASSES = 10"
   ]
  },
  {
   "cell_type": "markdown",
   "metadata": {
    "pycharm": {
     "name": "#%% md\n"
    }
   },
   "source": [
    "---\n",
    "Dataset & Dataloader"
   ]
  },
  {
   "cell_type": "code",
   "execution_count": 4,
   "metadata": {
    "collapsed": false,
    "pycharm": {
     "name": "#%%\n"
    }
   },
   "outputs": [],
   "source": [
    "from PIL import Image\n",
    "import matplotlib.pyplot as plt\n",
    "from numpy import newaxis"
   ]
  },
  {
   "cell_type": "code",
   "execution_count": 5,
   "metadata": {
    "collapsed": false,
    "pycharm": {
     "name": "#%%\n"
    }
   },
   "outputs": [
    {
     "name": "stderr",
     "output_type": "stream",
     "text": [
      "Load dataset info from ~\\tensorflow_datasets\\mnist\\3.0.1\n",
      "Reusing dataset mnist (~\\tensorflow_datasets\\mnist\\3.0.1)\n",
      "Constructing tf.data.Dataset mnist for split ['train', 'test'], from ~\\tensorflow_datasets\\mnist\\3.0.1\n"
     ]
    }
   ],
   "source": [
    "(ds_train, ds_test), info = tfds.load('mnist', split=['train', 'test'], with_info=True)\n",
    "train_gen = tfds.as_numpy(ds_train)\n",
    "test_gen = tfds.as_numpy(ds_test)"
   ]
  },
  {
   "cell_type": "code",
   "execution_count": 6,
   "metadata": {
    "pycharm": {
     "name": "#%%\n"
    }
   },
   "outputs": [],
   "source": [
    "class MNISTDataset(object):\n",
    "\n",
    "    def __init__(self, n_digits=8, image_size=(156, 32)):\n",
    "        self.n_digits = n_digits\n",
    "        self.image_size = image_size\n",
    "\n",
    "    def gen_data(self, gen):\n",
    "        images, labels = [], []\n",
    "        for x in gen:\n",
    "            images.append(x['image'])\n",
    "            labels.append(x['label'])\n",
    "        images, labels = np.squeeze(np.array(images)), np.squeeze(np.array(labels)); print(images.shape,labels.shape,labels)\n",
    "        return images, labels\n",
    "\n",
    "    def gen_patch(self, img, ann, c=np.inf):\n",
    "        size = img.shape[0]\n",
    "        indexes = np.arange(size)\n",
    "        np.random.shuffle(indexes)\n",
    "        \n",
    "        c_prime = divmod(size, self.n_digits)[0]*self.n_digits\n",
    "        if c_prime < c:\n",
    "            size = c_prime\n",
    "        else:\n",
    "            size = divmod(c, self.n_digits)[0]*self.n_digits\n",
    "\n",
    "        sample_index = indexes[:size]\n",
    "        sticker_index = sample_index.reshape((-1, self.n_digits)).T\n",
    "        sticker_images = np.transpose(np.hstack([np.transpose(img[inds], (0, 2, 1)) for inds in sticker_index]), (0, 2, 1))\n",
    "        sfl_label =  ann[sample_index, ...]\n",
    "        sticker_labels = sfl_label.reshape((-1, self.n_digits))\n",
    "        return sticker_images, sticker_labels\n",
    "\n",
    "    def generate(self, data_generator, n_sample):\n",
    "        init_image, init_label = self.gen_data(data_generator)\n",
    "        c = n_sample\n",
    "        dt_images, dt_labels = self.gen_patch(init_image, init_label, c)\n",
    "        while c > self.n_digits:\n",
    "            c = n_sample - dt_images.shape[0]\n",
    "            p_images, p_labels = self.gen_patch(init_image, init_label, c)\n",
    "            dt_images, dt_labels = np.vstack((dt_images, p_images)), np.vstack((dt_labels, p_labels))\n",
    "\n",
    "        ret_tensor = tf.convert_to_tensor(np.swapaxes(dt_images, 1, 2), dtype=tf.float32);print(dt_images.shape,dt_labels.shape)\n",
    "        ind_tensor = tf.convert_to_tensor(dt_labels, dtype=tf.int32)\n",
    "        dataset = tf.data.Dataset.from_tensor_slices((ret_tensor, ind_tensor))\n",
    "        return dataset"
   ]
  },
  {
   "cell_type": "code",
   "execution_count": 7,
   "metadata": {
    "pycharm": {
     "name": "#%%\n"
    }
   },
   "outputs": [],
   "source": [
    "mnist = MNISTDataset()"
   ]
  },
  {
   "cell_type": "code",
   "execution_count": 8,
   "metadata": {
    "pycharm": {
     "name": "#%%\n"
    }
   },
   "outputs": [
    {
     "name": "stdout",
     "output_type": "stream",
     "text": [
      "(60000, 28, 28) (60000,) [4 1 0 ... 6 1 5]\n",
      "(11993, 28, 224) (11993, 8)\n",
      "(10000, 28, 28) (10000,) [2 0 4 ... 8 0 5]\n",
      "(1993, 28, 224) (1993, 8)\n"
     ]
    }
   ],
   "source": [
    "train_dataset = mnist.generate(train_gen, n_sample=12_000)\n",
    "test_dataset = mnist.generate(test_gen, n_sample=2000)"
   ]
  },
  {
   "cell_type": "code",
   "execution_count": 9,
   "metadata": {
    "pycharm": {
     "name": "#%%\n"
    }
   },
   "outputs": [
    {
     "name": "stdout",
     "output_type": "stream",
     "text": [
      "(224, 28)\n",
      "[3 7 7 6 9 9 9 4]\n"
     ]
    },
    {
     "data": {
      "image/png": "[encoded data removed]",
      "text/plain": [
       "<Figure size 432x288 with 1 Axes>"
      ]
     },
     "metadata": {
      "needs_background": "light"
     },
     "output_type": "display_data"
    }
   ],
   "source": [
    "for i in test_dataset.take(1):\n",
    "    img, label = i\n",
    "print(img.shape)\n",
    "print(label.numpy())\n",
    "plt.imshow(img.numpy().T)\n",
    "IMAGE_SIZE = img.shape"
   ]
  },
  {
   "cell_type": "code",
   "execution_count": 10,
   "metadata": {
    "pycharm": {
     "name": "#%%\n"
    }
   },
   "outputs": [],
   "source": [
    "train_loader = train_dataset.shuffle(buffer_size=1000).batch(BS, drop_remainder=True).prefetch(buffer_size=tf.data.AUTOTUNE)\n",
    "valid_loader = test_dataset.batch(BS, drop_remainder=True).prefetch(buffer_size=tf.data.AUTOTUNE)"
   ]
  },
  {
   "cell_type": "markdown",
   "metadata": {
    "pycharm": {
     "name": "#%% md\n"
    }
   },
   "source": [
    "---\n",
    "Model Defining"
   ]
  },
  {
   "cell_type": "code",
   "execution_count": 11,
   "metadata": {},
   "outputs": [],
   "source": [
    "class mAP(tf.keras.metrics.Metric):\n",
    "    def __init__(self, name='mAP', alpha=0.9, **kwargs):\n",
    "        super(mAP, self).__init__(name=name, **kwargs)\n",
    "        self.map = self.add_weight(name='map', initializer='zeros')\n",
    "        self.alpha = alpha\n",
    "\n",
    "    def update_state(self, y_true, y_pred):\n",
    "        y_true = tf.cast(y_true, tf.int32)\n",
    "        y_pred = tf.cast(y_pred, tf.float32)\n",
    "        alpha = tf.constant(self.alpha, dtype=tf.float32)\n",
    "        alpha_prime = tf.constant(1-self.alpha, dtype=tf.float32)\n",
    "\n",
    "        res_arr = tf.map_fn(lambda i: tf.math.reduce_mean(tf.keras.metrics.sparse_categorical_accuracy(y_true[i, ...], y_pred[i, ...])), elems=tf.range(y_pred.shape[0]), dtype=tf.float32)\n",
    "        tensor_without_nans = tf.where(tf.math.is_nan(res_arr), tf.zeros_like(res_arr), res_arr)\n",
    "        cur_val = tf.math.reduce_mean(tensor_without_nans, axis=-1)\n",
    "        weighted_avg = tf.math.add(tf.multiply(alpha, self.map), tf.multiply(alpha_prime, cur_val))\n",
    "        self.map.assign(weighted_avg)\n",
    "\n",
    "    def result(self):\n",
    "        return self.map\n"
   ]
  },
  {
   "cell_type": "code",
   "execution_count": 12,
   "metadata": {},
   "outputs": [],
   "source": [
    "class mDP(tf.keras.metrics.Metric):\n",
    "    def __init__(self, name='mDP', n_classes=10, alpha=0.9, **kwargs):\n",
    "        super(mDP, self).__init__(name=name, **kwargs)\n",
    "        self.n = n_classes\n",
    "        self.alpha = alpha\n",
    "        self.mdp = self.add_weight(name='mdp', initializer='zeros')\n",
    "\n",
    "    def update_state(self, y_true, y_pred):\n",
    "        y_true = tf.cast(y_true, tf.int32)\n",
    "        y_pred = tf.cast(y_pred, tf.float32)\n",
    "        alpha = tf.constant(self.alpha, dtype=tf.float32)\n",
    "        alpha_prime = tf.constant(1-self.alpha, dtype=tf.float32)\n",
    "\n",
    "        def func(i):\n",
    "            mask = tf.equal(y_true, tf.constant(i))\n",
    "            ilabels = tf.reshape(tf.boolean_mask(y_true,mask), shape=(-1))\n",
    "            ipreds = tf.reshape(tf.boolean_mask(y_pred,mask), shape=(-1, self.n))\n",
    "            return tf.math.reduce_mean(tf.keras.metrics.sparse_categorical_accuracy(ilabels, ipreds))\n",
    "\n",
    "        res_arr = tf.map_fn(lambda i: func(i), elems=tf.range(self.n), dtype=tf.float32)\n",
    "        tensor_without_nans = tf.where(tf.math.is_nan(res_arr), tf.zeros_like(res_arr), res_arr)\n",
    "        cur_val = tf.math.reduce_mean(tensor_without_nans, axis=-1)\n",
    "        weighted_avg = tf.math.add(tf.multiply(alpha, self.mdp), tf.multiply(alpha_prime, cur_val))\n",
    "        self.mdp.assign(weighted_avg)\n",
    "\n",
    "    def result(self):\n",
    "        return self.mdp"
   ]
  },
  {
   "cell_type": "code",
   "execution_count": 26,
   "metadata": {
    "pycharm": {
     "name": "#%%\n"
    }
   },
   "outputs": [],
   "source": [
    "class RecNet(tf.keras.Model):\n",
    "\tdef __init__(self, bs=16, input_size=(128, 48), n_classes=10, h_cell=64, latent_size=32, max_obj=15, linear_k=3, rho=0.05):\n",
    "\t\tsuper().__init__()\n",
    "\t\tself.rho = rho\n",
    "\t\tself.bs = bs\n",
    "\t\tself.input_size = input_size\n",
    "\t\tself.n_classes = n_classes  # LSTM module projection size\n",
    "\t\tself.h_cell = h_cell  # LSTM hidden size\n",
    "\t\tself.latent_size = latent_size\n",
    "\t\tself.max_obj = max_obj\n",
    "\t\tself.linear_k = linear_k\n",
    "\t\tself.model = self.build_model(\n",
    "\t\t\tself.input_size, self.h_cell, self.latent_size, self.n_classes, self.max_obj, self.linear_k)\n",
    "\n",
    "\t\tself.scce = losses.SparseCategoricalCrossentropy(from_logits=False,)\n",
    "\n",
    "\t\tself.loss_metric = tf.keras.metrics.Mean(name=\"loss\")\n",
    "\t\tself.acc_metric = tf.keras.metrics.Mean(name=\"accuracy\")\n",
    "\t\tself.acc_mat = tf.keras.metrics.Accuracy()\n",
    "\t\tself.mAP = mAP()\n",
    "\t\tself.mDP = mDP(n_classes=self.n_classes)\n",
    "\n",
    "\n",
    "\tdef build_model(self, input_shape=(128, 48), h_cell=32, latent_size=32, n_classes=10, n_obj=10, linear_k=3):\n",
    "\t\tx_input = layers.Input(shape=input_shape)\n",
    "\t\tforward_layer = layers.LSTM(h_cell//2, return_sequences=True)\n",
    "\t\tx = layers.Bidirectional(forward_layer, input_shape=self.input_size)(x_input)\n",
    "\t\tx = layers.LSTM(latent_size, activation='tanh',\n",
    "\t\t\t\t\t\treturn_sequences=True, go_backwards=True)(x)\n",
    "\t\tx = layers.Conv1D(n_classes, linear_k, activation='tanh')(x)\n",
    "\t\tx = layers.Permute((2, 1))(x)\n",
    "\t\tx = layers.Conv1D(n_obj, 1, activation='tanh')(x)\n",
    "\t\tx = layers.Permute((2, 1))(x)\n",
    "\t\tx_output = layers.Activation('softmax')(x)\n",
    "\n",
    "\t\tmodel = tf.keras.Model(inputs=x_input, outputs=x_output)\n",
    "\t\treturn model\n",
    "\n",
    "\t@property\n",
    "\tdef metrics(self):\n",
    "\t\treturn [self.loss_metric, self.acc_mat]\n",
    "\n",
    "\tdef calculate_loss(self, target, pred):\n",
    "\t\ttarget = tf.reshape(target, shape=(-1))\n",
    "\t\tpred = tf.reshape(pred, shape=(-1, self.n_classes))\n",
    "\t\tloss = self.scce(target, pred)\n",
    "\n",
    "\t\ty_hat = tf.argmax(pred, axis=-1)\n",
    "\t\tacc = self.acc_mat(y_hat, target)\n",
    "\t\treturn loss, acc\n",
    "\n",
    "\tdef call(self, x):\n",
    "\t\tfull_out = self.model(x)\n",
    "\t\treturn full_out\n",
    "\n",
    "\tdef train_step(self, batch_data):\n",
    "\t\tx, target = batch_data\n",
    "\t\te_ws = []\n",
    "\t\twith tf.GradientTape() as tape:\n",
    "\t\t\tpred = self(x, training=True)\n",
    "\t\t\t# print(pred.shape, pred)\n",
    "\t\t\tloss, acc = self.calculate_loss(target, pred)\n",
    "\n",
    "\t\ttrainable_params = self.trainable_variables\n",
    "\t\tgradients = tape.gradient(loss, trainable_params)\n",
    "\t\tgrad_norm = self._grad_norm(gradients)\n",
    "\t\tscale = self.rho / (grad_norm + 1e-12)\n",
    "\n",
    "\t\tfor (grad, param) in zip(gradients, trainable_params):\n",
    "\t\t\te_w = grad*scale \n",
    "\t\t\tparam.assign_add(e_w)\n",
    "\t\t\te_ws.append(e_w)\n",
    "\n",
    "\t\twith tf.GradientTape() as tape:\n",
    "\t\t\tpred = self(x, training=True)\n",
    "\t\t\tloss, acc = self.calculate_loss(target, pred)\n",
    "\n",
    "\t\tsam_gradient = tape.gradient(loss, trainable_params)\n",
    "\t\tfor (param, e_w) in zip(trainable_params, e_ws):\n",
    "\t\t\tparam.assign_sub(e_w)\n",
    "\n",
    "\t\tself.optimizer.apply_gradients(zip(sam_gradient, trainable_params))\n",
    "\t\tself.loss_metric.update_state(loss)\n",
    "\t\tself.acc_metric.update_state(acc)\n",
    "\t\tself.mAP.update_state(target, pred)\n",
    "\t\tself.mDP.update_state(target, pred)\n",
    "\t\treturn {\n",
    "\t\t\t\"loss\": self.loss_metric.result(),\n",
    "\t\t\t\"accuracy\": self.acc_mat.result(),\n",
    "\t\t\t\"mAP\": self.mAP.result(),\n",
    "\t\t\t\"mDP\": self.mDP.result()\n",
    "\t\t}\n",
    "\n",
    "\tdef test_step(self, batch_data):\n",
    "\t\tx, target = batch_data\n",
    "\n",
    "\t\tpred = self(x, training=False)\n",
    "\t\tloss, acc = self.calculate_loss(target, pred)\n",
    "\n",
    "\t\tself.loss_metric.update_state(loss)\n",
    "\t\tself.acc_metric.update_state(acc)\n",
    "\t\tself.mAP.update_state(target, pred)\n",
    "\t\tself.mDP.update_state(target, pred)\n",
    "\t\treturn {\n",
    "\t\t\t\"loss\": self.loss_metric.result(),\n",
    "\t\t\t\"accuracy\": self.acc_mat.result(),\n",
    "\t\t\t\"mAP\": self.mAP.result(),\n",
    "\t\t\t\"mDP\": self.mDP.result()\n",
    "\t\t}\n",
    "\t\n",
    "\tdef _grad_norm(self, gradients):\n",
    "\t\tnorm = tf.norm(\n",
    "\t\t\ttf.stack([\n",
    "\t\t\t\ttf.norm(grad) for grad in gradients if grad is not None\n",
    "\t\t\t])\n",
    "\t\t)\n",
    "\t\treturn norm\n"
   ]
  },
  {
   "cell_type": "markdown",
   "metadata": {
    "pycharm": {
     "name": "#%% md\n"
    }
   },
   "source": [
    "---\n",
    "Set up model training details"
   ]
  },
  {
   "cell_type": "code",
   "execution_count": 27,
   "metadata": {
    "pycharm": {
     "name": "#%%\n"
    }
   },
   "outputs": [],
   "source": [
    "def lr_time_based_decay(epoch, lr):\n",
    "    decay = 0.001\n",
    "    return lr * 1 / (1 + decay * epoch)\n",
    "\n",
    "def lr_step_decay(epoch, lr):\n",
    "    drop_rate = 0.5\n",
    "    epochs_drop = 10.0\n",
    "    return LR * math.pow(drop_rate, math.floor(epoch/epochs_drop))\n",
    "\n",
    "def lr_exp_decay(epoch, lr):\n",
    "    k = 0.1\n",
    "    return LR * math.exp(-k*epoch)\n",
    "\n",
    "decay_steps = 1000\n",
    "# lr_decayed_fn = tf.keras.optimizers.schedules.CosineDecay(\n",
    "#     LR, decay_steps)\n",
    "\n",
    "lr_decaying_callback = tf.keras.callbacks.LearningRateScheduler(lr_exp_decay, verbose=1)"
   ]
  },
  {
   "cell_type": "code",
   "execution_count": 28,
   "metadata": {
    "pycharm": {
     "name": "#%%\n"
    }
   },
   "outputs": [],
   "source": [
    "earlystopping_callback = tf.keras.callbacks.EarlyStopping(\n",
    "                            monitor='val_accuracy',\n",
    "                            min_delta=0,\n",
    "                            patience=5,\n",
    "                            restore_best_weights=True\n",
    "                        )"
   ]
  },
  {
   "cell_type": "code",
   "execution_count": 29,
   "metadata": {
    "pycharm": {
     "name": "#%%\n"
    }
   },
   "outputs": [],
   "source": [
    "optimizer = tf.keras.optimizers.Adam(\n",
    "    learning_rate=LR,\n",
    ")"
   ]
  },
  {
   "cell_type": "code",
   "execution_count": 30,
   "metadata": {
    "pycharm": {
     "name": "#%%\n"
    }
   },
   "outputs": [],
   "source": [
    "# model = RecNet(bs=BS)\n",
    "model = RecNet(input_size=IMAGE_SIZE,\n",
    "                bs=BS,\n",
    "                n_classes=10,\n",
    "                h_cell=32,\n",
    "                latent_size=16,\n",
    "                max_obj=8,\n",
    "                linear_k=1)\n",
    "model.compile(optimizer, loss='categorical_crossentropy', run_eagerly=True)"
   ]
  },
  {
   "cell_type": "code",
   "execution_count": 31,
   "metadata": {},
   "outputs": [
    {
     "name": "stdout",
     "output_type": "stream",
     "text": [
      "Model: \"model_2\"\n",
      "_________________________________________________________________\n",
      " Layer (type)                Output Shape              Param #   \n",
      "=================================================================\n",
      " input_3 (InputLayer)        [(None, 224, 28)]         0         \n",
      "                                                                 \n",
      " bidirectional_2 (Bidirectio  (None, 224, 32)          5760      \n",
      " nal)                                                            \n",
      "                                                                 \n",
      " lstm_5 (LSTM)               (None, 224, 16)           3136      \n",
      "                                                                 \n",
      " conv1d_4 (Conv1D)           (None, 224, 10)           170       \n",
      "                                                                 \n",
      " permute_4 (Permute)         (None, 10, 224)           0         \n",
      "                                                                 \n",
      " conv1d_5 (Conv1D)           (None, 10, 8)             1800      \n",
      "                                                                 \n",
      " permute_5 (Permute)         (None, 8, 10)             0         \n",
      "                                                                 \n",
      " activation_2 (Activation)   (None, 8, 10)             0         \n",
      "                                                                 \n",
      "=================================================================\n",
      "Total params: 10,866\n",
      "Trainable params: 10,866\n",
      "Non-trainable params: 0\n",
      "_________________________________________________________________\n"
     ]
    }
   ],
   "source": [
    "model.model.summary()"
   ]
  },
  {
   "cell_type": "code",
   "execution_count": 32,
   "metadata": {
    "pycharm": {
     "name": "#%%\n"
    }
   },
   "outputs": [
    {
     "name": "stdout",
     "output_type": "stream",
     "text": [
      "\n",
      "Epoch 00001: LearningRateScheduler setting learning rate to 0.01.\n",
      "Epoch 1/20\n",
      "374/374 [==============================] - 107s 286ms/step - loss: 1.1622 - accuracy: 0.7996 - mAP: 0.7720 - mDP: 0.7696 - val_loss: 0.9492 - val_accuracy: 0.9149 - val_mAP: 0.9131 - val_mDP: 0.9131 - lr: 0.0100\n",
      "\n",
      "Epoch 00002: LearningRateScheduler setting learning rate to 0.009048374180359595.\n",
      "Epoch 2/20\n",
      "374/374 [==============================] - 105s 281ms/step - loss: 0.9430 - accuracy: 0.9230 - mAP: 0.9197 - mDP: 0.9191 - val_loss: 0.9143 - val_accuracy: 0.9334 - val_mAP: 0.9339 - val_mDP: 0.9336 - lr: 0.0090\n",
      "\n",
      "Epoch 00003: LearningRateScheduler setting learning rate to 0.008187307530779819.\n",
      "Epoch 3/20\n",
      "374/374 [==============================] - 110s 293ms/step - loss: 0.9257 - accuracy: 0.9312 - mAP: 0.9288 - mDP: 0.9282 - val_loss: 0.9051 - val_accuracy: 0.9378 - val_mAP: 0.9345 - val_mDP: 0.9349 - lr: 0.0082\n",
      "\n",
      "Epoch 00004: LearningRateScheduler setting learning rate to 0.007408182206817179.\n",
      "Epoch 4/20\n",
      "374/374 [==============================] - 111s 297ms/step - loss: 0.9160 - accuracy: 0.9362 - mAP: 0.9339 - mDP: 0.9333 - val_loss: 0.8942 - val_accuracy: 0.9429 - val_mAP: 0.9408 - val_mDP: 0.9410 - lr: 0.0074\n",
      "\n",
      "Epoch 00005: LearningRateScheduler setting learning rate to 0.006703200460356393.\n",
      "Epoch 5/20\n",
      "374/374 [==============================] - 115s 308ms/step - loss: 0.9007 - accuracy: 0.9442 - mAP: 0.9422 - mDP: 0.9417 - val_loss: 0.8887 - val_accuracy: 0.9449 - val_mAP: 0.9444 - val_mDP: 0.9445 - lr: 0.0067\n",
      "\n",
      "Epoch 00006: LearningRateScheduler setting learning rate to 0.006065306597126334.\n",
      "Epoch 6/20\n",
      "374/374 [==============================] - 112s 298ms/step - loss: 0.8917 - accuracy: 0.9492 - mAP: 0.9475 - mDP: 0.9470 - val_loss: 0.8763 - val_accuracy: 0.9552 - val_mAP: 0.9552 - val_mDP: 0.9558 - lr: 0.0061\n",
      "\n",
      "Epoch 00007: LearningRateScheduler setting learning rate to 0.005488116360940264.\n",
      "Epoch 7/20\n",
      "374/374 [==============================] - 116s 310ms/step - loss: 0.8861 - accuracy: 0.9519 - mAP: 0.9505 - mDP: 0.9504 - val_loss: 0.8787 - val_accuracy: 0.9517 - val_mAP: 0.9514 - val_mDP: 0.9516 - lr: 0.0055\n",
      "\n",
      "Epoch 00008: LearningRateScheduler setting learning rate to 0.004965853037914095.\n",
      "Epoch 8/20\n",
      "374/374 [==============================] - 117s 311ms/step - loss: 0.8835 - accuracy: 0.9536 - mAP: 0.9522 - mDP: 0.9520 - val_loss: 0.8809 - val_accuracy: 0.9530 - val_mAP: 0.9513 - val_mDP: 0.9514 - lr: 0.0050\n",
      "\n",
      "Epoch 00009: LearningRateScheduler setting learning rate to 0.004493289641172216.\n",
      "Epoch 9/20\n",
      "374/374 [==============================] - 116s 310ms/step - loss: 0.8799 - accuracy: 0.9556 - mAP: 0.9541 - mDP: 0.9539 - val_loss: 0.8789 - val_accuracy: 0.9515 - val_mAP: 0.9467 - val_mDP: 0.9459 - lr: 0.0045\n",
      "\n",
      "Epoch 00010: LearningRateScheduler setting learning rate to 0.004065696597405992.\n",
      "Epoch 10/20\n",
      "374/374 [==============================] - 110s 295ms/step - loss: 0.8790 - accuracy: 0.9565 - mAP: 0.9548 - mDP: 0.9544 - val_loss: 0.8752 - val_accuracy: 0.9554 - val_mAP: 0.9542 - val_mDP: 0.9538 - lr: 0.0041\n",
      "\n",
      "Epoch 00011: LearningRateScheduler setting learning rate to 0.0036787944117144234.\n",
      "Epoch 11/20\n",
      "374/374 [==============================] - 110s 295ms/step - loss: 0.8729 - accuracy: 0.9591 - mAP: 0.9575 - mDP: 0.9572 - val_loss: 0.8666 - val_accuracy: 0.9593 - val_mAP: 0.9579 - val_mDP: 0.9576 - lr: 0.0037\n",
      "\n",
      "Epoch 00012: LearningRateScheduler setting learning rate to 0.003328710836980796.\n",
      "Epoch 12/20\n",
      "374/374 [==============================] - 116s 309ms/step - loss: 0.8672 - accuracy: 0.9625 - mAP: 0.9609 - mDP: 0.9609 - val_loss: 0.8660 - val_accuracy: 0.9601 - val_mAP: 0.9585 - val_mDP: 0.9578 - lr: 0.0033\n",
      "\n",
      "Epoch 00013: LearningRateScheduler setting learning rate to 0.0030119421191220205.\n",
      "Epoch 13/20\n",
      "374/374 [==============================] - 116s 309ms/step - loss: 0.8636 - accuracy: 0.9637 - mAP: 0.9623 - mDP: 0.9624 - val_loss: 0.8627 - val_accuracy: 0.9610 - val_mAP: 0.9628 - val_mDP: 0.9619 - lr: 0.0030\n",
      "\n",
      "Epoch 00014: LearningRateScheduler setting learning rate to 0.002725317930340126.\n",
      "Epoch 14/20\n",
      "374/374 [==============================] - 114s 305ms/step - loss: 0.8591 - accuracy: 0.9669 - mAP: 0.9654 - mDP: 0.9653 - val_loss: 0.8596 - val_accuracy: 0.9638 - val_mAP: 0.9649 - val_mDP: 0.9639 - lr: 0.0027\n",
      "\n",
      "Epoch 00015: LearningRateScheduler setting learning rate to 0.0024659696394160645.\n",
      "Epoch 15/20\n",
      "374/374 [==============================] - 116s 310ms/step - loss: 0.8575 - accuracy: 0.9679 - mAP: 0.9664 - mDP: 0.9665 - val_loss: 0.8584 - val_accuracy: 0.9637 - val_mAP: 0.9619 - val_mDP: 0.9618 - lr: 0.0025\n",
      "\n",
      "Epoch 00016: LearningRateScheduler setting learning rate to 0.0022313016014842983.\n",
      "Epoch 16/20\n",
      "374/374 [==============================] - 115s 307ms/step - loss: 0.8541 - accuracy: 0.9697 - mAP: 0.9682 - mDP: 0.9682 - val_loss: 0.8548 - val_accuracy: 0.9662 - val_mAP: 0.9657 - val_mDP: 0.9658 - lr: 0.0022\n",
      "\n",
      "Epoch 00017: LearningRateScheduler setting learning rate to 0.002018965179946554.\n",
      "Epoch 17/20\n",
      "374/374 [==============================] - 116s 310ms/step - loss: 0.8505 - accuracy: 0.9715 - mAP: 0.9702 - mDP: 0.9702 - val_loss: 0.8550 - val_accuracy: 0.9669 - val_mAP: 0.9655 - val_mDP: 0.9657 - lr: 0.0020\n",
      "\n",
      "Epoch 00018: LearningRateScheduler setting learning rate to 0.001826835240527346.\n",
      "Epoch 18/20\n",
      "374/374 [==============================] - 126s 338ms/step - loss: 0.8497 - accuracy: 0.9721 - mAP: 0.9705 - mDP: 0.9703 - val_loss: 0.8515 - val_accuracy: 0.9692 - val_mAP: 0.9698 - val_mDP: 0.9694 - lr: 0.0018\n",
      "\n",
      "Epoch 00019: LearningRateScheduler setting learning rate to 0.0016529888822158654.\n",
      "Epoch 19/20\n",
      "374/374 [==============================] - 121s 323ms/step - loss: 0.8475 - accuracy: 0.9730 - mAP: 0.9716 - mDP: 0.9716 - val_loss: 0.8550 - val_accuracy: 0.9678 - val_mAP: 0.9685 - val_mDP: 0.9682 - lr: 0.0017\n",
      "\n",
      "Epoch 00020: LearningRateScheduler setting learning rate to 0.0014956861922263505.\n",
      "Epoch 20/20\n",
      "374/374 [==============================] - 128s 341ms/step - loss: 0.8447 - accuracy: 0.9741 - mAP: 0.9728 - mDP: 0.9727 - val_loss: 0.8550 - val_accuracy: 0.9684 - val_mAP: 0.9685 - val_mDP: 0.9688 - lr: 0.0015\n"
     ]
    },
    {
     "data": {
      "text/plain": [
       "<keras.callbacks.History at 0x2666eff02b0>"
      ]
     },
     "execution_count": 32,
     "metadata": {},
     "output_type": "execute_result"
    }
   ],
   "source": [
    "model.fit(\n",
    "    train_loader,\n",
    "    epochs=20,\n",
    "    validation_data=valid_loader,\n",
    "    callbacks=[earlystopping_callback,\n",
    "               lr_decaying_callback]\n",
    ")\n"
   ]
  },
  {
   "cell_type": "markdown",
   "metadata": {},
   "source": [
    "---\n",
    "Model Evaluation"
   ]
  },
  {
   "cell_type": "code",
   "execution_count": 33,
   "metadata": {},
   "outputs": [
    {
     "name": "stdout",
     "output_type": "stream",
     "text": [
      "(10000, 28, 28) (10000,) [2 0 4 ... 8 0 5]\n",
      "(1993, 28, 224) (1993, 8)\n"
     ]
    }
   ],
   "source": [
    "test_dataset = mnist.generate(test_gen, n_sample=2000)\n",
    "test_loader = test_dataset.batch(BS, drop_remainder=True).prefetch(buffer_size=tf.data.AUTOTUNE)"
   ]
  },
  {
   "cell_type": "code",
   "execution_count": 34,
   "metadata": {},
   "outputs": [],
   "source": [
    "def model_evaluator(model, dt_loader, n_classes):\n",
    "    map_mat = mAP()\n",
    "    mdp_mat = mDP(n_classes=n_classes)\n",
    "    acc_mat = tf.keras.metrics.Accuracy()\n",
    "    time_mat = []\n",
    "    for bt in dt_loader:\n",
    "        x, target = bt\n",
    "        start_time = time.time()\n",
    "        pred = model(x)\n",
    "        end_time = time.time()\n",
    "        time_mat.append((end_time-start_time)/BS)\n",
    "\n",
    "        map_mat.update_state(target, pred)\n",
    "        mdp_mat.update_state(target, pred)\n",
    "        pred = tf.reshape(pred, shape=(-1, n_classes))\n",
    "        y_hat = tf.argmax(pred, axis=-1)\n",
    "        target = tf.reshape(target, shape=(-1))\n",
    "        # print(y_hat.shape, pred.shape, target.shape)\n",
    "        acc_mat.update_state(y_hat, target)\n",
    "    mean_time = sum(time_mat)/ len(time_mat)\n",
    "    print({\n",
    "        'Accuracy': acc_mat.result().numpy(),\n",
    "        'mAP': map_mat.result().numpy(),\n",
    "        'mDP': mdp_mat.result().numpy(),\n",
    "        'mean_average_execution_time': mean_time\n",
    "    })"
   ]
  },
  {
   "cell_type": "code",
   "execution_count": 35,
   "metadata": {},
   "outputs": [
    {
     "name": "stdout",
     "output_type": "stream",
     "text": [
      "{'Accuracy': 0.9765625, 'mAP': 0.09765625, 'mDP': 0.09770384, 'mean_average_execution_time': 0.0007473975419998169}\n"
     ]
    }
   ],
   "source": [
    "model_evaluator(model, test_loader, N_CLASSES)"
   ]
  },
  {
   "cell_type": "markdown",
   "metadata": {
    "pycharm": {
     "name": "#%% md\n"
    }
   },
   "source": [
    "---\n",
    "Model Prediction & Evaluation"
   ]
  },
  {
   "cell_type": "markdown",
   "metadata": {
    "pycharm": {
     "name": "#%% md\n"
    }
   },
   "source": [
    "* Individual prediction & labeling "
   ]
  },
  {
   "cell_type": "code",
   "execution_count": 47,
   "metadata": {
    "pycharm": {
     "name": "#%%\n"
    }
   },
   "outputs": [],
   "source": [
    "for s in test_dataset.take(18):\n",
    "    test_image, test_label = s\n",
    "     \n",
    "\n",
    "test_class = test_label.numpy()\n"
   ]
  },
  {
   "cell_type": "code",
   "execution_count": 48,
   "metadata": {
    "pycharm": {
     "name": "#%%\n"
    }
   },
   "outputs": [
    {
     "data": {
      "text/plain": [
       "array([9, 8, 1, 0, 3, 0, 7, 8])"
      ]
     },
     "execution_count": 48,
     "metadata": {},
     "output_type": "execute_result"
    }
   ],
   "source": [
    "test_class"
   ]
  },
  {
   "cell_type": "code",
   "execution_count": 49,
   "metadata": {
    "pycharm": {
     "name": "#%%\n"
    }
   },
   "outputs": [],
   "source": [
    "sample = tf.expand_dims(test_image, axis=0)\n",
    "sample_output = model(sample)"
   ]
  },
  {
   "cell_type": "code",
   "execution_count": 50,
   "metadata": {
    "pycharm": {
     "name": "#%%\n"
    }
   },
   "outputs": [
    {
     "data": {
      "text/plain": [
       "TensorShape([1, 8, 10])"
      ]
     },
     "execution_count": 50,
     "metadata": {},
     "output_type": "execute_result"
    }
   ],
   "source": [
    "sample_output.shape"
   ]
  },
  {
   "cell_type": "code",
   "execution_count": 51,
   "metadata": {
    "pycharm": {
     "name": "#%%\n"
    }
   },
   "outputs": [
    {
     "data": {
      "text/plain": [
       "<tf.Tensor: shape=(8,), dtype=int64, numpy=array([9, 8, 1, 0, 3, 0, 7, 8], dtype=int64)>"
      ]
     },
     "execution_count": 51,
     "metadata": {},
     "output_type": "execute_result"
    }
   ],
   "source": [
    "tf.argmax(sample_output[0], axis=1)"
   ]
  },
  {
   "cell_type": "code",
   "execution_count": 52,
   "metadata": {
    "pycharm": {
     "name": "#%%\n"
    }
   },
   "outputs": [],
   "source": [
    "def pred_eval_plot(pred_heatmap, image, figsize=(10, 8)):\n",
    "    fig, axes = plt.subplots(2, 1, figsize=figsize,)\n",
    "    sns.heatmap(ax=axes[0], data=pred_heatmap, linewidths=1, cbar=False, cmap='Blues')\n",
    "    axes[1].imshow(image, cmap='gray', aspect='equal')\n",
    "    plt.show()"
   ]
  },
  {
   "cell_type": "code",
   "execution_count": 53,
   "metadata": {
    "pycharm": {
     "name": "#%%\n"
    }
   },
   "outputs": [
    {
     "data": {
      "image/png": "[encoded data removed]",
      "text/plain": [
       "<Figure size 720x576 with 2 Axes>"
      ]
     },
     "metadata": {
      "needs_background": "light"
     },
     "output_type": "display_data"
    }
   ],
   "source": [
    "pred_eval_plot(sample_output[0, ...].numpy().T, test_image.numpy().T)"
   ]
  },
  {
   "cell_type": "markdown",
   "metadata": {
    "pycharm": {
     "name": "#%% md\n"
    }
   },
   "source": [
    "---"
   ]
  },
  {
   "cell_type": "code",
   "execution_count": null,
   "metadata": {
    "pycharm": {
     "name": "#%%\n"
    }
   },
   "outputs": [],
   "source": []
  }
 ],
 "metadata": {
  "kernelspec": {
   "display_name": "Python 3.9.7 ('base')",
   "language": "python",
   "name": "python3"
  },
  "language_info": {
   "codemirror_mode": {
    "name": "ipython",
    "version": 3
   },
   "file_extension": ".py",
   "mimetype": "text/x-python",
   "name": "python",
   "nbconvert_exporter": "python",
   "pygments_lexer": "ipython3",
   "version": "3.9.7"
  },
  "orig_nbformat": 4,
  "vscode": {
   "interpreter": {
    "hash": "08aea5f70877f29c16b88dd2c4446bb1b0b98820cbf110aea5656aecf55fbfb0"
   }
  }
 },
 "nbformat": 4,
 "nbformat_minor": 2
}
