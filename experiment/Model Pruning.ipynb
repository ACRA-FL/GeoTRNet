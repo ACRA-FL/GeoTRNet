{
 "cells": [
  {
   "cell_type": "markdown",
   "metadata": {},
   "source": [
    "\n",
    "\n",
    "## Experiment Details\n",
    "__Experiment Id__ : 006 \\\n",
    "__Target__ : Test the model performance on the hand-written razor images \\\n",
    "__Solution__ : \n",
    "- create MNIST sticker set\n",
    "- train and test model on mnist dataset\n",
    "\n",
    "__Empirical result__ : \n",
    "- model size be even smaller [9574]\n",
    "- get to very high accuracy\n",
    "- shows clean outputs in the inference time"
   ]
  },
  {
   "cell_type": "code",
   "execution_count": null,
   "metadata": {},
   "outputs": [],
   "source": [
    "! pip install tensorflow-model-optimization"
   ]
  },
  {
   "cell_type": "markdown",
   "metadata": {},
   "source": [
    "---\n",
    "Implementation"
   ]
  },
  {
   "cell_type": "code",
   "execution_count": 24,
   "metadata": {},
   "outputs": [],
   "source": [
    "import os \n",
    "import math\n",
    "import pandas as pd \n",
    "import numpy as np\n",
    "from skimage import io, transform \n",
    "import matplotlib.pyplot as plt\n",
    "import seaborn as sns\n",
    "\n",
    "import tensorflow_datasets as tfds\n",
    "import tensorflow as tf \n",
    "from tensorflow.keras import layers\n",
    "from tensorflow.keras import losses\n",
    "import tensorflow_model_optimization as tfmot\n",
    "\n",
    "from tcn import TCN\n",
    "\n",
    "import neptune.new as neptune"
   ]
  },
  {
   "cell_type": "code",
   "execution_count": 3,
   "metadata": {},
   "outputs": [],
   "source": [
    "%load_ext tensorboard"
   ]
  },
  {
   "cell_type": "markdown",
   "metadata": {},
   "source": [
    "---\n",
    "Set global variables"
   ]
  },
  {
   "cell_type": "code",
   "execution_count": 4,
   "metadata": {},
   "outputs": [
    {
     "data": {
      "text/plain": [
       "[PhysicalDevice(name='/physical_device:GPU:0', device_type='GPU')]"
      ]
     },
     "execution_count": 4,
     "metadata": {},
     "output_type": "execute_result"
    }
   ],
   "source": [
    "gpu_available = tf.config.list_physical_devices('GPU')\n",
    "gpu_available"
   ]
  },
  {
   "cell_type": "code",
   "execution_count": 5,
   "metadata": {},
   "outputs": [],
   "source": [
    "IMAGE_SIZE = (128,48)\n",
    "DATA_BS = 10\n",
    "DATA_N = 10\n",
    "LR = 0.005\n",
    "EPOCHS = 10\n",
    "BS = 32"
   ]
  },
  {
   "cell_type": "markdown",
   "metadata": {},
   "source": [
    "---\n",
    "Dataset & Dataloader "
   ]
  },
  {
   "cell_type": "code",
   "execution_count": 6,
   "metadata": {},
   "outputs": [
    {
     "name": "stderr",
     "output_type": "stream",
     "text": [
      "Load dataset info from ~\\tensorflow_datasets\\mnist\\3.0.1\n",
      "Reusing dataset mnist (~\\tensorflow_datasets\\mnist\\3.0.1)\n",
      "Constructing tf.data.Dataset mnist for split ['train', 'test'], from ~\\tensorflow_datasets\\mnist\\3.0.1\n"
     ]
    }
   ],
   "source": [
    "(ds_train, ds_test), info = tfds.load('mnist', split=['train', 'test'], with_info=True)\n",
    "train_gen = tfds.as_numpy(ds_train)\n",
    "test_gen = tfds.as_numpy(ds_test)"
   ]
  },
  {
   "cell_type": "code",
   "execution_count": 7,
   "metadata": {},
   "outputs": [],
   "source": [
    "class MNISTDataset(object):\n",
    "\n",
    "    def __init__(self, n_digits=8, image_size=(156, 32)):\n",
    "        self.n_digits = n_digits\n",
    "        self.image_size = image_size\n",
    "\n",
    "    def gen_data(self, gen):\n",
    "        images, labels = [], []\n",
    "        for x in gen:\n",
    "            images.append(x['image'])\n",
    "            labels.append(x['label'])\n",
    "        images, labels = np.squeeze(np.array(images)), np.squeeze(np.array(labels)); print(images.shape,labels.shape,labels)\n",
    "        return images, labels\n",
    "\n",
    "    def gen_patch(self, img, ann, c=np.inf):\n",
    "        size = img.shape[0]\n",
    "        indexes = np.arange(size)\n",
    "        np.random.shuffle(indexes)\n",
    "        \n",
    "        c_prime = divmod(size, self.n_digits)[0]*self.n_digits\n",
    "        if c_prime < c:\n",
    "            size = c_prime\n",
    "        else:\n",
    "            size = divmod(c, self.n_digits)[0]*self.n_digits\n",
    "\n",
    "        sample_index = indexes[:size]\n",
    "        sticker_index = sample_index.reshape((-1, self.n_digits)).T\n",
    "        sticker_images = np.transpose(np.hstack([np.transpose(img[inds], (0, 2, 1)) for inds in sticker_index]), (0, 2, 1))\n",
    "        sfl_label =  ann[sample_index, ...]\n",
    "        sticker_labels = sfl_label.reshape((-1, self.n_digits))\n",
    "        return sticker_images, sticker_labels\n",
    "\n",
    "    def generate(self, data_generator, n_sample):\n",
    "        init_image, init_label = self.gen_data(data_generator)\n",
    "        c = n_sample\n",
    "        dt_images, dt_labels = self.gen_patch(init_image, init_label, c)\n",
    "        while c > self.n_digits:\n",
    "            c = n_sample - dt_images.shape[0]\n",
    "            p_images, p_labels = self.gen_patch(init_image, init_label, c)\n",
    "            dt_images, dt_labels = np.vstack((dt_images, p_images)), np.vstack((dt_labels, p_labels))\n",
    "\n",
    "        ret_tensor = tf.convert_to_tensor(np.swapaxes(dt_images, 1, 2), dtype=tf.float32);print(dt_images.shape,dt_labels.shape)\n",
    "        ind_tensor = tf.convert_to_tensor(dt_labels, dtype=tf.int32)\n",
    "        dataset = tf.data.Dataset.from_tensor_slices((ret_tensor, ind_tensor))\n",
    "        return dataset"
   ]
  },
  {
   "cell_type": "code",
   "execution_count": 8,
   "metadata": {},
   "outputs": [],
   "source": [
    "mnist = MNISTDataset()"
   ]
  },
  {
   "cell_type": "code",
   "execution_count": 10,
   "metadata": {},
   "outputs": [
    {
     "name": "stdout",
     "output_type": "stream",
     "text": [
      "(60000, 28, 28) (60000,) [4 1 0 ... 6 1 5]\n",
      "(9993, 28, 224) (9993, 8)\n",
      "(10000, 28, 28) (10000,) [2 0 4 ... 8 0 5]\n",
      "(1993, 28, 224) (1993, 8)\n"
     ]
    }
   ],
   "source": [
    "train_dataset = mnist.generate(train_gen, n_sample=10000)\n",
    "test_dataset = mnist.generate(test_gen, n_sample=2000)"
   ]
  },
  {
   "cell_type": "code",
   "execution_count": 11,
   "metadata": {},
   "outputs": [
    {
     "name": "stdout",
     "output_type": "stream",
     "text": [
      "(224, 28)\n",
      "[4 6 8 7 8 3 7 4]\n"
     ]
    },
    {
     "data": {
      "image/png": "[encoded data removed]",
      "text/plain": [
       "<Figure size 432x288 with 1 Axes>"
      ]
     },
     "metadata": {
      "needs_background": "light"
     },
     "output_type": "display_data"
    }
   ],
   "source": [
    "for i in test_dataset.take(1):\n",
    "    img, label = i\n",
    "print(img.shape)\n",
    "print(label.numpy())\n",
    "plt.imshow(img.numpy().T)\n",
    "IMAGE_SIZE = img.shape"
   ]
  },
  {
   "cell_type": "code",
   "execution_count": 12,
   "metadata": {},
   "outputs": [],
   "source": [
    "train_loader = train_dataset.shuffle(buffer_size=1000).batch(BS, drop_remainder=True).prefetch(buffer_size=tf.data.AUTOTUNE)\n",
    "valid_loader = test_dataset.batch(BS, drop_remainder=True).prefetch(buffer_size=tf.data.AUTOTUNE)"
   ]
  },
  {
   "cell_type": "markdown",
   "metadata": {},
   "source": [
    "---\n",
    "Model Defining"
   ]
  },
  {
   "cell_type": "code",
   "execution_count": 27,
   "metadata": {},
   "outputs": [],
   "source": [
    "class RecNet(tf.keras.Model):\n",
    "\tdef __init__(self, bs=16, input_size=(128, 48), n_classes=10, h_cell=64, max_obj=15, linear_k=3, latent_size=32, rho=0.05):\n",
    "\t\tsuper().__init__()\n",
    "\t\tself.bs = bs\n",
    "\t\tself.rho = rho\n",
    "\t\tself.input_size = input_size\n",
    "\t\tself.n_classes = n_classes  # LSTM module projection size\n",
    "\t\tself.h_cell = h_cell  # LSTM hidden size\n",
    "\t\tself.max_obj = max_obj\n",
    "\t\tself.linear_k = linear_k\n",
    "\t\tself.latent_size = latent_size\n",
    "\t\tself.model = self.build_model(\n",
    "\t\t\tself.input_size, self.h_cell, self.n_classes, self.max_obj, self.latent_size, self.linear_k)\n",
    "\n",
    "\t\tself.scce = losses.SparseCategoricalCrossentropy(from_logits=False,)\n",
    "\n",
    "\t\tself.loss_metric = tf.keras.metrics.Mean(name=\"loss\")\n",
    "\t\tself.acc_metric = tf.keras.metrics.Mean(name=\"accuracy\")\n",
    "\t\tself.acc_mat = tf.keras.metrics.Accuracy()\n",
    "\n",
    "\n",
    "\tdef build_model(self, input_shape=(128, 48), h_cell=32, n_classes=10, n_obj=10, latent_size=32, linear_k=3):\n",
    "\t\tforward_layer = layers.LSTM(h_cell//2, return_sequences=True)\n",
    "\t\tmodel = tf.keras.Sequential([\n",
    "\t\t\tlayers.Input(shape=input_shape, name='input_layer'),\n",
    "\t\t\tlayers.LSTM(latent_size, activation='tanh',\n",
    "\t\t\t\t\t\treturn_sequences=True, go_backwards=True),\n",
    "\t\t\tlayers.Conv1D(n_classes, linear_k, activation='tanh', name='projection_encoder'),\n",
    "\t\t\tlayers.Permute((2, 1)),\n",
    "\t\t\tlayers.Conv1D(n_obj, 1, activation='tanh'),\n",
    "\t\t\tlayers.Permute((2, 1)),\n",
    "\t\t\tlayers.Activation('softmax')\n",
    "\t\t])\n",
    "\n",
    "\t\treturn model\n",
    "\n",
    "\n",
    "\t@property\n",
    "\tdef metrics(self):\n",
    "\t\treturn [self.loss_metric, self.acc_mat]\n",
    "\n",
    "\tdef calculate_loss(self, target, pred):\n",
    "\t\ttarget = tf.reshape(target, shape=(-1))\n",
    "\t\tpred = tf.reshape(pred, shape=(-1, self.n_classes))\n",
    "\t\tloss = self.scce(target, pred)\n",
    "\n",
    "\t\ty_hat = tf.argmax(pred, axis=-1)\n",
    "\t\tacc = self.acc_mat(y_hat, target)\n",
    "\t\treturn loss, acc\n",
    "\n",
    "\tdef call(self, x):\n",
    "\t\tfull_out = self.model(x)\n",
    "\t\treturn full_out\n",
    "\n",
    "\tdef train_step(self, batch_data):\n",
    "\t\tx, target = batch_data\n",
    "\t\te_ws = []\n",
    "\t\twith tf.GradientTape() as tape:\n",
    "\t\t\tpred = self(x, training=True)\n",
    "\t\t\t# print(pred.shape, pred)\n",
    "\t\t\tloss, acc = self.calculate_loss(target, pred)\n",
    "\n",
    "\t\ttrainable_params = self.trainable_variables\n",
    "\t\tgradients = tape.gradient(loss, trainable_params)\n",
    "\t\tgrad_norm = self._grad_norm(gradients)\n",
    "\t\tscale = self.rho / (grad_norm + 1e-12)\n",
    "\n",
    "\t\tfor (grad, param) in zip(gradients, trainable_params):\n",
    "\t\t\te_w = grad*scale \n",
    "\t\t\tparam.assign_add(e_w)\n",
    "\t\t\te_ws.append(e_w)\n",
    "\n",
    "\t\twith tf.GradientTape() as tape:\n",
    "\t\t\tpred = self(x, training=True)\n",
    "\t\t\tloss, acc = self.calculate_loss(target, pred)\n",
    "\n",
    "\t\tsam_gradient = tape.gradient(loss, trainable_params)\n",
    "\t\tfor (param, e_w) in zip(trainable_params, e_ws):\n",
    "\t\t\tparam.assign_sub(e_w)\n",
    "\n",
    "\t\tself.optimizer.apply_gradients(zip(sam_gradient, trainable_params))\n",
    "\t\tself.loss_metric.update_state(loss)\n",
    "\t\tself.acc_metric.update_state(acc)\n",
    "\t\treturn {\n",
    "\t\t\t\"loss\": self.loss_metric.result(),\n",
    "\t\t\t\"accuracy\": self.acc_mat.result(),\n",
    "\t\t}\n",
    "\n",
    "\tdef test_step(self, batch_data):\n",
    "\t\tx, target = batch_data\n",
    "\n",
    "\t\tpred = self(x, training=False)\n",
    "\t\tloss, acc = self.calculate_loss(target, pred)\n",
    "\n",
    "\t\tself.loss_metric.update_state(loss)\n",
    "\t\tself.acc_metric.update_state(acc)\n",
    "\t\treturn {\n",
    "\t\t\t\"loss\": self.loss_metric.result(),\n",
    "\t\t\t\"accuracy\": self.acc_mat.result(),\n",
    "\t\t}\n",
    "\n",
    "\tdef _grad_norm(self, gradients):\n",
    "\t\tnorm = tf.norm(\n",
    "\t\t\ttf.stack([\n",
    "\t\t\t\ttf.norm(grad) for grad in gradients if grad is not None\n",
    "\t\t\t])\n",
    "\t\t)\n",
    "\t\treturn norm\n"
   ]
  },
  {
   "cell_type": "code",
   "execution_count": 28,
   "metadata": {},
   "outputs": [],
   "source": [
    "recNet = RecNet(input_size=IMAGE_SIZE,\n",
    "                bs=BS,\n",
    "                n_classes=10,\n",
    "                h_cell=64,\n",
    "                max_obj=8,\n",
    "                linear_k=3)"
   ]
  },
  {
   "cell_type": "code",
   "execution_count": 29,
   "metadata": {},
   "outputs": [
    {
     "name": "stdout",
     "output_type": "stream",
     "text": [
      "Model: \"sequential_2\"\n",
      "_________________________________________________________________\n",
      " Layer (type)                Output Shape              Param #   \n",
      "=================================================================\n",
      " lstm_5 (LSTM)               (None, 224, 32)           7808      \n",
      "                                                                 \n",
      " projection_encoder (Conv1D)  (None, 222, 10)          970       \n",
      "                                                                 \n",
      " permute_4 (Permute)         (None, 10, 222)           0         \n",
      "                                                                 \n",
      " conv1d_2 (Conv1D)           (None, 10, 8)             1784      \n",
      "                                                                 \n",
      " permute_5 (Permute)         (None, 8, 10)             0         \n",
      "                                                                 \n",
      " activation_2 (Activation)   (None, 8, 10)             0         \n",
      "                                                                 \n",
      "=================================================================\n",
      "Total params: 10,562\n",
      "Trainable params: 10,562\n",
      "Non-trainable params: 0\n",
      "_________________________________________________________________\n"
     ]
    }
   ],
   "source": [
    "recNet.model.summary()"
   ]
  },
  {
   "cell_type": "markdown",
   "metadata": {},
   "source": [
    "---\n",
    "Set up model training details"
   ]
  },
  {
   "cell_type": "code",
   "execution_count": 16,
   "metadata": {},
   "outputs": [],
   "source": [
    "def lr_time_based_decay(epoch, lr):\n",
    "    decay = 0.001\n",
    "    return lr * 1 / (1 + decay * epoch)\n",
    "\n",
    "def lr_step_decay(epoch, lr):\n",
    "    drop_rate = 0.5\n",
    "    epochs_drop = 10.0\n",
    "    return LR * math.pow(drop_rate, math.floor(epoch/epochs_drop))\n",
    "\n",
    "def lr_exp_decay(epoch, lr):\n",
    "    k = 0.1\n",
    "    return LR * math.exp(-k*epoch)\n",
    "\n",
    "decay_steps = 1000\n",
    "# lr_decayed_fn = tf.keras.optimizers.schedules.CosineDecay(\n",
    "#     LR, decay_steps)\n",
    "\n",
    "lr_decaying_callback = tf.keras.callbacks.LearningRateScheduler(lr_step_decay, verbose=1)"
   ]
  },
  {
   "cell_type": "code",
   "execution_count": 17,
   "metadata": {},
   "outputs": [],
   "source": [
    "earlystopping_callback = tf.keras.callbacks.EarlyStopping(\n",
    "                            monitor='val_accuracy',\n",
    "                            min_delta=0,\n",
    "                            patience=2,\n",
    "                            restore_best_weights=True\n",
    "                        )"
   ]
  },
  {
   "cell_type": "code",
   "execution_count": 18,
   "metadata": {},
   "outputs": [],
   "source": [
    "optimizer = tf.keras.optimizers.Adam(\n",
    "    learning_rate=LR,\n",
    ")"
   ]
  },
  {
   "cell_type": "code",
   "execution_count": 19,
   "metadata": {},
   "outputs": [],
   "source": [
    "# model = RecNet(bs=BS)\n",
    "model = RecNet(input_size=IMAGE_SIZE,\n",
    "                bs=BS,\n",
    "                n_classes=10,\n",
    "                h_cell=64,\n",
    "                max_obj=8,\n",
    "                linear_k=3)\n",
    "model.compile(optimizer, loss='categorical_crossentropy', run_eagerly=True)"
   ]
  },
  {
   "cell_type": "code",
   "execution_count": 20,
   "metadata": {},
   "outputs": [
    {
     "data": {
      "text/plain": [
       "[<keras.layers.wrappers.Bidirectional at 0x1fb51b30100>,\n",
       " <keras.layers.recurrent_v2.LSTM at 0x1fb51b1fa00>,\n",
       " <keras.layers.convolutional.Conv1D at 0x1fb51b2b250>,\n",
       " <keras.layers.core.permute.Permute at 0x1fb51b30f10>,\n",
       " <keras.layers.convolutional.Conv1D at 0x1fb51b37fd0>,\n",
       " <keras.layers.core.permute.Permute at 0x1fb51b2b640>,\n",
       " <keras.layers.core.activation.Activation at 0x1fb51b37970>]"
      ]
     },
     "execution_count": 20,
     "metadata": {},
     "output_type": "execute_result"
    }
   ],
   "source": [
    "model.model.layers"
   ]
  },
  {
   "cell_type": "code",
   "execution_count": 21,
   "metadata": {},
   "outputs": [
    {
     "name": "stdout",
     "output_type": "stream",
     "text": [
      "\n",
      "Epoch 00001: LearningRateScheduler setting learning rate to 0.005.\n",
      "Epoch 1/10\n",
      "312/312 [==============================] - 49s 127ms/step - loss: 1.1171 - accuracy: 0.8318 - val_loss: 0.8984 - val_accuracy: 0.9439 - lr: 0.0050\n",
      "\n",
      "Epoch 00002: LearningRateScheduler setting learning rate to 0.005.\n",
      "Epoch 2/10\n",
      "312/312 [==============================] - 44s 141ms/step - loss: 0.9101 - accuracy: 0.9421 - val_loss: 0.8866 - val_accuracy: 0.9490 - lr: 0.0050\n",
      "\n",
      "Epoch 00003: LearningRateScheduler setting learning rate to 0.005.\n",
      "Epoch 3/10\n",
      "312/312 [==============================] - 46s 147ms/step - loss: 0.8935 - accuracy: 0.9497 - val_loss: 0.8766 - val_accuracy: 0.9536 - lr: 0.0050\n",
      "\n",
      "Epoch 00004: LearningRateScheduler setting learning rate to 0.005.\n",
      "Epoch 4/10\n",
      "312/312 [==============================] - 45s 143ms/step - loss: 0.8838 - accuracy: 0.9547 - val_loss: 0.8697 - val_accuracy: 0.9557 - lr: 0.0050\n",
      "\n",
      "Epoch 00005: LearningRateScheduler setting learning rate to 0.005.\n",
      "Epoch 5/10\n",
      "312/312 [==============================] - 43s 138ms/step - loss: 0.8751 - accuracy: 0.9596 - val_loss: 0.8627 - val_accuracy: 0.9604 - lr: 0.0050\n",
      "\n",
      "Epoch 00006: LearningRateScheduler setting learning rate to 0.005.\n",
      "Epoch 6/10\n",
      "312/312 [==============================] - 46s 146ms/step - loss: 0.8797 - accuracy: 0.9569 - val_loss: 0.8638 - val_accuracy: 0.9606 - lr: 0.0050\n",
      "\n",
      "Epoch 00007: LearningRateScheduler setting learning rate to 0.005.\n",
      "Epoch 7/10\n",
      "312/312 [==============================] - 48s 155ms/step - loss: 0.8722 - accuracy: 0.9601 - val_loss: 0.8599 - val_accuracy: 0.9609 - lr: 0.0050\n",
      "\n",
      "Epoch 00008: LearningRateScheduler setting learning rate to 0.005.\n",
      "Epoch 8/10\n",
      "312/312 [==============================] - 43s 138ms/step - loss: 0.8720 - accuracy: 0.9598 - val_loss: 0.8643 - val_accuracy: 0.9626 - lr: 0.0050\n",
      "\n",
      "Epoch 00009: LearningRateScheduler setting learning rate to 0.005.\n",
      "Epoch 9/10\n",
      "312/312 [==============================] - 42s 135ms/step - loss: 0.8700 - accuracy: 0.9616 - val_loss: 0.8621 - val_accuracy: 0.9608 - lr: 0.0050\n",
      "\n",
      "Epoch 00010: LearningRateScheduler setting learning rate to 0.005.\n",
      "Epoch 10/10\n",
      "312/312 [==============================] - 43s 137ms/step - loss: 0.8666 - accuracy: 0.9630 - val_loss: 0.8603 - val_accuracy: 0.9652 - lr: 0.0050\n"
     ]
    },
    {
     "data": {
      "text/plain": [
       "<keras.callbacks.History at 0x1fb51b237c0>"
      ]
     },
     "execution_count": 21,
     "metadata": {},
     "output_type": "execute_result"
    }
   ],
   "source": [
    "model.fit(\n",
    "    train_loader,\n",
    "    epochs=EPOCHS,\n",
    "    validation_data=valid_loader,\n",
    "    callbacks=[earlystopping_callback,\n",
    "               lr_decaying_callback]\n",
    ")\n",
    "# run.stop()"
   ]
  },
  {
   "cell_type": "code",
   "execution_count": 22,
   "metadata": {},
   "outputs": [],
   "source": [
    "# save model before pruning\n",
    "model.save_weights('../../tmp/models/sample_mnist.ckpt')"
   ]
  },
  {
   "cell_type": "markdown",
   "metadata": {},
   "source": [
    "---\n",
    "Model pruning"
   ]
  },
  {
   "cell_type": "code",
   "execution_count": 25,
   "metadata": {},
   "outputs": [],
   "source": [
    "prune_low_magnitude = tfmot.sparsity.keras.prune_low_magnitude"
   ]
  },
  {
   "cell_type": "code",
   "execution_count": 26,
   "metadata": {},
   "outputs": [
    
   ],
   "source": [
    "# Define model for pruning.\n",
    "pruning_params = {\n",
    "      'pruning_schedule': tfmot.sparsity.keras.PolynomialDecay(initial_sparsity=0.50,\n",
    "                                                               final_sparsity=0.80,\n",
    "                                                               begin_step=0,\n",
    "                                                               end_step=5)\n",
    "}\n",
    "\n",
    "model_for_pruning = prune_low_magnitude(model.model, **pruning_params)\n",
    "\n",
    "# `prune_low_magnitude` requires a recompile.\n",
    "model_for_pruning.compile(optimizer='adam',\n",
    "              loss=tf.keras.losses.SparseCategoricalCrossentropy(from_logits=True),\n",
    "              metrics=['accuracy'])\n",
    "\n",
    "model_for_pruning.summary()\n"
   ]
  },
  {
   "cell_type": "code",
   "execution_count": 27,
   "metadata": {},
   "outputs": [
    {
     "name": "stdout",
     "output_type": "stream",
     "text": [
      "Epoch 1/2\n"
     ]
    },
    {
     "name": "stderr",
     "output_type": "stream",
     "text": [
      "c:\\Users\\deela\\anaconda3\\lib\\site-packages\\tensorflow\\python\\util\\dispatch.py:1096: UserWarning: \"`sparse_categorical_crossentropy` received `from_logits=True`, but the `output` argument was produced by a sigmoid or softmax activation and thus does not represent logits. Was this intended?\"\n",
      "  return dispatch_target(*args, **kwargs)\n"
     ]
    },
    {
     "name": "stdout",
     "output_type": "stream",
     "text": [
      "  5/312 [..............................] - ETA: 20s - loss: 0.9053 - accuracy: 0.9398"
     ]
    },
    {
     "name": "stderr",
     "output_type": "stream",
     "text": [
      "Callback method `on_train_batch_end` is slow compared to the batch time (batch time: 0.0240s vs `on_train_batch_end` time: 0.0492s). Check your callbacks.\n"
     ]
    },
    {
     "name": "stdout",
     "output_type": "stream",
     "text": [
      "312/312 [==============================] - 17s 40ms/step - loss: 0.8800 - accuracy: 0.9534 - val_loss: 0.8858 - val_accuracy: 0.9513\n",
      "Epoch 2/2\n",
      "312/312 [==============================] - 10s 31ms/step - loss: 0.8716 - accuracy: 0.9578 - val_loss: 0.8841 - val_accuracy: 0.9524\n"
     ]
    },
    {
     "data": {
      "text/plain": [
       "<keras.callbacks.History at 0x25d055e2f10>"
      ]
     },
     "execution_count": 27,
     "metadata": {},
     "output_type": "execute_result"
    }
   ],
   "source": [
    "callbacks = [\n",
    "  tfmot.sparsity.keras.UpdatePruningStep(),\n",
    "  tfmot.sparsity.keras.PruningSummaries(log_dir='logs'),\n",
    "]\n",
    "\n",
    "model_for_pruning.fit(\n",
    "    train_loader,\n",
    "    epochs=2,\n",
    "    validation_data=valid_loader,\n",
    "    callbacks=callbacks\n",
    ")\n"
   ]
  },
  {
   "cell_type": "code",
   "execution_count": 28,
   "metadata": {},
   "outputs": [],
   "source": [
    "model_for_pruning.save_weights('../../tmp/models/pruned_sample_mnist.ckpt')"
   ]
  },
  {
   "cell_type": "markdown",
   "metadata": {},
   "source": [
    "---\n",
    "Comparison between pruned and original model"
   ]
  },
  {
   "cell_type": "markdown",
   "metadata": {},
   "source": [
    "model size"
   ]
  },
  {
   "cell_type": "code",
   "execution_count": 33,
   "metadata": {},
   "outputs": [
    {
     "name": "stdout",
     "output_type": "stream",
     "text": [
      "original model file size : 133289 \n",
      " pruned model file size : 177329 \n",
      " model shrinkage percentage : -0.3304098612788752%\n"
     ]
    }
   ],
   "source": [
    "orig_model_size = os.path.getsize('../../tmp/models/sample_mnist.ckpt.data-00000-of-00001') + os.path.getsize('../../tmp/models/sample_mnist.ckpt.index')\n",
    "pruned_model_size = os.path.getsize('../../tmp/models/pruned_sample_mnist.ckpt.data-00000-of-00001') + os.path.getsize('../../tmp/models/pruned_sample_mnist.ckpt.index')\n",
    "prec = (orig_model_size-pruned_model_size)/orig_model_size\n",
    "print(f' original model file size : {orig_model_size} \\n pruned model file size : {pruned_model_size} \\n model shrinkage percentage : {prec}%')"
   ]
  },
  {
   "cell_type": "markdown",
   "metadata": {},
   "source": [
    "model accuracy"
   ]
  },
  {
   "cell_type": "code",
   "execution_count": 37,
   "metadata": {},
   "outputs": [
    {
     "name": "stdout",
     "output_type": "stream",
     "text": [
      "(10000, 28, 28) (10000,) [2 0 4 ... 8 0 5]\n",
      "(1993, 28, 224) (1993, 8)\n"
     ]
    }
   ],
   "source": [
    "test_dataset = mnist.generate(test_gen, n_sample=2000)\n",
    "test_loader = test_dataset.batch(BS, drop_remainder=True).prefetch(buffer_size=tf.data.AUTOTUNE)"
   ]
  },
  {
   "cell_type": "code",
   "execution_count": 38,
   "metadata": {},
   "outputs": [
    {
     "name": "stdout",
     "output_type": "stream",
     "text": [
      "62/62 [==============================] - 1s 21ms/step - loss: 0.8858 - accuracy: 0.9527\n"
     ]
    }
   ],
   "source": [
    "k = model.evaluate(test_loader)"
   ]
  },
  {
   "cell_type": "code",
   "execution_count": 39,
   "metadata": {},
   "outputs": [
    {
     "name": "stdout",
     "output_type": "stream",
     "text": [
      "62/62 [==============================] - 1s 9ms/step - loss: 0.8858 - accuracy: 0.9527\n"
     ]
    }
   ],
   "source": [
    "k1 = model_for_pruning.evaluate(test_loader)"
   ]
  },
  {
   "cell_type": "code",
   "execution_count": 46,
   "metadata": {},
   "outputs": [
    {
     "name": "stdout",
     "output_type": "stream",
     "text": [
      " \t\t loss \t\t\t accuracy\n",
      "original model > 0.8857819437980652 0.9526839852333069 \n",
      "pruned model   > 0.8857819437980652 0.9526839852333069\n"
     ]
    }
   ],
   "source": [
    "print(f\" \\t\\t loss \\t\\t\\t accuracy\\noriginal model > {k[0]} {k[1]} \\npruned model   > {k1[0]} {k1[1]}\")"
   ]
  },
  {
   "cell_type": "markdown",
   "metadata": {},
   "source": [
    "view pruning logs"
   ]
  },
  {
   "cell_type": "code",
   "execution_count": 50,
   "metadata": {},
   "outputs": [
    {
     "data": {
      "text/plain": [
       "Reusing TensorBoard on port 6006 (pid 45968), started 0:04:39 ago. (Use '!kill 45968' to kill it.)"
      ]
     },
     "metadata": {},
     "output_type": "display_data"
    },
    {
     "data": {
      "text/html": [
       "\n",
       "      <iframe id=\"tensorboard-frame-caed1ebe77668802\" width=\"100%\" height=\"800\" frameborder=\"0\">\n",
       "      </iframe>\n",
       "      <script>\n",
       "        (function() {\n",
       "          const frame = document.getElementById(\"tensorboard-frame-caed1ebe77668802\");\n",
       "          const url = new URL(\"http://localhost\");\n",
       "          const port = 6006;\n",
       "          if (port) {\n",
       "            url.port = port;\n",
       "          }\n",
       "          frame.src = url;\n",
       "        })();\n",
       "      </script>\n",
       "    "
      ],
      "text/plain": [
       "<IPython.core.display.HTML object>"
      ]
     },
     "metadata": {},
     "output_type": "display_data"
    }
   ],
   "source": [
    "%tensorboard --logdir={'logs'}"
   ]
  }
 ],
 "metadata": {
  "kernelspec": {
   "display_name": "Python 3.9.7 ('base')",
   "language": "python",
   "name": "python3"
  },
  "language_info": {
   "codemirror_mode": {
    "name": "ipython",
    "version": 3
   },
   "file_extension": ".py",
   "mimetype": "text/x-python",
   "name": "python",
   "nbconvert_exporter": "python",
   "pygments_lexer": "ipython3",
   "version": "3.9.7"
  },
  "orig_nbformat": 4,
  "vscode": {
   "interpreter": {
    "hash": "08aea5f70877f29c16b88dd2c4446bb1b0b98820cbf110aea5656aecf55fbfb0"
   }
  }
 },
 "nbformat": 4,
 "nbformat_minor": 2
}
