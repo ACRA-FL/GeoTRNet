{
 "cells": [
  {
   "cell_type": "markdown",
   "metadata": {},
   "source": [
    "\n",
    "\n",
    "## Experiment Details\n",
    "__Experiment Id__ : 009 \\\n",
    "__Target__ : test model on alphanumeric sticker dataset \\\n",
    "__Solution__ : \n",
    "- build a dataset from [Standard-OCR](https://www.kaggle.com/datasets/preatcher/standard-ocr-dataset?resource=download) dataset \n",
    "- test the model performance on the new dataset\n",
    "\n",
    "__Empirical result__ : \n",
    "- model shows very high accuracy in both training and validation phases\n",
    "- model prediction is clear\n",
    "- __the dataset represents all alphanumeric latters, mean 36 classes and still model keep-up best performance__ : _model performance independent from the number of target classes_\n",
    "- __the dataset contains different font styles, font size and intensity level per each latter__ : _having good performance mean the model immune to those changes ans model could successfully extract the latter_\n",
    "- __In the dataset stickers inter-latter space changes radically and randomly__ : _but model region identification layers still able to light correct regions and give correct output_"
   ]
  },
  {
   "cell_type": "markdown",
   "metadata": {},
   "source": [
    "---\n",
    "Implementation"
   ]
  },
  {
   "cell_type": "code",
   "execution_count": 24,
   "metadata": {},
   "outputs": [],
   "source": [
    "import tensorflow as tf \n",
    "from tensorflow.keras import layers\n",
    "from tensorflow.keras import losses\n",
    "\n",
    "from tqdm import tqdm\n",
    "import math\n",
    "import os\n",
    "import time\n",
    "import random \n",
    "import pandas as pd \n",
    "import numpy as np\n",
    "from skimage import io, transform \n",
    "import matplotlib.pyplot as plt\n",
    "import seaborn as sns\n",
    "import cv2\n",
    "import json\n",
    "from bidict import bidict\n",
    "from glob import glob \n",
    "\n",
    "import neptune.new as neptune"
   ]
  },
  {
   "cell_type": "markdown",
   "metadata": {},
   "source": [
    "---\n",
    "Set global variables"
   ]
  },
  {
   "cell_type": "code",
   "execution_count": 2,
   "metadata": {},
   "outputs": [
    {
     "data": {
      "text/plain": [
       "[PhysicalDevice(name='/physical_device:GPU:0', device_type='GPU')]"
      ]
     },
     "execution_count": 2,
     "metadata": {},
     "output_type": "execute_result"
    }
   ],
   "source": [
    "gpu_available = tf.config.list_physical_devices('GPU')\n",
    "gpu_available"
   ]
  },
  {
   "cell_type": "code",
   "execution_count": 3,
   "metadata": {},
   "outputs": [],
   "source": [
    "IMAGE_SIZE = (128,48)\n",
    "DATA_BS = 10\n",
    "DATA_N = 10\n",
    "LR = 0.005\n",
    "EPOCHS = 10\n",
    "BS = 32\n"
   ]
  },
  {
   "cell_type": "markdown",
   "metadata": {},
   "source": [
    "---\n",
    "Dataset & Dataloader "
   ]
  },
  {
   "cell_type": "code",
   "execution_count": 4,
   "metadata": {},
   "outputs": [],
   "source": [
    "class StandardOCRDataset(object):\n",
    "\n",
    "    def __init__(self, data_path, n_digits=8, image_size=(156, 32)):\n",
    "        self._path = data_path\n",
    "        self.n_digits = n_digits\n",
    "        self.image_size = image_size\n",
    "\n",
    "    def load_img(self, path):\n",
    "        im_gray = cv2.imread(path, cv2.IMREAD_GRAYSCALE)\n",
    "        rz_path = cv2.resize(im_gray, (28, 28), interpolation=cv2.INTER_AREA)\n",
    "        return rz_path\n",
    "\n",
    "    def load_data(self, data_path, training=True):\n",
    "        if training:\n",
    "            data_path = data_path+'/training_data'\n",
    "        else:\n",
    "            data_path = data_path+'/testing_data'\n",
    "\n",
    "        data = []\n",
    "        label = []\n",
    "        for d in glob(f'{data_path}/*/'):\n",
    "            d = d.replace(os.sep, '/')\n",
    "            c = d.split('/')[-2]\n",
    "            for f in glob(f'{d}/*.png'):\n",
    "                f = f.replace(os.sep, '/')\n",
    "                img = self.load_img(f)\n",
    "                data.append(img)\n",
    "                label.append(c)\n",
    "            \n",
    "        return np.array(data), np.array(label)\n",
    "\n",
    "    def gen_patch(self, img, ann, c=np.inf):\n",
    "        size = img.shape[0]\n",
    "        indexes = np.arange(size)\n",
    "        np.random.shuffle(indexes)\n",
    "        \n",
    "        c_prime = divmod(size, self.n_digits)[0]*self.n_digits\n",
    "        if c_prime < c:\n",
    "            size = c_prime\n",
    "        else:\n",
    "            size = divmod(c, self.n_digits)[0]*self.n_digits\n",
    "\n",
    "        sample_index = indexes[:size]\n",
    "        sticker_index = sample_index.reshape((-1, self.n_digits)).T\n",
    "        sticker_images = np.transpose(np.hstack([np.transpose(img[inds], (0, 2, 1)) for inds in sticker_index]), (0, 2, 1))\n",
    "        sfl_label =  ann[sample_index, ...]\n",
    "        sticker_labels = sfl_label.reshape((-1, self.n_digits))\n",
    "        return sticker_images, sticker_labels\n",
    "\n",
    "    def generate(self, training=True, n_sample=1000):\n",
    "        init_image, init_label = self.load_data(self._path, training)\n",
    "        classes = list(np.unique(init_label))\n",
    "        cl_dict = dict(zip(classes, range(len(classes))))\n",
    "        cl_bidict = bidict(cl_dict)\n",
    "        \n",
    "        def func(x):\n",
    "            return cl_bidict[x]\n",
    "\n",
    "        vfunc = np.vectorize(func)\n",
    "        init_label = vfunc(init_label)\n",
    "\n",
    "        c = n_sample\n",
    "        dt_images, dt_labels = self.gen_patch(init_image, init_label, c)\n",
    "        while c > self.n_digits:\n",
    "            c = n_sample - dt_images.shape[0]\n",
    "            p_images, p_labels = self.gen_patch(init_image, init_label, c)\n",
    "            dt_images, dt_labels = np.vstack((dt_images, p_images)), np.vstack((dt_labels, p_labels))\n",
    "\n",
    "        ret_tensor = tf.convert_to_tensor(np.swapaxes(dt_images, 1, 2), dtype=tf.float32)\n",
    "        ind_tensor = tf.convert_to_tensor(dt_labels, dtype=tf.int32)\n",
    "        dataset = tf.data.Dataset.from_tensor_slices((ret_tensor, ind_tensor))\n",
    "        return dataset, cl_bidict"
   ]
  },
  {
   "cell_type": "code",
   "execution_count": 5,
   "metadata": {},
   "outputs": [],
   "source": [
    "datasetGen = StandardOCRDataset('../../datasets/SOCRN')"
   ]
  },
  {
   "cell_type": "code",
   "execution_count": 6,
   "metadata": {},
   "outputs": [],
   "source": [
    "train_dataset, label_mapper = datasetGen.generate(training=True, n_sample=12000)\n",
    "test_dataset, _ = datasetGen.generate(training=False, n_sample=2000)"
   ]
  },
  {
   "cell_type": "code",
   "execution_count": 7,
   "metadata": {},
   "outputs": [
    {
     "name": "stdout",
     "output_type": "stream",
     "text": [
      "(224, 28)\n",
      "[31 30  2 18 26 33 12  4]\n"
     ]
    },
    {
     "data": {
      "image/png": "[encoded data removed]",
      "text/plain": [
       "<Figure size 432x288 with 1 Axes>"
      ]
     },
     "metadata": {
      "needs_background": "light"
     },
     "output_type": "display_data"
    }
   ],
   "source": [
    "for i in test_dataset.take(1):\n",
    "    img, label = i\n",
    "    print(img.shape)\n",
    "    print(label.numpy())\n",
    "    plt.imshow(img.numpy().T)\n",
    "\n",
    "\n",
    "IMAGE_SIZE = img.shape\n",
    "MAX_OBJ = len(label)\n",
    "N_CLASSES = len(label_mapper)\n"
   ]
  },
  {
   "cell_type": "code",
   "execution_count": 8,
   "metadata": {},
   "outputs": [],
   "source": [
    "train_loader = train_dataset.shuffle(buffer_size=1000).batch(BS, drop_remainder=True).prefetch(buffer_size=tf.data.AUTOTUNE)\n",
    "valid_loader = test_dataset.batch(BS, drop_remainder=True).prefetch(buffer_size=tf.data.AUTOTUNE)"
   ]
  },
  {
   "cell_type": "markdown",
   "metadata": {},
   "source": [
    "---\n",
    "Model Defining"
   ]
  },
  {
   "cell_type": "code",
   "execution_count": 9,
   "metadata": {},
   "outputs": [],
   "source": [
    "class mAP(tf.keras.metrics.Metric):\n",
    "    def __init__(self, name='mAP', alpha=0.9, **kwargs):\n",
    "        super(mAP, self).__init__(name=name, **kwargs)\n",
    "        self.map = self.add_weight(name='map', initializer='zeros')\n",
    "        self.alpha = alpha\n",
    "\n",
    "    def update_state(self, y_true, y_pred):\n",
    "        y_true = tf.cast(y_true, tf.int32)\n",
    "        y_pred = tf.cast(y_pred, tf.float32)\n",
    "        alpha = tf.constant(self.alpha, dtype=tf.float32)\n",
    "        alpha_prime = tf.constant(1-self.alpha, dtype=tf.float32)\n",
    "\n",
    "        res_arr = tf.map_fn(lambda i: tf.math.reduce_mean(tf.keras.metrics.sparse_categorical_accuracy(y_true[i, ...], y_pred[i, ...])), elems=tf.range(y_pred.shape[0]), dtype=tf.float32)\n",
    "        tensor_without_nans = tf.where(tf.math.is_nan(res_arr), tf.zeros_like(res_arr), res_arr)\n",
    "        cur_val = tf.math.reduce_mean(tensor_without_nans, axis=-1)\n",
    "        weighted_avg = tf.math.add(tf.multiply(alpha, self.map), tf.multiply(alpha_prime, cur_val))\n",
    "        self.map.assign(weighted_avg)\n",
    "\n",
    "    def result(self):\n",
    "        return self.map\n"
   ]
  },
  {
   "cell_type": "code",
   "execution_count": 10,
   "metadata": {},
   "outputs": [],
   "source": [
    "class mDP(tf.keras.metrics.Metric):\n",
    "    def __init__(self, name='mDP', n_classes=10, alpha=0.9, **kwargs):\n",
    "        super(mDP, self).__init__(name=name, **kwargs)\n",
    "        self.n = n_classes\n",
    "        self.alpha = alpha\n",
    "        self.mdp = self.add_weight(name='mdp', initializer='zeros')\n",
    "\n",
    "    def update_state(self, y_true, y_pred):\n",
    "        y_true = tf.cast(y_true, tf.int32)\n",
    "        y_pred = tf.cast(y_pred, tf.float32)\n",
    "        alpha = tf.constant(self.alpha, dtype=tf.float32)\n",
    "        alpha_prime = tf.constant(1-self.alpha, dtype=tf.float32)\n",
    "\n",
    "        def func(i):\n",
    "            mask = tf.equal(y_true, tf.constant(i))\n",
    "            ilabels = tf.reshape(tf.boolean_mask(y_true,mask), shape=(-1))\n",
    "            ipreds = tf.reshape(tf.boolean_mask(y_pred,mask), shape=(-1, self.n))\n",
    "            return tf.math.reduce_mean(tf.keras.metrics.sparse_categorical_accuracy(ilabels, ipreds))\n",
    "\n",
    "        res_arr = tf.map_fn(lambda i: func(i), elems=tf.range(self.n), dtype=tf.float32)\n",
    "        tensor_without_nans = tf.where(tf.math.is_nan(res_arr), tf.zeros_like(res_arr), res_arr)\n",
    "        cur_val = tf.math.reduce_mean(tensor_without_nans, axis=-1)\n",
    "        weighted_avg = tf.math.add(tf.multiply(alpha, self.mdp), tf.multiply(alpha_prime, cur_val))\n",
    "        self.mdp.assign(weighted_avg)\n",
    "\n",
    "    def result(self):\n",
    "        return self.mdp"
   ]
  },
  {
   "cell_type": "code",
   "execution_count": 11,
   "metadata": {},
   "outputs": [],
   "source": [
    "class RecNet(tf.keras.Model):\n",
    "\tdef __init__(self, bs=16, input_size=(128, 48), n_classes=10, h_cell=64, latent_size=32, max_obj=15, linear_k=3, rho=0.05):\n",
    "\t\tsuper().__init__()\n",
    "\t\tself.rho = rho\n",
    "\t\tself.bs = bs\n",
    "\t\tself.input_size = input_size\n",
    "\t\tself.n_classes = n_classes  # LSTM module projection size\n",
    "\t\tself.h_cell = h_cell  # LSTM hidden size\n",
    "\t\tself.latent_size = latent_size\n",
    "\t\tself.max_obj = max_obj\n",
    "\t\tself.linear_k = linear_k\n",
    "\t\tself.model = self.build_model(\n",
    "\t\t\tself.input_size, self.h_cell, self.latent_size, self.n_classes, self.max_obj, self.linear_k)\n",
    "\n",
    "\t\tself.scce = losses.SparseCategoricalCrossentropy(from_logits=False,)\n",
    "\n",
    "\t\tself.loss_metric = tf.keras.metrics.Mean(name=\"loss\")\n",
    "\t\tself.acc_metric = tf.keras.metrics.Mean(name=\"accuracy\")\n",
    "\t\tself.mAP = mAP()\n",
    "\t\tself.mDP = mDP(n_classes=self.n_classes)\n",
    "\t\tself.acc_mat = tf.keras.metrics.Accuracy()\n",
    "\n",
    "\tdef build_model(self, input_shape=(128, 48), h_cell=32, latent_size=32, n_classes=10, n_obj=10, linear_k=3):\n",
    "\t\tx_input = layers.Input(shape=input_shape)\n",
    "\t\tforward_layer = layers.LSTM(h_cell//2, return_sequences=True)\n",
    "\t\tx = layers.Bidirectional(forward_layer, input_shape=self.input_size)(x_input)\n",
    "\t\tx = layers.LSTM(latent_size, activation='tanh',\n",
    "\t\t\t\t\t\treturn_sequences=True, go_backwards=True)(x)\n",
    "\t\tx = layers.Conv1D(n_classes, linear_k, activation='tanh')(x)\n",
    "\t\tx = layers.Permute((2, 1))(x)\n",
    "\t\tx = layers.Conv1D(n_obj, 1, activation='tanh')(x)\n",
    "\t\tx = layers.Permute((2, 1))(x)\n",
    "\t\tx_output = layers.Activation('softmax')(x)\n",
    "\n",
    "\t\tmodel = tf.keras.Model(inputs=x_input, outputs=x_output)\n",
    "\t\treturn model\n",
    "\n",
    "\t@property\n",
    "\tdef metrics(self):\n",
    "\t\treturn [self.loss_metric, self.acc_mat]\n",
    "\n",
    "\tdef calculate_loss(self, target, pred):\n",
    "\t\ttarget = tf.reshape(target, shape=(-1))\n",
    "\t\tpred = tf.reshape(pred, shape=(-1, self.n_classes))\n",
    "\t\tloss = self.scce(target, pred)\n",
    "\n",
    "\t\ty_hat = tf.argmax(pred, axis=-1)\n",
    "\t\tacc = self.acc_mat(y_hat, target)\n",
    "\t\treturn loss, acc\n",
    "\n",
    "\tdef call(self, x):\n",
    "\t\tfull_out = self.model(x)\n",
    "\t\treturn full_out\n",
    "\n",
    "\tdef train_step(self, batch_data):\n",
    "\t\tx, target = batch_data\n",
    "\t\te_ws = []\n",
    "\t\twith tf.GradientTape() as tape:\n",
    "\t\t\tpred = self(x, training=True)\n",
    "\t\t\t# print(pred.shape, pred)\n",
    "\t\t\tloss, acc = self.calculate_loss(target, pred)\n",
    "\n",
    "\t\ttrainable_params = self.trainable_variables\n",
    "\t\tgradients = tape.gradient(loss, trainable_params)\n",
    "\t\tgrad_norm = self._grad_norm(gradients)\n",
    "\t\tscale = self.rho / (grad_norm + 1e-12)\n",
    "\n",
    "\t\tfor (grad, param) in zip(gradients, trainable_params):\n",
    "\t\t\te_w = grad*scale \n",
    "\t\t\tparam.assign_add(e_w)\n",
    "\t\t\te_ws.append(e_w)\n",
    "\n",
    "\t\twith tf.GradientTape() as tape:\n",
    "\t\t\tpred = self(x, training=True)\n",
    "\t\t\tloss, acc = self.calculate_loss(target, pred)\n",
    "\n",
    "\t\tsam_gradient = tape.gradient(loss, trainable_params)\n",
    "\t\tfor (param, e_w) in zip(trainable_params, e_ws):\n",
    "\t\t\tparam.assign_sub(e_w)\n",
    "\n",
    "\t\tself.optimizer.apply_gradients(zip(sam_gradient, trainable_params))\n",
    "\t\tself.loss_metric.update_state(loss)\n",
    "\t\tself.acc_metric.update_state(acc)\n",
    "\t\tself.mAP.update_state(target, pred)\n",
    "\t\tself.mDP.update_state(target, pred)\n",
    "\t\treturn {\n",
    "\t\t\t\"loss\": self.loss_metric.result(),\n",
    "\t\t\t\"accuracy\": self.acc_mat.result(),\n",
    "\t\t\t\"mAP\": self.mAP.result(),\n",
    "\t\t\t\"mDP\": self.mDP.result()\n",
    "\t\t}\n",
    "\n",
    "\tdef test_step(self, batch_data):\n",
    "\t\tx, target = batch_data\n",
    "\n",
    "\t\tpred = self(x, training=False)\n",
    "\t\tloss, acc = self.calculate_loss(target, pred)\n",
    "\n",
    "\t\tself.loss_metric.update_state(loss)\n",
    "\t\tself.acc_metric.update_state(acc)\n",
    "\t\tself.mAP.update_state(target, pred)\n",
    "\t\tself.mDP.update_state(target, pred)\n",
    "\t\treturn {\n",
    "\t\t\t\"loss\": self.loss_metric.result(),\n",
    "\t\t\t\"accuracy\": self.acc_mat.result(),\n",
    "\t\t\t\"mAP\": self.mAP.result(),\n",
    "\t\t\t\"mDP\": self.mDP.result()\n",
    "\t\t}\n",
    "\n",
    "\tdef _grad_norm(self, gradients):\n",
    "\t\tnorm = tf.norm(\n",
    "\t\t\ttf.stack([\n",
    "\t\t\t\ttf.norm(grad) for grad in gradients if grad is not None\n",
    "\t\t\t])\n",
    "\t\t)\n",
    "\t\treturn norm\n"
   ]
  },
  {
   "cell_type": "markdown",
   "metadata": {},
   "source": [
    "---\n",
    "Set up model training details"
   ]
  },
  {
   "cell_type": "code",
   "execution_count": 14,
   "metadata": {},
   "outputs": [],
   "source": [
    "def lr_time_based_decay(epoch, lr):\n",
    "    decay = 0.001\n",
    "    return lr * 1 / (1 + decay * epoch)\n",
    "\n",
    "def lr_step_decay(epoch, lr):\n",
    "    drop_rate = 0.5\n",
    "    epochs_drop = 10.0\n",
    "    return LR * math.pow(drop_rate, math.floor(epoch/epochs_drop))\n",
    "\n",
    "def lr_exp_decay(epoch, lr):\n",
    "    k = 0.1\n",
    "    return LR * math.exp(-k*epoch)\n",
    "\n",
    "decay_steps = 500\n",
    "# lr_decayed_fn = tf.keras.optimizers.schedules.CosineDecay(\n",
    "#     LR, decay_steps)\n",
    "\n",
    "lr_decaying_callback = tf.keras.callbacks.LearningRateScheduler(lr_step_decay, verbose=1)"
   ]
  },
  {
   "cell_type": "code",
   "execution_count": 15,
   "metadata": {},
   "outputs": [],
   "source": [
    "earlystopping_callback = tf.keras.callbacks.EarlyStopping(\n",
    "                            monitor='val_accuracy',\n",
    "                            min_delta=0,\n",
    "                            patience=5,\n",
    "                            restore_best_weights=True\n",
    "                        )"
   ]
  },
  {
   "cell_type": "code",
   "execution_count": 16,
   "metadata": {},
   "outputs": [],
   "source": [
    "optimizer = tf.keras.optimizers.Adam(\n",
    "    learning_rate=LR,\n",
    ")"
   ]
  },
  {
   "cell_type": "code",
   "execution_count": 17,
   "metadata": {},
   "outputs": [],
   "source": [
    "# model = RecNet(bs=BS)\n",
    "model = RecNet(input_size=IMAGE_SIZE,\n",
    "                bs=BS,\n",
    "                n_classes=N_CLASSES,\n",
    "                h_cell=32,\n",
    "                max_obj=MAX_OBJ,\n",
    "                linear_k=3)\n",
    "model.compile(optimizer, loss='categorical_crossentropy', run_eagerly=True)"
   ]
  },
  {
   "cell_type": "code",
   "execution_count": 19,
   "metadata": {},
   "outputs": [
    {
     "name": "stdout",
     "output_type": "stream",
     "text": [
      "Model: \"model_1\"\n",
      "_________________________________________________________________\n",
      " Layer (type)                Output Shape              Param #   \n",
      "=================================================================\n",
      " input_2 (InputLayer)        [(None, 224, 28)]         0         \n",
      "                                                                 \n",
      " bidirectional_1 (Bidirectio  (None, 224, 32)          5760      \n",
      " nal)                                                            \n",
      "                                                                 \n",
      " lstm_3 (LSTM)               (None, 224, 32)           8320      \n",
      "                                                                 \n",
      " conv1d_2 (Conv1D)           (None, 222, 36)           3492      \n",
      "                                                                 \n",
      " permute_2 (Permute)         (None, 36, 222)           0         \n",
      "                                                                 \n",
      " conv1d_3 (Conv1D)           (None, 36, 8)             1784      \n",
      "                                                                 \n",
      " permute_3 (Permute)         (None, 8, 36)             0         \n",
      "                                                                 \n",
      " activation_1 (Activation)   (None, 8, 36)             0         \n",
      "                                                                 \n",
      "=================================================================\n",
      "Total params: 19,356\n",
      "Trainable params: 19,356\n",
      "Non-trainable params: 0\n",
      "_________________________________________________________________\n"
     ]
    }
   ],
   "source": [
    "model.model.summary()"
   ]
  },
  {
   "cell_type": "code",
   "execution_count": 20,
   "metadata": {},
   "outputs": [
    {
     "name": "stdout",
     "output_type": "stream",
     "text": [
      "\n",
      "Epoch 00001: LearningRateScheduler setting learning rate to 0.005.\n",
      "Epoch 1/20\n",
      "374/374 [==============================] - 209s 528ms/step - loss: 2.3798 - accuracy: 0.6423 - mAP: 0.6063 - mDP: 0.6066 - val_loss: 1.8534 - val_accuracy: 0.9226 - val_mAP: 0.9163 - val_mDP: 0.9246 - lr: 0.0050\n",
      "\n",
      "Epoch 00002: LearningRateScheduler setting learning rate to 0.005.\n",
      "Epoch 2/20\n",
      "374/374 [==============================] - 203s 544ms/step - loss: 1.9456 - accuracy: 0.8799 - mAP: 0.8710 - mDP: 0.8709 - val_loss: 1.8159 - val_accuracy: 0.9395 - val_mAP: 0.9337 - val_mDP: 0.9409 - lr: 0.0050\n",
      "\n",
      "Epoch 00003: LearningRateScheduler setting learning rate to 0.005.\n",
      "Epoch 3/20\n",
      "374/374 [==============================] - 207s 554ms/step - loss: 1.9094 - accuracy: 0.8958 - mAP: 0.8902 - mDP: 0.8897 - val_loss: 1.8269 - val_accuracy: 0.9252 - val_mAP: 0.9192 - val_mDP: 0.9258 - lr: 0.0050\n",
      "\n",
      "Epoch 00004: LearningRateScheduler setting learning rate to 0.005.\n",
      "Epoch 4/20\n",
      "374/374 [==============================] - 217s 579ms/step - loss: 1.8847 - accuracy: 0.9050 - mAP: 0.9001 - mDP: 0.9016 - val_loss: 1.8127 - val_accuracy: 0.9415 - val_mAP: 0.9355 - val_mDP: 0.9386 - lr: 0.0050\n",
      "\n",
      "Epoch 00005: LearningRateScheduler setting learning rate to 0.005.\n",
      "Epoch 5/20\n",
      "374/374 [==============================] - 230s 615ms/step - loss: 1.8796 - accuracy: 0.9096 - mAP: 0.9049 - mDP: 0.9042 - val_loss: 1.8019 - val_accuracy: 0.9514 - val_mAP: 0.9483 - val_mDP: 0.9501 - lr: 0.0050\n",
      "\n",
      "Epoch 00006: LearningRateScheduler setting learning rate to 0.005.\n",
      "Epoch 6/20\n",
      "374/374 [==============================] - 268s 717ms/step - loss: 1.8686 - accuracy: 0.9133 - mAP: 0.9091 - mDP: 0.9099 - val_loss: 1.7854 - val_accuracy: 0.9624 - val_mAP: 0.9601 - val_mDP: 0.9627 - lr: 0.0050\n",
      "\n",
      "Epoch 00007: LearningRateScheduler setting learning rate to 0.005.\n",
      "Epoch 7/20\n",
      "374/374 [==============================] - 225s 601ms/step - loss: 1.8897 - accuracy: 0.9003 - mAP: 0.8960 - mDP: 0.8956 - val_loss: 1.8091 - val_accuracy: 0.9311 - val_mAP: 0.9312 - val_mDP: 0.9319 - lr: 0.0050\n",
      "\n",
      "Epoch 00008: LearningRateScheduler setting learning rate to 0.005.\n",
      "Epoch 8/20\n",
      "374/374 [==============================] - 218s 582ms/step - loss: 1.8610 - accuracy: 0.9145 - mAP: 0.9112 - mDP: 0.9112 - val_loss: 1.8111 - val_accuracy: 0.9323 - val_mAP: 0.9267 - val_mDP: 0.9284 - lr: 0.0050\n",
      "\n",
      "Epoch 00009: LearningRateScheduler setting learning rate to 0.005.\n",
      "Epoch 9/20\n",
      "374/374 [==============================] - 241s 644ms/step - loss: 1.8506 - accuracy: 0.9211 - mAP: 0.9183 - mDP: 0.9182 - val_loss: 1.7875 - val_accuracy: 0.9616 - val_mAP: 0.9582 - val_mDP: 0.9611 - lr: 0.0050\n",
      "\n",
      "Epoch 00010: LearningRateScheduler setting learning rate to 0.005.\n",
      "Epoch 10/20\n",
      "374/374 [==============================] - 256s 684ms/step - loss: 1.8557 - accuracy: 0.9162 - mAP: 0.9146 - mDP: 0.9145 - val_loss: 1.8289 - val_accuracy: 0.9274 - val_mAP: 0.9250 - val_mDP: 0.9265 - lr: 0.0050\n",
      "\n",
      "Epoch 00011: LearningRateScheduler setting learning rate to 0.0025.\n",
      "Epoch 11/20\n",
      "374/374 [==============================] - 243s 650ms/step - loss: 1.8286 - accuracy: 0.9309 - mAP: 0.9287 - mDP: 0.9290 - val_loss: 1.7676 - val_accuracy: 0.9665 - val_mAP: 0.9630 - val_mDP: 0.9654 - lr: 0.0025\n",
      "\n",
      "Epoch 00012: LearningRateScheduler setting learning rate to 0.0025.\n",
      "Epoch 12/20\n",
      "374/374 [==============================] - 209s 559ms/step - loss: 1.8223 - accuracy: 0.9356 - mAP: 0.9346 - mDP: 0.9347 - val_loss: 1.7642 - val_accuracy: 0.9672 - val_mAP: 0.9648 - val_mDP: 0.9676 - lr: 0.0025\n",
      "\n",
      "Epoch 00013: LearningRateScheduler setting learning rate to 0.0025.\n",
      "Epoch 13/20\n",
      "374/374 [==============================] - 207s 553ms/step - loss: 1.8215 - accuracy: 0.9370 - mAP: 0.9359 - mDP: 0.9354 - val_loss: 1.7634 - val_accuracy: 0.9713 - val_mAP: 0.9684 - val_mDP: 0.9708 - lr: 0.0025\n",
      "\n",
      "Epoch 00014: LearningRateScheduler setting learning rate to 0.0025.\n",
      "Epoch 14/20\n",
      "374/374 [==============================] - 201s 536ms/step - loss: 1.8196 - accuracy: 0.9404 - mAP: 0.9392 - mDP: 0.9390 - val_loss: 1.7659 - val_accuracy: 0.9712 - val_mAP: 0.9671 - val_mDP: 0.9700 - lr: 0.0025\n",
      "\n",
      "Epoch 00015: LearningRateScheduler setting learning rate to 0.0025.\n",
      "Epoch 15/20\n",
      "374/374 [==============================] - 211s 565ms/step - loss: 1.8259 - accuracy: 0.9354 - mAP: 0.9342 - mDP: 0.9342 - val_loss: 1.7674 - val_accuracy: 0.9686 - val_mAP: 0.9653 - val_mDP: 0.9657 - lr: 0.0025\n",
      "\n",
      "Epoch 00016: LearningRateScheduler setting learning rate to 0.0025.\n",
      "Epoch 16/20\n",
      "374/374 [==============================] - 220s 587ms/step - loss: 1.8288 - accuracy: 0.9330 - mAP: 0.9309 - mDP: 0.9311 - val_loss: 1.7635 - val_accuracy: 0.9696 - val_mAP: 0.9667 - val_mDP: 0.9695 - lr: 0.0025\n",
      "\n",
      "Epoch 00017: LearningRateScheduler setting learning rate to 0.0025.\n",
      "Epoch 17/20\n",
      "374/374 [==============================] - 202s 541ms/step - loss: 1.8198 - accuracy: 0.9397 - mAP: 0.9382 - mDP: 0.9386 - val_loss: 1.7717 - val_accuracy: 0.9722 - val_mAP: 0.9701 - val_mDP: 0.9721 - lr: 0.0025\n",
      "\n",
      "Epoch 00018: LearningRateScheduler setting learning rate to 0.0025.\n",
      "Epoch 18/20\n",
      "374/374 [==============================] - 195s 521ms/step - loss: 1.8152 - accuracy: 0.9438 - mAP: 0.9423 - mDP: 0.9420 - val_loss: 1.7614 - val_accuracy: 0.9708 - val_mAP: 0.9686 - val_mDP: 0.9732 - lr: 0.0025\n",
      "\n",
      "Epoch 00019: LearningRateScheduler setting learning rate to 0.0025.\n",
      "Epoch 19/20\n",
      "374/374 [==============================] - 196s 523ms/step - loss: 1.8138 - accuracy: 0.9428 - mAP: 0.9417 - mDP: 0.9415 - val_loss: 1.7661 - val_accuracy: 0.9708 - val_mAP: 0.9681 - val_mDP: 0.9707 - lr: 0.0025\n",
      "\n",
      "Epoch 00020: LearningRateScheduler setting learning rate to 0.0025.\n",
      "Epoch 20/20\n",
      "374/374 [==============================] - 195s 522ms/step - loss: 1.8198 - accuracy: 0.9379 - mAP: 0.9365 - mDP: 0.9361 - val_loss: 1.7632 - val_accuracy: 0.9663 - val_mAP: 0.9624 - val_mDP: 0.9668 - lr: 0.0025\n"
     ]
    },
    {
     "data": {
      "text/plain": [
       "<keras.callbacks.History at 0x2e06c3eccd0>"
      ]
     },
     "execution_count": 20,
     "metadata": {},
     "output_type": "execute_result"
    }
   ],
   "source": [
    "model.fit(\n",
    "    train_loader,\n",
    "    epochs=20,\n",
    "    validation_data=valid_loader,\n",
    "    callbacks=[earlystopping_callback,\n",
    "               lr_decaying_callback]\n",
    ")"
   ]
  },
  {
   "cell_type": "markdown",
   "metadata": {},
   "source": [
    "---\n",
    "Model Prediction & Evaluation"
   ]
  },
  {
   "cell_type": "code",
   "execution_count": 21,
   "metadata": {},
   "outputs": [],
   "source": [
    "# Generate test dataset \n",
    "test_dataset, _ = datasetGen.generate(training=False, n_sample=2000)\n",
    "test_loader = test_dataset.batch(BS, drop_remainder=True).prefetch(buffer_size=tf.data.AUTOTUNE)"
   ]
  },
  {
   "cell_type": "code",
   "execution_count": 25,
   "metadata": {},
   "outputs": [],
   "source": [
    "def model_evaluator(model, dt_loader, n_classes):\n",
    "    map_mat = mAP()\n",
    "    mdp_mat = mDP(n_classes=n_classes)\n",
    "    acc_mat = tf.keras.metrics.Accuracy()\n",
    "    time_mat = []\n",
    "    for bt in dt_loader:\n",
    "        x, target = bt\n",
    "        start_time = time.time()\n",
    "        pred = model(x)\n",
    "        end_time = time.time()\n",
    "        time_mat.append((end_time-start_time)/BS)\n",
    "\n",
    "        map_mat.update_state(target, pred)\n",
    "        mdp_mat.update_state(target, pred)\n",
    "        pred = tf.reshape(pred, shape=(-1, n_classes))\n",
    "        y_hat = tf.argmax(pred, axis=-1)\n",
    "        target = tf.reshape(target, shape=(-1))\n",
    "        # print(y_hat.shape, pred.shape, target.shape)\n",
    "        acc_mat.update_state(y_hat, target)\n",
    "        break\n",
    "    mean_time = sum(time_mat)/ len(time_mat)\n",
    "    print({\n",
    "        'Accuracy': acc_mat.result().numpy(),\n",
    "        'mAP': map_mat.result().numpy(),\n",
    "        'mDP': mdp_mat.result().numpy(),\n",
    "        'mean_average_execution_time': mean_time\n",
    "    })"
   ]
  },
  {
   "cell_type": "code",
   "execution_count": 26,
   "metadata": {},
   "outputs": [
    {
     "name": "stdout",
     "output_type": "stream",
     "text": [
      "{'Accuracy': 0.95703125, 'mAP': 0.095703125, 'mDP': 0.097183146, 'mean_average_execution_time': 0.0008405819535255432}\n"
     ]
    }
   ],
   "source": [
    "model_evaluator(model, test_loader, N_CLASSES)"
   ]
  },
  {
   "cell_type": "markdown",
   "metadata": {},
   "source": [
    "---\n",
    "* Individual prediction & labeling "
   ]
  },
  {
   "cell_type": "code",
   "execution_count": 27,
   "metadata": {},
   "outputs": [],
   "source": [
    "for s in test_dataset.take(10):\n",
    "    test_image, test_label = s\n",
    "     \n",
    "\n",
    "test_class = test_label.numpy()\n"
   ]
  },
  {
   "cell_type": "code",
   "execution_count": 28,
   "metadata": {},
   "outputs": [
    {
     "data": {
      "text/plain": [
       "array([23, 34, 10, 28, 22, 27, 23,  7])"
      ]
     },
     "execution_count": 28,
     "metadata": {},
     "output_type": "execute_result"
    }
   ],
   "source": [
    "test_class"
   ]
  },
  {
   "cell_type": "code",
   "execution_count": 29,
   "metadata": {},
   "outputs": [],
   "source": [
    "sample = tf.expand_dims(test_image, axis=0)\n",
    "sample_output = model(sample)"
   ]
  },
  {
   "cell_type": "code",
   "execution_count": 30,
   "metadata": {},
   "outputs": [
    {
     "data": {
      "text/plain": [
       "TensorShape([1, 8, 36])"
      ]
     },
     "execution_count": 30,
     "metadata": {},
     "output_type": "execute_result"
    }
   ],
   "source": [
    "sample_output.shape"
   ]
  },
  {
   "cell_type": "code",
   "execution_count": 31,
   "metadata": {},
   "outputs": [
    {
     "name": "stdout",
     "output_type": "stream",
     "text": [
      "[23 34 10 28 22 27 23  7]\n",
      "['N', 'Y', 'A', 'S', 'M', 'R', 'N', '7']\n"
     ]
    }
   ],
   "source": [
    "pred_classes = tf.argmax(sample_output[0], axis=1).numpy()\n",
    "pred_labels = [label_mapper.inverse[i] for i in pred_classes]\n",
    "print(pred_classes)\n",
    "print(pred_labels)"
   ]
  },
  {
   "cell_type": "code",
   "execution_count": 33,
   "metadata": {},
   "outputs": [
    {
     "data": {
      "text/plain": [
       "dict_keys(['0', '1', '2', '3', '4', '5', '6', '7', '8', '9', 'A', 'B', 'C', 'D', 'E', 'F', 'G', 'H', 'I', 'J', 'K', 'L', 'M', 'N', 'O', 'P', 'Q', 'R', 'S', 'T', 'U', 'V', 'W', 'X', 'Y', 'Z'])"
      ]
     },
     "execution_count": 33,
     "metadata": {},
     "output_type": "execute_result"
    }
   ],
   "source": [
    "label_mapper.keys()"
   ]
  },
  {
   "cell_type": "code",
   "execution_count": 41,
   "metadata": {},
   "outputs": [],
   "source": [
    "def pred_eval_plot(pred_heatmap, image, ylabels, figsize=(10, 15)):\n",
    "    fig, axes = plt.subplots(2, 1, figsize=figsize,)\n",
    "    sns.heatmap(ax=axes[0], data=pred_heatmap, linewidths=1, cbar=False, cmap='Blues', yticklabels=ylabels)\n",
    "    axes[1].imshow(image, cmap='gray', aspect='equal')\n",
    "    plt.show()"
   ]
  },
  {
   "cell_type": "code",
   "execution_count": 42,
   "metadata": {},
   "outputs": [
    {
     "data": {
      "image/png": "[encoded data removed]",
      "text/plain": [
       "<Figure size 720x1080 with 2 Axes>"
      ]
     },
     "metadata": {
      "needs_background": "light"
     },
     "output_type": "display_data"
    }
   ],
   "source": [
    "pred_eval_plot(sample_output[0, ...].numpy().T, test_image.numpy().T, list(label_mapper.keys()))"
   ]
  },
  {
   "cell_type": "markdown",
   "metadata": {},
   "source": [
    "---"
   ]
  }
 ],
 "metadata": {
  "interpreter": {
   "hash": "08aea5f70877f29c16b88dd2c4446bb1b0b98820cbf110aea5656aecf55fbfb0"
  },
  "kernelspec": {
   "display_name": "Python 3.9.7 ('base')",
   "language": "python",
   "name": "python3"
  },
  "language_info": {
   "codemirror_mode": {
    "name": "ipython",
    "version": 3
   },
   "file_extension": ".py",
   "mimetype": "text/x-python",
   "name": "python",
   "nbconvert_exporter": "python",
   "pygments_lexer": "ipython3",
   "version": "3.9.7"
  },
  "orig_nbformat": 4
 },
 "nbformat": 4,
 "nbformat_minor": 2
}
